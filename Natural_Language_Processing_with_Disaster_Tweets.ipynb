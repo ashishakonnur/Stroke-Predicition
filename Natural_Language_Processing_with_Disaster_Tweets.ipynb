{
  "nbformat": 4,
  "nbformat_minor": 0,
  "metadata": {
    "colab": {
      "provenance": [],
      "toc_visible": true,
      "mount_file_id": "1yBihY5jzMMJnm-_qXHwmwHrl4xL0jzfe",
      "authorship_tag": "ABX9TyOPAOe+jqDvsnEF999UfkSS",
      "include_colab_link": true
    },
    "kernelspec": {
      "name": "python3",
      "display_name": "Python 3"
    },
    "language_info": {
      "name": "python"
    }
  },
  "cells": [
    {
      "cell_type": "markdown",
      "metadata": {
        "id": "view-in-github",
        "colab_type": "text"
      },
      "source": [
        "<a href=\"https://colab.research.google.com/github/ashishakonnur/Stroke-Predicition/blob/main/Natural_Language_Processing_with_Disaster_Tweets.ipynb\" target=\"_parent\"><img src=\"https://colab.research.google.com/assets/colab-badge.svg\" alt=\"Open In Colab\"/></a>"
      ]
    },
    {
      "cell_type": "markdown",
      "source": [
        "https://www.kaggle.com/competitions/nlp-getting-started"
      ],
      "metadata": {
        "id": "YHBULgXTNHGi"
      }
    },
    {
      "cell_type": "markdown",
      "source": [
        "## Introduction\n",
        "\n",
        "Twitter has become an important communication channel in times of emergency.\n",
        "The ubiquitousness of smartphones enables people to announce an emergency they’re observing in real-time. Because of this, more agencies are interested in programatically monitoring Twitter (i.e. disaster relief organizations and news agencies).\n",
        "\n",
        "But, it’s not always clear whether a person’s words are actually announcing a disaster. Take this example:\n",
        "\n",
        "\n",
        "\n",
        "\n",
        "\n",
        "The author explicitly uses the word “ABLAZE” but means it metaphorically. This is clear to a human right away, especially with the visual aid. But it’s less clear to a machine.\n",
        "\n",
        "In this competition, you’re challenged to build a machine learning model that predicts which Tweets are about real disasters and which one’s aren’t. You’ll have access to a dataset of 10,000 tweets that were hand classified. If this is your first time working on an NLP problem, we've created a quick tutorial to get you up and running.\n",
        "\n",
        "Disclaimer: The dataset for this competition contains text that may be considered profane, vulgar, or offensive.\n",
        "\n",
        "\n"
      ],
      "metadata": {
        "id": "t97zo80WNWfZ"
      }
    },
    {
      "cell_type": "code",
      "source": [
        "# Import Libraries\n",
        "\n",
        "import pandas as pd\n",
        "import matplotlib.pyplot as plt\n",
        "import seaborn as sns\n",
        "import numpy as np\n",
        "# import nltk\n",
        "# nltk.download('stopwords')\n",
        "# from nltk.corpus import stopwords\n",
        "# from nltk.util import ngrams\n",
        "from sklearn.feature_extraction.text import CountVectorizer\n",
        "from collections import defaultdict\n",
        "from collections import  Counter\n",
        "plt.style.use('ggplot')\n",
        "stop=set(stopwords.words('english'))\n",
        "import re\n",
        "# from nltk.tokenize import word_tokenize\n",
        "# import gensim\n",
        "# import string\n",
        "# from keras.preprocessing.text import Tokenizer\n",
        "# from keras.preprocessing.sequence import pad_sequences\n",
        "\n",
        "# from keras.models import Sequential\n",
        "# from keras.layers import Embedding,LSTM,Dense,SpatialDropout1D\n",
        "# from keras.initializers import Constant\n",
        "# from sklearn.model_selection import train_test_split\n",
        "# from keras.optimizers import Adam"
      ],
      "metadata": {
        "id": "CZRW6kKmOXEN"
      },
      "execution_count": null,
      "outputs": []
    },
    {
      "cell_type": "code",
      "source": [
        "tweet = pd.read_csv('/content/drive/MyDrive/Colab Notebooks/nlp-getting-started/train.csv')\n",
        "test = pd.read_csv('/content/drive/MyDrive/Colab Notebooks/nlp-getting-started/test.csv')\n",
        "test.head(5)"
      ],
      "metadata": {
        "colab": {
          "base_uri": "https://localhost:8080/",
          "height": 204
        },
        "id": "GKW-pJATO0d-",
        "outputId": "91009e3f-333e-4476-995c-f84258308dfb"
      },
      "execution_count": null,
      "outputs": [
        {
          "output_type": "execute_result",
          "data": {
            "text/plain": [
              "   id keyword location                                               text\n",
              "0   0     NaN      NaN                 Just happened a terrible car crash\n",
              "1   2     NaN      NaN  Heard about #earthquake is different cities, s...\n",
              "2   3     NaN      NaN  there is a forest fire at spot pond, geese are...\n",
              "3   9     NaN      NaN           Apocalypse lighting. #Spokane #wildfires\n",
              "4  11     NaN      NaN      Typhoon Soudelor kills 28 in China and Taiwan"
            ],
            "text/html": [
              "\n",
              "  <div id=\"df-11d7d992-ea47-45f9-a1be-610ddbd82532\" class=\"colab-df-container\">\n",
              "    <div>\n",
              "<style scoped>\n",
              "    .dataframe tbody tr th:only-of-type {\n",
              "        vertical-align: middle;\n",
              "    }\n",
              "\n",
              "    .dataframe tbody tr th {\n",
              "        vertical-align: top;\n",
              "    }\n",
              "\n",
              "    .dataframe thead th {\n",
              "        text-align: right;\n",
              "    }\n",
              "</style>\n",
              "<table border=\"1\" class=\"dataframe\">\n",
              "  <thead>\n",
              "    <tr style=\"text-align: right;\">\n",
              "      <th></th>\n",
              "      <th>id</th>\n",
              "      <th>keyword</th>\n",
              "      <th>location</th>\n",
              "      <th>text</th>\n",
              "    </tr>\n",
              "  </thead>\n",
              "  <tbody>\n",
              "    <tr>\n",
              "      <th>0</th>\n",
              "      <td>0</td>\n",
              "      <td>NaN</td>\n",
              "      <td>NaN</td>\n",
              "      <td>Just happened a terrible car crash</td>\n",
              "    </tr>\n",
              "    <tr>\n",
              "      <th>1</th>\n",
              "      <td>2</td>\n",
              "      <td>NaN</td>\n",
              "      <td>NaN</td>\n",
              "      <td>Heard about #earthquake is different cities, s...</td>\n",
              "    </tr>\n",
              "    <tr>\n",
              "      <th>2</th>\n",
              "      <td>3</td>\n",
              "      <td>NaN</td>\n",
              "      <td>NaN</td>\n",
              "      <td>there is a forest fire at spot pond, geese are...</td>\n",
              "    </tr>\n",
              "    <tr>\n",
              "      <th>3</th>\n",
              "      <td>9</td>\n",
              "      <td>NaN</td>\n",
              "      <td>NaN</td>\n",
              "      <td>Apocalypse lighting. #Spokane #wildfires</td>\n",
              "    </tr>\n",
              "    <tr>\n",
              "      <th>4</th>\n",
              "      <td>11</td>\n",
              "      <td>NaN</td>\n",
              "      <td>NaN</td>\n",
              "      <td>Typhoon Soudelor kills 28 in China and Taiwan</td>\n",
              "    </tr>\n",
              "  </tbody>\n",
              "</table>\n",
              "</div>\n",
              "    <div class=\"colab-df-buttons\">\n",
              "\n",
              "  <div class=\"colab-df-container\">\n",
              "    <button class=\"colab-df-convert\" onclick=\"convertToInteractive('df-11d7d992-ea47-45f9-a1be-610ddbd82532')\"\n",
              "            title=\"Convert this dataframe to an interactive table.\"\n",
              "            style=\"display:none;\">\n",
              "\n",
              "  <svg xmlns=\"http://www.w3.org/2000/svg\" height=\"24px\" viewBox=\"0 -960 960 960\">\n",
              "    <path d=\"M120-120v-720h720v720H120Zm60-500h600v-160H180v160Zm220 220h160v-160H400v160Zm0 220h160v-160H400v160ZM180-400h160v-160H180v160Zm440 0h160v-160H620v160ZM180-180h160v-160H180v160Zm440 0h160v-160H620v160Z\"/>\n",
              "  </svg>\n",
              "    </button>\n",
              "\n",
              "  <style>\n",
              "    .colab-df-container {\n",
              "      display:flex;\n",
              "      gap: 12px;\n",
              "    }\n",
              "\n",
              "    .colab-df-convert {\n",
              "      background-color: #E8F0FE;\n",
              "      border: none;\n",
              "      border-radius: 50%;\n",
              "      cursor: pointer;\n",
              "      display: none;\n",
              "      fill: #1967D2;\n",
              "      height: 32px;\n",
              "      padding: 0 0 0 0;\n",
              "      width: 32px;\n",
              "    }\n",
              "\n",
              "    .colab-df-convert:hover {\n",
              "      background-color: #E2EBFA;\n",
              "      box-shadow: 0px 1px 2px rgba(60, 64, 67, 0.3), 0px 1px 3px 1px rgba(60, 64, 67, 0.15);\n",
              "      fill: #174EA6;\n",
              "    }\n",
              "\n",
              "    .colab-df-buttons div {\n",
              "      margin-bottom: 4px;\n",
              "    }\n",
              "\n",
              "    [theme=dark] .colab-df-convert {\n",
              "      background-color: #3B4455;\n",
              "      fill: #D2E3FC;\n",
              "    }\n",
              "\n",
              "    [theme=dark] .colab-df-convert:hover {\n",
              "      background-color: #434B5C;\n",
              "      box-shadow: 0px 1px 3px 1px rgba(0, 0, 0, 0.15);\n",
              "      filter: drop-shadow(0px 1px 2px rgba(0, 0, 0, 0.3));\n",
              "      fill: #FFFFFF;\n",
              "    }\n",
              "  </style>\n",
              "\n",
              "    <script>\n",
              "      const buttonEl =\n",
              "        document.querySelector('#df-11d7d992-ea47-45f9-a1be-610ddbd82532 button.colab-df-convert');\n",
              "      buttonEl.style.display =\n",
              "        google.colab.kernel.accessAllowed ? 'block' : 'none';\n",
              "\n",
              "      async function convertToInteractive(key) {\n",
              "        const element = document.querySelector('#df-11d7d992-ea47-45f9-a1be-610ddbd82532');\n",
              "        const dataTable =\n",
              "          await google.colab.kernel.invokeFunction('convertToInteractive',\n",
              "                                                    [key], {});\n",
              "        if (!dataTable) return;\n",
              "\n",
              "        const docLinkHtml = 'Like what you see? Visit the ' +\n",
              "          '<a target=\"_blank\" href=https://colab.research.google.com/notebooks/data_table.ipynb>data table notebook</a>'\n",
              "          + ' to learn more about interactive tables.';\n",
              "        element.innerHTML = '';\n",
              "        dataTable['output_type'] = 'display_data';\n",
              "        await google.colab.output.renderOutput(dataTable, element);\n",
              "        const docLink = document.createElement('div');\n",
              "        docLink.innerHTML = docLinkHtml;\n",
              "        element.appendChild(docLink);\n",
              "      }\n",
              "    </script>\n",
              "  </div>\n",
              "\n",
              "\n",
              "<div id=\"df-fb7bd979-2dba-4a87-aced-52c57049045c\">\n",
              "  <button class=\"colab-df-quickchart\" onclick=\"quickchart('df-fb7bd979-2dba-4a87-aced-52c57049045c')\"\n",
              "            title=\"Suggest charts.\"\n",
              "            style=\"display:none;\">\n",
              "\n",
              "<svg xmlns=\"http://www.w3.org/2000/svg\" height=\"24px\"viewBox=\"0 0 24 24\"\n",
              "     width=\"24px\">\n",
              "    <g>\n",
              "        <path d=\"M19 3H5c-1.1 0-2 .9-2 2v14c0 1.1.9 2 2 2h14c1.1 0 2-.9 2-2V5c0-1.1-.9-2-2-2zM9 17H7v-7h2v7zm4 0h-2V7h2v10zm4 0h-2v-4h2v4z\"/>\n",
              "    </g>\n",
              "</svg>\n",
              "  </button>\n",
              "\n",
              "<style>\n",
              "  .colab-df-quickchart {\n",
              "      --bg-color: #E8F0FE;\n",
              "      --fill-color: #1967D2;\n",
              "      --hover-bg-color: #E2EBFA;\n",
              "      --hover-fill-color: #174EA6;\n",
              "      --disabled-fill-color: #AAA;\n",
              "      --disabled-bg-color: #DDD;\n",
              "  }\n",
              "\n",
              "  [theme=dark] .colab-df-quickchart {\n",
              "      --bg-color: #3B4455;\n",
              "      --fill-color: #D2E3FC;\n",
              "      --hover-bg-color: #434B5C;\n",
              "      --hover-fill-color: #FFFFFF;\n",
              "      --disabled-bg-color: #3B4455;\n",
              "      --disabled-fill-color: #666;\n",
              "  }\n",
              "\n",
              "  .colab-df-quickchart {\n",
              "    background-color: var(--bg-color);\n",
              "    border: none;\n",
              "    border-radius: 50%;\n",
              "    cursor: pointer;\n",
              "    display: none;\n",
              "    fill: var(--fill-color);\n",
              "    height: 32px;\n",
              "    padding: 0;\n",
              "    width: 32px;\n",
              "  }\n",
              "\n",
              "  .colab-df-quickchart:hover {\n",
              "    background-color: var(--hover-bg-color);\n",
              "    box-shadow: 0 1px 2px rgba(60, 64, 67, 0.3), 0 1px 3px 1px rgba(60, 64, 67, 0.15);\n",
              "    fill: var(--button-hover-fill-color);\n",
              "  }\n",
              "\n",
              "  .colab-df-quickchart-complete:disabled,\n",
              "  .colab-df-quickchart-complete:disabled:hover {\n",
              "    background-color: var(--disabled-bg-color);\n",
              "    fill: var(--disabled-fill-color);\n",
              "    box-shadow: none;\n",
              "  }\n",
              "\n",
              "  .colab-df-spinner {\n",
              "    border: 2px solid var(--fill-color);\n",
              "    border-color: transparent;\n",
              "    border-bottom-color: var(--fill-color);\n",
              "    animation:\n",
              "      spin 1s steps(1) infinite;\n",
              "  }\n",
              "\n",
              "  @keyframes spin {\n",
              "    0% {\n",
              "      border-color: transparent;\n",
              "      border-bottom-color: var(--fill-color);\n",
              "      border-left-color: var(--fill-color);\n",
              "    }\n",
              "    20% {\n",
              "      border-color: transparent;\n",
              "      border-left-color: var(--fill-color);\n",
              "      border-top-color: var(--fill-color);\n",
              "    }\n",
              "    30% {\n",
              "      border-color: transparent;\n",
              "      border-left-color: var(--fill-color);\n",
              "      border-top-color: var(--fill-color);\n",
              "      border-right-color: var(--fill-color);\n",
              "    }\n",
              "    40% {\n",
              "      border-color: transparent;\n",
              "      border-right-color: var(--fill-color);\n",
              "      border-top-color: var(--fill-color);\n",
              "    }\n",
              "    60% {\n",
              "      border-color: transparent;\n",
              "      border-right-color: var(--fill-color);\n",
              "    }\n",
              "    80% {\n",
              "      border-color: transparent;\n",
              "      border-right-color: var(--fill-color);\n",
              "      border-bottom-color: var(--fill-color);\n",
              "    }\n",
              "    90% {\n",
              "      border-color: transparent;\n",
              "      border-bottom-color: var(--fill-color);\n",
              "    }\n",
              "  }\n",
              "</style>\n",
              "\n",
              "  <script>\n",
              "    async function quickchart(key) {\n",
              "      const quickchartButtonEl =\n",
              "        document.querySelector('#' + key + ' button');\n",
              "      quickchartButtonEl.disabled = true;  // To prevent multiple clicks.\n",
              "      quickchartButtonEl.classList.add('colab-df-spinner');\n",
              "      try {\n",
              "        const charts = await google.colab.kernel.invokeFunction(\n",
              "            'suggestCharts', [key], {});\n",
              "      } catch (error) {\n",
              "        console.error('Error during call to suggestCharts:', error);\n",
              "      }\n",
              "      quickchartButtonEl.classList.remove('colab-df-spinner');\n",
              "      quickchartButtonEl.classList.add('colab-df-quickchart-complete');\n",
              "    }\n",
              "    (() => {\n",
              "      let quickchartButtonEl =\n",
              "        document.querySelector('#df-fb7bd979-2dba-4a87-aced-52c57049045c button');\n",
              "      quickchartButtonEl.style.display =\n",
              "        google.colab.kernel.accessAllowed ? 'block' : 'none';\n",
              "    })();\n",
              "  </script>\n",
              "</div>\n",
              "    </div>\n",
              "  </div>\n"
            ]
          },
          "metadata": {},
          "execution_count": 309
        }
      ]
    },
    {
      "cell_type": "code",
      "source": [],
      "metadata": {
        "id": "idxlgSBQYwLQ"
      },
      "execution_count": null,
      "outputs": []
    },
    {
      "cell_type": "code",
      "source": [
        "print('There are {} rows and {} columns in train'.format(tweet.shape[0],tweet.shape[1]))\n",
        "print('There are {} rows and {} columns in test'.format(test.shape[0],test.shape[1]))"
      ],
      "metadata": {
        "colab": {
          "base_uri": "https://localhost:8080/"
        },
        "id": "0xsvF89uU7TQ",
        "outputId": "45e20ea0-d533-42bc-91f9-01a8e9d30da7"
      },
      "execution_count": null,
      "outputs": [
        {
          "output_type": "stream",
          "name": "stdout",
          "text": [
            "There are 7613 rows and 5 columns in train\n",
            "There are 3263 rows and 4 columns in test\n"
          ]
        }
      ]
    },
    {
      "cell_type": "markdown",
      "source": [
        "There are 2 Classes of Distribution. Class 0 is No Disaster and Class 1 is Disaster."
      ],
      "metadata": {
        "id": "QaeL0luKXUVN"
      }
    },
    {
      "cell_type": "markdown",
      "source": [
        "# Exploratory Data Analysis of tweets"
      ],
      "metadata": {
        "id": "mTbMvDcLVZv8"
      }
    },
    {
      "cell_type": "markdown",
      "source": [
        "My goal here is to do some basis analysis of character level, word level and sentences analysis."
      ],
      "metadata": {
        "id": "V4tXyYBnXkQt"
      }
    },
    {
      "cell_type": "markdown",
      "source": [
        "### Number of characters in a tweets"
      ],
      "metadata": {
        "id": "9xg9-FgxXXkK"
      }
    },
    {
      "cell_type": "code",
      "source": [
        "fig,(ax1,ax2)=plt.subplots(1,2,figsize=(10,5))\n",
        "\n",
        "# Disaster\n",
        "tweet_len = tweet[tweet['target'] == 1]['text'].str.len()\n",
        "ax1.hist(tweet_len, color = 'red')\n",
        "ax1.set_title('disaster tweets')\n",
        "\n",
        "# Not a Disaster\n",
        "tweet_len = tweet[tweet['target']== 0]['text'].str.len()\n",
        "ax2.hist(tweet_len,color='green')\n",
        "ax2.set_title('(Not)Disaster-related tweets')\n",
        "\n",
        "fig.suptitle('Characters in tweets')\n",
        "plt.show()"
      ],
      "metadata": {
        "colab": {
          "base_uri": "https://localhost:8080/",
          "height": 378
        },
        "id": "wJrjeVtMXQm7",
        "outputId": "aeb51f91-3463-4b11-84a3-e704be6a32d4"
      },
      "execution_count": null,
      "outputs": [
        {
          "output_type": "display_data",
          "data": {
            "text/plain": [
              "<Figure size 1000x500 with 2 Axes>"
            ],
            "image/png": "[encoded data removed]"
          },
          "metadata": {}
        }
      ]
    },
    {
      "cell_type": "markdown",
      "source": [
        "The distribution of both sets seems the same.\n",
        "\n",
        "We learn that 120 to 140 characters in a tweet are the most common among both"
      ],
      "metadata": {
        "id": "mgQOH5zbeUfW"
      }
    },
    {
      "cell_type": "markdown",
      "source": [
        "### Number of words in a tweet"
      ],
      "metadata": {
        "id": "vyIW_R25evnq"
      }
    },
    {
      "cell_type": "code",
      "source": [
        "fig,(ax1,ax2)=plt.subplots(1,2,figsize=(10,5))\n",
        "\n",
        "tweet_len = tweet[tweet['target'] == 1]['text'].str.split().map(lambda x: len(x))\n",
        "ax1.hist(tweet_len, color='red')\n",
        "ax1.set_title('disaster tweets')\n",
        "\n",
        "tweet_len = tweet[tweet['target']==0]['text'].str.split().map(lambda x: len(x))\n",
        "ax2.hist(tweet_len,color='green')\n",
        "ax2.set_title('(Not)Disaster-related tweets')\n",
        "\n",
        "fig.suptitle('Length of words in a tweet')\n",
        "plt.show()"
      ],
      "metadata": {
        "colab": {
          "base_uri": "https://localhost:8080/",
          "height": 378
        },
        "id": "NtLHfc3Ce00p",
        "outputId": "18e682cb-3132-4f7b-dce7-54fabaedf074"
      },
      "execution_count": null,
      "outputs": [
        {
          "output_type": "display_data",
          "data": {
            "text/plain": [
              "<Figure size 1000x500 with 2 Axes>"
            ],
            "image/png": "[encoded data removed]"
          },
          "metadata": {}
        }
      ]
    },
    {
      "cell_type": "markdown",
      "source": [
        "Not very useful.. 10 to 20 words in a tweet"
      ],
      "metadata": {
        "id": "Cv8qt_Hth-3Q"
      }
    },
    {
      "cell_type": "markdown",
      "source": [
        "### Common stop words"
      ],
      "metadata": {
        "id": "pFVq7boriuYj"
      }
    },
    {
      "cell_type": "code",
      "source": [
        "# Create a function to count STOPWORDS (This is a list of lexical stop words in English.\n",
        "# That is, these words are ignored during most natural language processing tasks,\n",
        "# such as part-of-speech tagging, tokenization and parsing.)\n",
        "def create_corpus(target):\n",
        "    corpus=[]\n",
        "    for x in tweet[tweet['target']==target]['text'].str.split():\n",
        "        for i in x:\n",
        "            corpus.append(i)\n",
        "    return corpus\n",
        "\n",
        "# Analyse tweets with class 0\n",
        "corpus = create_corpus(0)\n",
        "\n",
        "dic = defaultdict(int)\n",
        "for word in corpus:\n",
        "      if word in stop:\n",
        "          dic[word]+=1\n",
        "\n",
        "top = sorted(dic.items(), key=lambda x:x[1],reverse=True)[:10]\n",
        "\n",
        "x,y = zip(*top)\n",
        "plt.title('Common words in Class 0')\n",
        "plt.bar(x,y,color='red')"
      ],
      "metadata": {
        "colab": {
          "base_uri": "https://localhost:8080/",
          "height": 470
        },
        "id": "Ly8E0fb2iw-b",
        "outputId": "f830996c-a5ac-4800-a0ba-93686fd4c669"
      },
      "execution_count": null,
      "outputs": [
        {
          "output_type": "execute_result",
          "data": {
            "text/plain": [
              "<BarContainer object of 10 artists>"
            ]
          },
          "metadata": {},
          "execution_count": 313
        },
        {
          "output_type": "display_data",
          "data": {
            "text/plain": [
              "<Figure size 640x480 with 1 Axes>"
            ],
            "image/png": "[encoded data removed]"
          },
          "metadata": {}
        }
      ]
    },
    {
      "cell_type": "code",
      "source": [
        "# Analyse tweets with class 1\n",
        "corpus = create_corpus(1)\n",
        "\n",
        "dic = defaultdict(int)\n",
        "for word in corpus:\n",
        "    if word in stop:\n",
        "        dic[word]+=1\n",
        "\n",
        "top=sorted(dic.items(), key=lambda x:x[1],reverse=True)[:10]\n",
        "\n",
        "x,y=zip(*top)\n",
        "plt.title('Common words in Class 1')\n",
        "plt.bar(x,y,color='green')"
      ],
      "metadata": {
        "colab": {
          "base_uri": "https://localhost:8080/",
          "height": 470
        },
        "id": "XVgzo8jvvKtA",
        "outputId": "10300ef5-e0d5-47b8-85c3-fd9e826b5a5a"
      },
      "execution_count": null,
      "outputs": [
        {
          "output_type": "execute_result",
          "data": {
            "text/plain": [
              "<BarContainer object of 10 artists>"
            ]
          },
          "metadata": {},
          "execution_count": 314
        },
        {
          "output_type": "display_data",
          "data": {
            "text/plain": [
              "<Figure size 640x480 with 1 Axes>"
            ],
            "image/png": "[encoded data removed]"
          },
          "metadata": {}
        }
      ]
    },
    {
      "cell_type": "markdown",
      "source": [
        "### Punctuations"
      ],
      "metadata": {
        "id": "4f-il-11vnfc"
      }
    },
    {
      "cell_type": "code",
      "source": [
        "plt.figure(figsize=(10,5))\n",
        "corpus=create_corpus(1)\n",
        "\n",
        "dic=defaultdict(int)\n",
        "import string\n",
        "special = string.punctuation\n",
        "for i in (corpus):\n",
        "    if i in special:\n",
        "        dic[i]+=1\n",
        "\n",
        "x,y=zip(*dic.items())\n",
        "plt.title('Punctuations in Class 0')\n",
        "plt.bar(x,y, color='red')"
      ],
      "metadata": {
        "colab": {
          "base_uri": "https://localhost:8080/",
          "height": 376
        },
        "id": "A_GZKbGlvmal",
        "outputId": "009828a7-3c89-4cd7-a65e-793002c871e6"
      },
      "execution_count": null,
      "outputs": [
        {
          "output_type": "execute_result",
          "data": {
            "text/plain": [
              "<BarContainer object of 18 artists>"
            ]
          },
          "metadata": {},
          "execution_count": 315
        },
        {
          "output_type": "display_data",
          "data": {
            "text/plain": [
              "<Figure size 1000x500 with 1 Axes>"
            ],
            "image/png": "[encoded data removed]"
          },
          "metadata": {}
        }
      ]
    },
    {
      "cell_type": "code",
      "source": [
        "plt.figure(figsize=(10,5))\n",
        "corpus=create_corpus(0)\n",
        "\n",
        "dic=defaultdict(int)\n",
        "import string\n",
        "special = string.punctuation\n",
        "for i in (corpus):\n",
        "    if i in special:\n",
        "        dic[i]+=1\n",
        "\n",
        "x,y=zip(*dic.items())\n",
        "plt.title('Punctuations in Class 1')\n",
        "plt.bar(x,y,color='green')"
      ],
      "metadata": {
        "colab": {
          "base_uri": "https://localhost:8080/",
          "height": 376
        },
        "id": "MmKqApJUwzZR",
        "outputId": "3d0568be-aa45-4398-bcca-82e75611a472"
      },
      "execution_count": null,
      "outputs": [
        {
          "output_type": "execute_result",
          "data": {
            "text/plain": [
              "<BarContainer object of 20 artists>"
            ]
          },
          "metadata": {},
          "execution_count": 316
        },
        {
          "output_type": "display_data",
          "data": {
            "text/plain": [
              "<Figure size 1000x500 with 1 Axes>"
            ],
            "image/png": "[encoded data removed]"
          },
          "metadata": {}
        }
      ]
    },
    {
      "cell_type": "markdown",
      "source": [
        "### Common words"
      ],
      "metadata": {
        "id": "ou78RVeSxAJC"
      }
    },
    {
      "cell_type": "code",
      "source": [
        "counter=Counter(corpus)\n",
        "most=counter.most_common()\n",
        "x=[]\n",
        "y=[]\n",
        "for word,count in most[:40]:\n",
        "    if (word not in stop) :\n",
        "        x.append(word)\n",
        "        y.append(count)\n",
        "\n",
        "plt.title('Punctations and words together')\n",
        "plt.bar(x,y, color='pink')"
      ],
      "metadata": {
        "colab": {
          "base_uri": "https://localhost:8080/",
          "height": 470
        },
        "id": "fHc2M0C6xCYA",
        "outputId": "138572b5-d584-48ba-f75b-61dc5b02ed6b"
      },
      "execution_count": null,
      "outputs": [
        {
          "output_type": "execute_result",
          "data": {
            "text/plain": [
              "<BarContainer object of 8 artists>"
            ]
          },
          "metadata": {},
          "execution_count": 317
        },
        {
          "output_type": "display_data",
          "data": {
            "text/plain": [
              "<Figure size 640x480 with 1 Axes>"
            ],
            "image/png": "[encoded data removed]"
          },
          "metadata": {}
        }
      ]
    },
    {
      "cell_type": "markdown",
      "source": [
        "## Data Cleaning\n",
        "\n",
        "\n",
        "Now we know that twitter tweets have to be cleaned before we go onto modelling.So we will do some basic cleaning such as spelling correction, removing punctuations, removing html tags and emojis etc."
      ],
      "metadata": {
        "id": "QUtexRZC0552"
      }
    },
    {
      "cell_type": "markdown",
      "source": [
        "## Removing URLs"
      ],
      "metadata": {
        "id": "AAiKu-d81ROJ"
      }
    },
    {
      "cell_type": "markdown",
      "source": [
        "We will combine the tweet and test dataset to apply similar treatment for the data cleaning."
      ],
      "metadata": {
        "id": "OPz3R2iKCwfI"
      }
    },
    {
      "cell_type": "code",
      "source": [
        "df = pd.concat([tweet,test])\n",
        "df.shape"
      ],
      "metadata": {
        "colab": {
          "base_uri": "https://localhost:8080/"
        },
        "id": "4juQFeD9Ctar",
        "outputId": "eb2272b6-eb14-4d45-842f-2bbc7c1c3aa2"
      },
      "execution_count": null,
      "outputs": [
        {
          "output_type": "execute_result",
          "data": {
            "text/plain": [
              "(10876, 5)"
            ]
          },
          "metadata": {},
          "execution_count": 318
        }
      ]
    },
    {
      "cell_type": "code",
      "source": [
        "def remove_URL(text):\n",
        "  url = re.compile(r'https?://\\S+|www\\.\\S+')\n",
        "  return url.sub(r'', text)\n",
        "\n",
        "df['text'] = df['text'].apply(lambda x : remove_URL(x))"
      ],
      "metadata": {
        "id": "OhjG_GO0ExYW"
      },
      "execution_count": null,
      "outputs": []
    },
    {
      "cell_type": "markdown",
      "source": [
        "**Removing HTML tags**"
      ],
      "metadata": {
        "id": "s5sGXukgFUGm"
      }
    },
    {
      "cell_type": "code",
      "source": [
        "def remove_html(text):\n",
        "  html = re.compile(r'<.*?>')\n",
        "  return html.sub(r'', text)\n",
        "\n",
        "df['text'] = df['text'].apply(lambda x : remove_html(x))"
      ],
      "metadata": {
        "id": "lhFUE25eFYHO"
      },
      "execution_count": null,
      "outputs": []
    },
    {
      "cell_type": "markdown",
      "source": [
        "**Removing EMOJI's tags**"
      ],
      "metadata": {
        "id": "nfeq56HFHH0k"
      }
    },
    {
      "cell_type": "code",
      "source": [
        "# Reference : https://gist.github.com/slowkow/7a7f61f495e3dbb7e3d767f97bd7304b\n",
        "def remove_emoji(text):\n",
        "    emoji_pattern = re.compile(\"[\"\n",
        "                           u\"\\U0001F600-\\U0001F64F\"  # emoticons\n",
        "                           u\"\\U0001F300-\\U0001F5FF\"  # symbols & pictographs\n",
        "                           u\"\\U0001F680-\\U0001F6FF\"  # transport & map symbols\n",
        "                           u\"\\U0001F1E0-\\U0001F1FF\"  # flags (iOS)\n",
        "                           u\"\\U00002702-\\U000027B0\"\n",
        "                           u\"\\U000024C2-\\U0001F251\"\n",
        "                           \"]+\", flags=re.UNICODE)\n",
        "    return emoji_pattern.sub(r'', text)\n",
        "\n",
        "df['text']=df['text'].apply(lambda x: remove_emoji(x))"
      ],
      "metadata": {
        "id": "aMXhXOO2HNT0"
      },
      "execution_count": null,
      "outputs": []
    },
    {
      "cell_type": "markdown",
      "source": [
        "**Removing punctuations**"
      ],
      "metadata": {
        "id": "jy6ybCPRHuB4"
      }
    },
    {
      "cell_type": "code",
      "source": [
        "def remove_punct(text):\n",
        "  punct = str.maketrans('', '', string.punctuation)\n",
        "  return text.translate(punct)\n",
        "\n",
        "df['text']=df['text'].apply(lambda x: remove_punct(x))"
      ],
      "metadata": {
        "id": "PBsEb1YnHzDa"
      },
      "execution_count": null,
      "outputs": []
    },
    {
      "cell_type": "markdown",
      "source": [
        "**Spelling Correction**\n",
        "\n",
        "We will use pyspellchecker"
      ],
      "metadata": {
        "id": "s-l-KVTUKaiy"
      }
    },
    {
      "cell_type": "code",
      "source": [
        "pip install pyspellchecker"
      ],
      "metadata": {
        "colab": {
          "base_uri": "https://localhost:8080/"
        },
        "id": "Smw2kinzKhVD",
        "outputId": "ca9a5486-d82e-431f-ef5c-f19820ec7a06"
      },
      "execution_count": null,
      "outputs": [
        {
          "output_type": "stream",
          "name": "stdout",
          "text": [
            "Requirement already satisfied: pyspellchecker in /usr/local/lib/python3.10/dist-packages (0.7.2)\n"
          ]
        }
      ]
    },
    {
      "cell_type": "code",
      "source": [
        "from spellchecker import SpellChecker\n",
        "\n",
        "def correct_spelling(input_text):\n",
        "    # Initialize the spellchecker\n",
        "    spell = SpellChecker()\n",
        "\n",
        "    # Split the input text into words\n",
        "    words = input_text.split()\n",
        "\n",
        "    # Initialize an empty list to store corrected words\n",
        "    corrected_words = []\n",
        "\n",
        "    # Iterate through the words\n",
        "    for word in words:\n",
        "        # Check if the word is misspelled\n",
        "        if spell.unknown([word]):\n",
        "            # Get the corrected version of the word\n",
        "            corrected_word = spell.correction(word)\n",
        "            corrected_words.append(corrected_word)\n",
        "        else:\n",
        "            corrected_words.append(word)\n",
        "\n",
        "    # Join the corrected words back into a single string\n",
        "    corrected_text = ' '.join(corrected_words)\n",
        "\n",
        "    return corrected_text\n",
        "\n",
        "# Testing\n",
        "input_text = \"I havee a speling probleb\"\n",
        "correct_spelling(input_text)"
      ],
      "metadata": {
        "colab": {
          "base_uri": "https://localhost:8080/",
          "height": 35
        },
        "id": "nLDgC-_ILDgR",
        "outputId": "e752718f-13b7-4433-f01b-0fdbd00a5cfd"
      },
      "execution_count": null,
      "outputs": [
        {
          "output_type": "execute_result",
          "data": {
            "text/plain": [
              "'I have a spelling problem'"
            ],
            "application/vnd.google.colaboratory.intrinsic+json": {
              "type": "string"
            }
          },
          "metadata": {},
          "execution_count": 324
        }
      ]
    },
    {
      "cell_type": "code",
      "source": [
        "# df['text'] = df['text'].apply(lambda x: correct_spelling(x))"
      ],
      "metadata": {
        "id": "iSzJIZ6FO00e"
      },
      "execution_count": null,
      "outputs": []
    },
    {
      "cell_type": "markdown",
      "source": [
        "# Machine Learning\n",
        "\n",
        "**Using [WordEmbedding](https://www.mygreatlearning.com/blog/word-embedding/#:~:text=GloVe%20(Global%20Vectors%20for%20Word,on%20the%20word%2Dcontext%20matrix.)**\n",
        "\n",
        "- Word embeddings are basically a form of word representation that bridges the human understanding of language to that of a machine. They have learned representations of text in an n-dimensional space where words that have the same meaning have a similar representation. Meaning that two similar words are represented by almost similar vectors that are very closely placed in a vector space. These are essential for solving most Natural language processing problems.\n",
        "\n",
        "\n",
        "\n"
      ],
      "metadata": {
        "id": "-WNLoCnwYryu"
      }
    },
    {
      "cell_type": "markdown",
      "source": [
        "## GloVe\n",
        "\n",
        "Here we will use GloVe pretrained corpus model to represent our words.It is available in 3 varieties :50D ,100D and 200 Dimentional.\n",
        "\n",
        "We will try 100 D here."
      ],
      "metadata": {
        "id": "4ji9i90Ju9U2"
      }
    },
    {
      "cell_type": "code",
      "source": [
        "# >>> import nltk\n",
        "# >>> nltk.download()"
      ],
      "metadata": {
        "id": "7P6sCM5ridfR"
      },
      "execution_count": null,
      "outputs": []
    },
    {
      "cell_type": "code",
      "source": [
        "from tqdm import tqdm\n",
        "from nltk.tokenize import word_tokenize\n",
        "from nltk.corpus import stopwords\n",
        "\n",
        "# Define a set of stopwords\n",
        "stop = set(stopwords.words('english'))\n",
        "\n",
        "def create_corpus(df):\n",
        "    corpus = []\n",
        "    for tweet in tqdm(df['text']):\n",
        "        words = [word.lower()\n",
        "                 for word in word_tokenize(tweet)\n",
        "                 if (word.isalpha() == 1) and (word not in stop)]\n",
        "        corpus.append(words)\n",
        "    return corpus\n",
        "\n",
        "\n",
        "corpus = create_corpus(df)"
      ],
      "metadata": {
        "colab": {
          "base_uri": "https://localhost:8080/"
        },
        "id": "iAHnWEeqYrZ_",
        "outputId": "fe059e99-a9d4-41a9-edf9-16fab1a07741"
      },
      "execution_count": null,
      "outputs": [
        {
          "output_type": "stream",
          "name": "stderr",
          "text": [
            "100%|██████████| 10876/10876 [00:02<00:00, 5243.00it/s]\n"
          ]
        }
      ]
    },
    {
      "cell_type": "code",
      "source": [
        "\n",
        "embedding_dict = {}\n",
        "\n",
        "with open('/content/drive/MyDrive/nlp-getting-started/glove.6B.100d.txt', 'r') as f:\n",
        "    for line in f:\n",
        "        values = line.split()\n",
        "        word = values[0]\n",
        "        vectors = np.array([float(x) for x in values[1:]], dtype='float32')\n",
        "        embedding_dict[word] = vectors\n",
        "f.close()"
      ],
      "metadata": {
        "id": "trq6Bt6nlT3T"
      },
      "execution_count": null,
      "outputs": []
    },
    {
      "cell_type": "code",
      "source": [
        "MAX_LEN=50\n",
        "tokenizer_obj=Tokenizer()\n",
        "tokenizer_obj.fit_on_texts(corpus)\n",
        "sequences=tokenizer_obj.texts_to_sequences(corpus)\n",
        "\n",
        "tweet_pad=pad_sequences(sequences,maxlen=MAX_LEN,truncating='post',padding='post')"
      ],
      "metadata": {
        "id": "jEzpmMA4nk4D"
      },
      "execution_count": null,
      "outputs": []
    },
    {
      "cell_type": "code",
      "source": [
        "word_index=tokenizer_obj.word_index\n",
        "print('Number of unique words:',len(word_index))"
      ],
      "metadata": {
        "colab": {
          "base_uri": "https://localhost:8080/"
        },
        "id": "UNmrbRgJn6Rl",
        "outputId": "2df39e8b-5f54-4a61-e1cb-e726bcbbd4ce"
      },
      "execution_count": null,
      "outputs": [
        {
          "output_type": "stream",
          "name": "stdout",
          "text": [
            "Number of unique words: 20342\n"
          ]
        }
      ]
    },
    {
      "cell_type": "code",
      "source": [
        "num_words=len(word_index)+1\n",
        "embedding_matrix=np.zeros((num_words,100))\n",
        "\n",
        "for word,i in tqdm(word_index.items()):\n",
        "    if i < num_words:\n",
        "        emb_vec=embedding_dict.get(word)\n",
        "\n",
        "    if emb_vec is not None:\n",
        "        embedding_matrix[i]=emb_vec"
      ],
      "metadata": {
        "colab": {
          "base_uri": "https://localhost:8080/"
        },
        "id": "Wom8xygKprxh",
        "outputId": "cb39a6b4-55ea-455b-a4aa-50a2f0ada31f"
      },
      "execution_count": null,
      "outputs": [
        {
          "output_type": "stream",
          "name": "stderr",
          "text": [
            "100%|██████████| 20342/20342 [00:00<00:00, 435188.94it/s]\n"
          ]
        }
      ]
    },
    {
      "cell_type": "code",
      "source": [
        "tweet_pad[0][0:]"
      ],
      "metadata": {
        "colab": {
          "base_uri": "https://localhost:8080/"
        },
        "id": "1dwmRkmSpv6e",
        "outputId": "84fbbe90-cbc7-44cb-d313-123d4c36a329"
      },
      "execution_count": null,
      "outputs": [
        {
          "output_type": "execute_result",
          "data": {
            "text/plain": [
              "array([ 622, 5467,  738,  175,   80, 1805, 3529,   16,    0,    0,    0,\n",
              "          0,    0,    0,    0,    0,    0,    0,    0,    0,    0,    0,\n",
              "          0,    0,    0,    0,    0,    0,    0,    0,    0,    0,    0,\n",
              "          0,    0,    0,    0,    0,    0,    0,    0,    0,    0,    0,\n",
              "          0,    0,    0,    0,    0,    0], dtype=int32)"
            ]
          },
          "metadata": {},
          "execution_count": 332
        }
      ]
    },
    {
      "cell_type": "markdown",
      "source": [
        "## Baseline Model with GloVe results"
      ],
      "metadata": {
        "id": "ZfhjS7nqup2L"
      }
    },
    {
      "cell_type": "code",
      "source": [
        "model=Sequential()\n",
        "\n",
        "embedding=Embedding(num_words,100,embeddings_initializer=Constant(embedding_matrix),\n",
        "                   input_length=MAX_LEN,trainable=False)\n",
        "\n",
        "model.add(embedding)\n",
        "model.add(SpatialDropout1D(0.2))\n",
        "model.add(LSTM(64, dropout=0.2, recurrent_dropout=0.2))\n",
        "model.add(Dense(1, activation='sigmoid'))\n",
        "\n",
        "\n",
        "optimzer=Adam(learning_rate=1e-5)\n",
        "\n",
        "model.compile(loss='binary_crossentropy',optimizer=optimzer,metrics=['accuracy'])"
      ],
      "metadata": {
        "id": "FAhhRTntp6Rs"
      },
      "execution_count": null,
      "outputs": []
    },
    {
      "cell_type": "code",
      "source": [
        "model.summary()"
      ],
      "metadata": {
        "colab": {
          "base_uri": "https://localhost:8080/"
        },
        "id": "vAoUjFkvp_eN",
        "outputId": "1374b78e-65c9-43b4-ccbd-cdfe7afbdc2a"
      },
      "execution_count": null,
      "outputs": [
        {
          "output_type": "stream",
          "name": "stdout",
          "text": [
            "Model: \"sequential_4\"\n",
            "_________________________________________________________________\n",
            " Layer (type)                Output Shape              Param #   \n",
            "=================================================================\n",
            " embedding_4 (Embedding)     (None, 50, 100)           2034300   \n",
            "                                                                 \n",
            " spatial_dropout1d_4 (Spati  (None, 50, 100)           0         \n",
            " alDropout1D)                                                    \n",
            "                                                                 \n",
            " lstm_4 (LSTM)               (None, 64)                42240     \n",
            "                                                                 \n",
            " dense_4 (Dense)             (None, 1)                 65        \n",
            "                                                                 \n",
            "=================================================================\n",
            "Total params: 2076605 (7.92 MB)\n",
            "Trainable params: 42305 (165.25 KB)\n",
            "Non-trainable params: 2034300 (7.76 MB)\n",
            "_________________________________________________________________\n"
          ]
        }
      ]
    },
    {
      "cell_type": "code",
      "source": [
        "train=tweet_pad[:tweet.shape[0]]\n",
        "test=tweet_pad[tweet.shape[0]:]"
      ],
      "metadata": {
        "id": "K386NBpjrXjb"
      },
      "execution_count": null,
      "outputs": []
    },
    {
      "cell_type": "code",
      "source": [
        "X_train,X_test,y_train,y_test=train_test_split(train,tweet['target'].values,test_size=0.2)\n",
        "print('Shape of train',X_train.shape)\n",
        "print(\"Shape of Validation \",X_test.shape)"
      ],
      "metadata": {
        "colab": {
          "base_uri": "https://localhost:8080/"
        },
        "id": "diHlFPPrrZxd",
        "outputId": "7ed94ccd-bae3-4fc5-a714-1eac0b1b578a"
      },
      "execution_count": null,
      "outputs": [
        {
          "output_type": "stream",
          "name": "stdout",
          "text": [
            "Shape of train (6090, 50)\n",
            "Shape of Validation  (1523, 50)\n"
          ]
        }
      ]
    },
    {
      "cell_type": "code",
      "source": [
        "history = model.fit(X_train, y_train, batch_size=4, epochs=15, validation_data=(X_test,y_test), verbose=2)"
      ],
      "metadata": {
        "colab": {
          "base_uri": "https://localhost:8080/"
        },
        "id": "DRpIhq9qsxWC",
        "outputId": "4814440f-53f3-47b3-e6b4-e70fd7e86668"
      },
      "execution_count": null,
      "outputs": [
        {
          "output_type": "stream",
          "name": "stdout",
          "text": [
            "Epoch 1/15\n",
            "1523/1523 - 104s - loss: 0.6902 - accuracy: 0.5673 - val_loss: 0.6713 - val_accuracy: 0.5817 - 104s/epoch - 68ms/step\n",
            "Epoch 2/15\n",
            "1523/1523 - 96s - loss: 0.5836 - accuracy: 0.7097 - val_loss: 0.5191 - val_accuracy: 0.7636 - 96s/epoch - 63ms/step\n",
            "Epoch 3/15\n",
            "1523/1523 - 117s - loss: 0.5361 - accuracy: 0.7511 - val_loss: 0.5055 - val_accuracy: 0.7689 - 117s/epoch - 77ms/step\n",
            "Epoch 4/15\n",
            "1523/1523 - 99s - loss: 0.5255 - accuracy: 0.7521 - val_loss: 0.4974 - val_accuracy: 0.7781 - 99s/epoch - 65ms/step\n",
            "Epoch 5/15\n",
            "1523/1523 - 106s - loss: 0.5170 - accuracy: 0.7640 - val_loss: 0.4919 - val_accuracy: 0.7741 - 106s/epoch - 70ms/step\n",
            "Epoch 6/15\n",
            "1523/1523 - 95s - loss: 0.5037 - accuracy: 0.7688 - val_loss: 0.4868 - val_accuracy: 0.7787 - 95s/epoch - 63ms/step\n",
            "Epoch 7/15\n",
            "1523/1523 - 98s - loss: 0.5045 - accuracy: 0.7693 - val_loss: 0.4825 - val_accuracy: 0.7728 - 98s/epoch - 64ms/step\n",
            "Epoch 8/15\n",
            "1523/1523 - 94s - loss: 0.4973 - accuracy: 0.7737 - val_loss: 0.4785 - val_accuracy: 0.7853 - 94s/epoch - 62ms/step\n",
            "Epoch 9/15\n",
            "1523/1523 - 99s - loss: 0.4939 - accuracy: 0.7765 - val_loss: 0.4784 - val_accuracy: 0.7886 - 99s/epoch - 65ms/step\n",
            "Epoch 10/15\n",
            "1523/1523 - 96s - loss: 0.4893 - accuracy: 0.7805 - val_loss: 0.4724 - val_accuracy: 0.7899 - 96s/epoch - 63ms/step\n",
            "Epoch 11/15\n",
            "1523/1523 - 95s - loss: 0.4819 - accuracy: 0.7816 - val_loss: 0.4723 - val_accuracy: 0.7945 - 95s/epoch - 62ms/step\n",
            "Epoch 12/15\n",
            "1523/1523 - 97s - loss: 0.4851 - accuracy: 0.7796 - val_loss: 0.4672 - val_accuracy: 0.7912 - 97s/epoch - 64ms/step\n",
            "Epoch 13/15\n",
            "1523/1523 - 97s - loss: 0.4786 - accuracy: 0.7828 - val_loss: 0.4635 - val_accuracy: 0.7945 - 97s/epoch - 63ms/step\n",
            "Epoch 14/15\n",
            "1523/1523 - 99s - loss: 0.4760 - accuracy: 0.7860 - val_loss: 0.4614 - val_accuracy: 0.7951 - 99s/epoch - 65ms/step\n",
            "Epoch 15/15\n",
            "1523/1523 - 99s - loss: 0.4813 - accuracy: 0.7790 - val_loss: 0.4594 - val_accuracy: 0.7945 - 99s/epoch - 65ms/step\n"
          ]
        }
      ]
    },
    {
      "cell_type": "code",
      "source": [
        "train_pred_GloVe = model.predict(train)\n",
        "train_pred_GloVe_int = train_pred_GloVe.round().astype('int')"
      ],
      "metadata": {
        "colab": {
          "base_uri": "https://localhost:8080/"
        },
        "id": "Jw0xYFucuZs7",
        "outputId": "f126d586-5a6b-4e88-f3bc-b588a0c7cbf6"
      },
      "execution_count": null,
      "outputs": [
        {
          "output_type": "stream",
          "name": "stdout",
          "text": [
            "238/238 [==============================] - 4s 16ms/step\n"
          ]
        }
      ]
    }
  ]
}