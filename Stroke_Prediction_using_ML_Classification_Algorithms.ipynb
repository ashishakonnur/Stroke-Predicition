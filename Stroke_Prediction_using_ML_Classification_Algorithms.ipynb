{
  "nbformat": 4,
  "nbformat_minor": 0,
  "metadata": {
    "colab": {
      "name": "Stroke Prediction using ML Classification Algorithms.ipynb",
      "provenance": [],
      "collapsed_sections": [],
      "include_colab_link": true
    },
    "kernelspec": {
      "name": "python3",
      "display_name": "Python 3"
    },
    "language_info": {
      "name": "python"
    }
  },
  "cells": [
    {
      "cell_type": "markdown",
      "metadata": {
        "id": "view-in-github",
        "colab_type": "text"
      },
      "source": [
        "<a href=\"https://colab.research.google.com/github/ashishakonnur/Stroke-Predicition/blob/main/Stroke_Prediction_using_ML_Classification_Algorithms.ipynb\" target=\"_parent\"><img src=\"https://colab.research.google.com/assets/colab-badge.svg\" alt=\"Open In Colab\"/></a>"
      ]
    },
    {
      "cell_type": "markdown",
      "metadata": {
        "id": "l1YhqkFzUMTR"
      },
      "source": [
        "#Stroke prediction using ML Classification Algorithms\n",
        "\n",
        "Build a model that can be used to predict stroke."
      ]
    },
    {
      "cell_type": "markdown",
      "metadata": {
        "id": "nMKzGpHycBCg"
      },
      "source": [
        "## Import Data"
      ]
    },
    {
      "cell_type": "code",
      "metadata": {
        "id": "BoW8s-E0DWbJ"
      },
      "source": [
        "import pandas as pd\n",
        "import numpy as np\n",
        "import seaborn as sns\n",
        "import matplotlib.pyplot as plt\n",
        "\n",
        "import statsmodels.api as sm\n",
        "from statsmodels.graphics.mosaicplot import mosaic\n",
        "from itertools import product\n",
        "\n",
        "\n",
        "from sklearn.inspection import permutation_importance\n",
        "\n",
        "\n",
        "\n",
        "data = pd.read_csv('https://raw.githubusercontent.com/ashishakonnur/Stroke-Predicition/main/healthcare-dataset-stroke-data.csv')"
      ],
      "execution_count": null,
      "outputs": []
    },
    {
      "cell_type": "code",
      "metadata": {
        "colab": {
          "base_uri": "https://localhost:8080/",
          "height": 421
        },
        "id": "nsPdkbGHUCB9",
        "outputId": "81324024-5069-45b7-9e1f-291a6cabbd30"
      },
      "source": [
        "#Transpose index and columns\n",
        "data.head(5).T"
      ],
      "execution_count": null,
      "outputs": [
        {
          "output_type": "execute_result",
          "data": {
            "text/html": [
              "<div>\n",
              "<style scoped>\n",
              "    .dataframe tbody tr th:only-of-type {\n",
              "        vertical-align: middle;\n",
              "    }\n",
              "\n",
              "    .dataframe tbody tr th {\n",
              "        vertical-align: top;\n",
              "    }\n",
              "\n",
              "    .dataframe thead th {\n",
              "        text-align: right;\n",
              "    }\n",
              "</style>\n",
              "<table border=\"1\" class=\"dataframe\">\n",
              "  <thead>\n",
              "    <tr style=\"text-align: right;\">\n",
              "      <th></th>\n",
              "      <th>0</th>\n",
              "      <th>1</th>\n",
              "      <th>2</th>\n",
              "      <th>3</th>\n",
              "      <th>4</th>\n",
              "    </tr>\n",
              "  </thead>\n",
              "  <tbody>\n",
              "    <tr>\n",
              "      <th>id</th>\n",
              "      <td>9046</td>\n",
              "      <td>51676</td>\n",
              "      <td>31112</td>\n",
              "      <td>60182</td>\n",
              "      <td>1665</td>\n",
              "    </tr>\n",
              "    <tr>\n",
              "      <th>gender</th>\n",
              "      <td>Male</td>\n",
              "      <td>Female</td>\n",
              "      <td>Male</td>\n",
              "      <td>Female</td>\n",
              "      <td>Female</td>\n",
              "    </tr>\n",
              "    <tr>\n",
              "      <th>age</th>\n",
              "      <td>67</td>\n",
              "      <td>61</td>\n",
              "      <td>80</td>\n",
              "      <td>49</td>\n",
              "      <td>79</td>\n",
              "    </tr>\n",
              "    <tr>\n",
              "      <th>hypertension</th>\n",
              "      <td>0</td>\n",
              "      <td>0</td>\n",
              "      <td>0</td>\n",
              "      <td>0</td>\n",
              "      <td>1</td>\n",
              "    </tr>\n",
              "    <tr>\n",
              "      <th>heart_disease</th>\n",
              "      <td>1</td>\n",
              "      <td>0</td>\n",
              "      <td>1</td>\n",
              "      <td>0</td>\n",
              "      <td>0</td>\n",
              "    </tr>\n",
              "    <tr>\n",
              "      <th>ever_married</th>\n",
              "      <td>Yes</td>\n",
              "      <td>Yes</td>\n",
              "      <td>Yes</td>\n",
              "      <td>Yes</td>\n",
              "      <td>Yes</td>\n",
              "    </tr>\n",
              "    <tr>\n",
              "      <th>work_type</th>\n",
              "      <td>Private</td>\n",
              "      <td>Self-employed</td>\n",
              "      <td>Private</td>\n",
              "      <td>Private</td>\n",
              "      <td>Self-employed</td>\n",
              "    </tr>\n",
              "    <tr>\n",
              "      <th>Residence_type</th>\n",
              "      <td>Urban</td>\n",
              "      <td>Rural</td>\n",
              "      <td>Rural</td>\n",
              "      <td>Urban</td>\n",
              "      <td>Rural</td>\n",
              "    </tr>\n",
              "    <tr>\n",
              "      <th>avg_glucose_level</th>\n",
              "      <td>228.69</td>\n",
              "      <td>202.21</td>\n",
              "      <td>105.92</td>\n",
              "      <td>171.23</td>\n",
              "      <td>174.12</td>\n",
              "    </tr>\n",
              "    <tr>\n",
              "      <th>bmi</th>\n",
              "      <td>36.6</td>\n",
              "      <td>NaN</td>\n",
              "      <td>32.5</td>\n",
              "      <td>34.4</td>\n",
              "      <td>24</td>\n",
              "    </tr>\n",
              "    <tr>\n",
              "      <th>smoking_status</th>\n",
              "      <td>formerly smoked</td>\n",
              "      <td>never smoked</td>\n",
              "      <td>never smoked</td>\n",
              "      <td>smokes</td>\n",
              "      <td>never smoked</td>\n",
              "    </tr>\n",
              "    <tr>\n",
              "      <th>stroke</th>\n",
              "      <td>1</td>\n",
              "      <td>1</td>\n",
              "      <td>1</td>\n",
              "      <td>1</td>\n",
              "      <td>1</td>\n",
              "    </tr>\n",
              "  </tbody>\n",
              "</table>\n",
              "</div>"
            ],
            "text/plain": [
              "                                 0              1  ...        3              4\n",
              "id                            9046          51676  ...    60182           1665\n",
              "gender                        Male         Female  ...   Female         Female\n",
              "age                             67             61  ...       49             79\n",
              "hypertension                     0              0  ...        0              1\n",
              "heart_disease                    1              0  ...        0              0\n",
              "ever_married                   Yes            Yes  ...      Yes            Yes\n",
              "work_type                  Private  Self-employed  ...  Private  Self-employed\n",
              "Residence_type               Urban          Rural  ...    Urban          Rural\n",
              "avg_glucose_level           228.69         202.21  ...   171.23         174.12\n",
              "bmi                           36.6            NaN  ...     34.4             24\n",
              "smoking_status     formerly smoked   never smoked  ...   smokes   never smoked\n",
              "stroke                           1              1  ...        1              1\n",
              "\n",
              "[12 rows x 5 columns]"
            ]
          },
          "metadata": {},
          "execution_count": 76
        }
      ]
    },
    {
      "cell_type": "markdown",
      "metadata": {
        "id": "jY6aOnZZdRwW"
      },
      "source": [
        "\n",
        "## Data Types & Data Cleaning"
      ]
    },
    {
      "cell_type": "code",
      "metadata": {
        "colab": {
          "base_uri": "https://localhost:8080/",
          "height": 297
        },
        "id": "3Bwb36XUZmmi",
        "outputId": "97d5df43-9e05-4aef-a239-9436c0a28a68"
      },
      "source": [
        "data.describe()"
      ],
      "execution_count": null,
      "outputs": [
        {
          "output_type": "execute_result",
          "data": {
            "text/html": [
              "<div>\n",
              "<style scoped>\n",
              "    .dataframe tbody tr th:only-of-type {\n",
              "        vertical-align: middle;\n",
              "    }\n",
              "\n",
              "    .dataframe tbody tr th {\n",
              "        vertical-align: top;\n",
              "    }\n",
              "\n",
              "    .dataframe thead th {\n",
              "        text-align: right;\n",
              "    }\n",
              "</style>\n",
              "<table border=\"1\" class=\"dataframe\">\n",
              "  <thead>\n",
              "    <tr style=\"text-align: right;\">\n",
              "      <th></th>\n",
              "      <th>id</th>\n",
              "      <th>age</th>\n",
              "      <th>hypertension</th>\n",
              "      <th>heart_disease</th>\n",
              "      <th>avg_glucose_level</th>\n",
              "      <th>bmi</th>\n",
              "      <th>stroke</th>\n",
              "    </tr>\n",
              "  </thead>\n",
              "  <tbody>\n",
              "    <tr>\n",
              "      <th>count</th>\n",
              "      <td>5110.000000</td>\n",
              "      <td>5110.000000</td>\n",
              "      <td>5110.000000</td>\n",
              "      <td>5110.000000</td>\n",
              "      <td>5110.000000</td>\n",
              "      <td>4909.000000</td>\n",
              "      <td>5110.000000</td>\n",
              "    </tr>\n",
              "    <tr>\n",
              "      <th>mean</th>\n",
              "      <td>36517.829354</td>\n",
              "      <td>43.226614</td>\n",
              "      <td>0.097456</td>\n",
              "      <td>0.054012</td>\n",
              "      <td>106.147677</td>\n",
              "      <td>28.893237</td>\n",
              "      <td>0.048728</td>\n",
              "    </tr>\n",
              "    <tr>\n",
              "      <th>std</th>\n",
              "      <td>21161.721625</td>\n",
              "      <td>22.612647</td>\n",
              "      <td>0.296607</td>\n",
              "      <td>0.226063</td>\n",
              "      <td>45.283560</td>\n",
              "      <td>7.854067</td>\n",
              "      <td>0.215320</td>\n",
              "    </tr>\n",
              "    <tr>\n",
              "      <th>min</th>\n",
              "      <td>67.000000</td>\n",
              "      <td>0.080000</td>\n",
              "      <td>0.000000</td>\n",
              "      <td>0.000000</td>\n",
              "      <td>55.120000</td>\n",
              "      <td>10.300000</td>\n",
              "      <td>0.000000</td>\n",
              "    </tr>\n",
              "    <tr>\n",
              "      <th>25%</th>\n",
              "      <td>17741.250000</td>\n",
              "      <td>25.000000</td>\n",
              "      <td>0.000000</td>\n",
              "      <td>0.000000</td>\n",
              "      <td>77.245000</td>\n",
              "      <td>23.500000</td>\n",
              "      <td>0.000000</td>\n",
              "    </tr>\n",
              "    <tr>\n",
              "      <th>50%</th>\n",
              "      <td>36932.000000</td>\n",
              "      <td>45.000000</td>\n",
              "      <td>0.000000</td>\n",
              "      <td>0.000000</td>\n",
              "      <td>91.885000</td>\n",
              "      <td>28.100000</td>\n",
              "      <td>0.000000</td>\n",
              "    </tr>\n",
              "    <tr>\n",
              "      <th>75%</th>\n",
              "      <td>54682.000000</td>\n",
              "      <td>61.000000</td>\n",
              "      <td>0.000000</td>\n",
              "      <td>0.000000</td>\n",
              "      <td>114.090000</td>\n",
              "      <td>33.100000</td>\n",
              "      <td>0.000000</td>\n",
              "    </tr>\n",
              "    <tr>\n",
              "      <th>max</th>\n",
              "      <td>72940.000000</td>\n",
              "      <td>82.000000</td>\n",
              "      <td>1.000000</td>\n",
              "      <td>1.000000</td>\n",
              "      <td>271.740000</td>\n",
              "      <td>97.600000</td>\n",
              "      <td>1.000000</td>\n",
              "    </tr>\n",
              "  </tbody>\n",
              "</table>\n",
              "</div>"
            ],
            "text/plain": [
              "                 id          age  ...          bmi       stroke\n",
              "count   5110.000000  5110.000000  ...  4909.000000  5110.000000\n",
              "mean   36517.829354    43.226614  ...    28.893237     0.048728\n",
              "std    21161.721625    22.612647  ...     7.854067     0.215320\n",
              "min       67.000000     0.080000  ...    10.300000     0.000000\n",
              "25%    17741.250000    25.000000  ...    23.500000     0.000000\n",
              "50%    36932.000000    45.000000  ...    28.100000     0.000000\n",
              "75%    54682.000000    61.000000  ...    33.100000     0.000000\n",
              "max    72940.000000    82.000000  ...    97.600000     1.000000\n",
              "\n",
              "[8 rows x 7 columns]"
            ]
          },
          "metadata": {},
          "execution_count": 77
        }
      ]
    },
    {
      "cell_type": "markdown",
      "metadata": {
        "id": "XxxYjcgYZw83"
      },
      "source": [
        "\n",
        "As shown above, the number of rows (samples) is 5110 and number of columns (variables) is 12. There are some missing values (indicated by NaN). Now, we want to check how many missing values exist in each variable. As well as BMI values need to be imputed."
      ]
    },
    {
      "cell_type": "code",
      "metadata": {
        "colab": {
          "base_uri": "https://localhost:8080/"
        },
        "id": "kWMtgdEAdWn0",
        "outputId": "245dfb46-4545-4c68-c3c2-1a010ad3fcb4"
      },
      "source": [
        "data.dtypes"
      ],
      "execution_count": null,
      "outputs": [
        {
          "output_type": "execute_result",
          "data": {
            "text/plain": [
              "id                     int64\n",
              "gender                object\n",
              "age                  float64\n",
              "hypertension           int64\n",
              "heart_disease          int64\n",
              "ever_married          object\n",
              "work_type             object\n",
              "Residence_type        object\n",
              "avg_glucose_level    float64\n",
              "bmi                  float64\n",
              "smoking_status        object\n",
              "stroke                 int64\n",
              "dtype: object"
            ]
          },
          "metadata": {},
          "execution_count": 78
        }
      ]
    },
    {
      "cell_type": "code",
      "metadata": {
        "colab": {
          "base_uri": "https://localhost:8080/"
        },
        "id": "aJ-uJ0OWi4Vs",
        "outputId": "005d3f6f-1bca-41ef-969b-2bf317dbe85d"
      },
      "source": [
        "# no null values to deal with\n",
        "miss_val = data.isnull().sum()/len(data)*100\n",
        "print(miss_val)\n",
        "print(\"# Missing values in variable bmi\\t\\t: {:.2f}%\".format(miss_val['bmi']))\n",
        "print(\"Data shape: {}\".format(data.shape))"
      ],
      "execution_count": null,
      "outputs": [
        {
          "output_type": "stream",
          "name": "stdout",
          "text": [
            "id                   0.000000\n",
            "gender               0.000000\n",
            "age                  0.000000\n",
            "hypertension         0.000000\n",
            "heart_disease        0.000000\n",
            "ever_married         0.000000\n",
            "work_type            0.000000\n",
            "Residence_type       0.000000\n",
            "avg_glucose_level    0.000000\n",
            "bmi                  3.933464\n",
            "smoking_status       0.000000\n",
            "stroke               0.000000\n",
            "dtype: float64\n",
            "# Missing values in variable bmi\t\t: 3.93%\n",
            "Data shape: (5110, 12)\n"
          ]
        }
      ]
    },
    {
      "cell_type": "markdown",
      "metadata": {
        "id": "0Vw61Gy1LFE-"
      },
      "source": [
        "### Missing/NaN values"
      ]
    },
    {
      "cell_type": "code",
      "metadata": {
        "colab": {
          "base_uri": "https://localhost:8080/"
        },
        "id": "c9GPm-gbeWmg",
        "outputId": "1712b3bd-97b0-4356-ce70-59f17732b378"
      },
      "source": [
        "# replace missing values in variable 'bmi' with its mean\n",
        "data['bmi']=data['bmi'].fillna(data['bmi'].mean())\n",
        "\n",
        "# remove (drop) data associated with missing values in variable 'smoking_status'\n",
        "df = data[data['smoking_status'].notnull()]\n",
        "\n",
        "# drop variable 'id'\n",
        "df.drop(columns='id',axis=1,inplace=True)\n",
        "\n",
        "# validate there's no more missing values\n",
        "miss_val = df.isnull().sum()/len(df)*100\n",
        "print(miss_val)\n",
        "print(\"# Missing values in variable 'bmi'\\t\\t: {}\".format(miss_val['bmi']))\n",
        "print(\"Shape of data without missing values: {}\".format(df.shape))"
      ],
      "execution_count": null,
      "outputs": [
        {
          "output_type": "stream",
          "name": "stdout",
          "text": [
            "gender               0.0\n",
            "age                  0.0\n",
            "hypertension         0.0\n",
            "heart_disease        0.0\n",
            "ever_married         0.0\n",
            "work_type            0.0\n",
            "Residence_type       0.0\n",
            "avg_glucose_level    0.0\n",
            "bmi                  0.0\n",
            "smoking_status       0.0\n",
            "stroke               0.0\n",
            "dtype: float64\n",
            "# Missing values in variable 'bmi'\t\t: 0.0\n",
            "Shape of data without missing values: (5110, 11)\n"
          ]
        }
      ]
    },
    {
      "cell_type": "markdown",
      "metadata": {
        "id": "yDlhX9ICQ6NP"
      },
      "source": [
        "## Changing Category to Numerical Values"
      ]
    },
    {
      "cell_type": "code",
      "metadata": {
        "colab": {
          "base_uri": "https://localhost:8080/"
        },
        "id": "g1q5OBTlQpZj",
        "outputId": "7d4ca712-02c8-4c74-d3d7-5c027ce96797"
      },
      "source": [
        "# Check the values of categories\n",
        "print(\"Unique 'gender': {}\".format(df['gender'].unique()))\n",
        "print(\"Unique 'ever_married': {}\".format(df['ever_married'].unique()))\n",
        "print(\"Unique 'work_type': {}\".format(df['work_type'].unique()))\n",
        "print(\"Unique 'Residence_type': {}\".format(df['Residence_type'].unique()))\n",
        "print(\"Unique 'smoking_status': {}\".format(df['smoking_status'].unique()))"
      ],
      "execution_count": null,
      "outputs": [
        {
          "output_type": "stream",
          "name": "stdout",
          "text": [
            "Unique 'gender': ['Male' 'Female' 'Other']\n",
            "Unique 'ever_married': ['Yes' 'No']\n",
            "Unique 'work_type': ['Private' 'Self-employed' 'Govt_job' 'children' 'Never_worked']\n",
            "Unique 'Residence_type': ['Urban' 'Rural']\n",
            "Unique 'smoking_status': ['formerly smoked' 'never smoked' 'smokes' 'Unknown']\n"
          ]
        }
      ]
    },
    {
      "cell_type": "code",
      "metadata": {
        "id": "vteamkyISi5e"
      },
      "source": [
        "# create encoder for each categorical variable\n",
        "from sklearn.preprocessing import LabelEncoder, StandardScaler\n",
        "\n",
        "label_gender = LabelEncoder()\n",
        "label_married = LabelEncoder()\n",
        "label_work = LabelEncoder()\n",
        "label_residence = LabelEncoder()\n",
        "label_smoking = LabelEncoder()"
      ],
      "execution_count": null,
      "outputs": []
    },
    {
      "cell_type": "code",
      "metadata": {
        "colab": {
          "base_uri": "https://localhost:8080/"
        },
        "id": "rV4AyTj4TOEk",
        "outputId": "930dd78a-b9ea-4c4c-d28e-14c1e47724b4"
      },
      "source": [
        "df['gender'] = label_gender.fit_transform(df['gender'])\n",
        "df['ever_married'] = label_married.fit_transform(df['ever_married'])\n",
        "df['work_type']= label_work.fit_transform(df['work_type'])\n",
        "df['Residence_type']= label_residence.fit_transform(df['Residence_type'])\n",
        "df['smoking_status']= label_smoking.fit_transform(df['smoking_status'])\n",
        "with pd.option_context('expand_frame_repr', False):\n",
        "    print(df.head(6).T)"
      ],
      "execution_count": null,
      "outputs": [
        {
          "output_type": "stream",
          "name": "stdout",
          "text": [
            "                        0           1       2       3       4       5\n",
            "gender               1.00    0.000000    1.00    0.00    0.00    1.00\n",
            "age                 67.00   61.000000   80.00   49.00   79.00   81.00\n",
            "hypertension         0.00    0.000000    0.00    0.00    1.00    0.00\n",
            "heart_disease        1.00    0.000000    1.00    0.00    0.00    0.00\n",
            "ever_married         1.00    1.000000    1.00    1.00    1.00    1.00\n",
            "work_type            2.00    3.000000    2.00    2.00    3.00    2.00\n",
            "Residence_type       1.00    0.000000    0.00    1.00    0.00    1.00\n",
            "avg_glucose_level  228.69  202.210000  105.92  171.23  174.12  186.21\n",
            "bmi                 36.60   28.893237   32.50   34.40   24.00   29.00\n",
            "smoking_status       1.00    2.000000    2.00    3.00    2.00    1.00\n",
            "stroke               1.00    1.000000    1.00    1.00    1.00    1.00\n"
          ]
        }
      ]
    },
    {
      "cell_type": "markdown",
      "metadata": {
        "id": "HwE7w-nJj3Qv"
      },
      "source": [
        "- Unique 'gender': ['Male' 'Female' 'Other'][0,1,2]\n",
        "- Unique 'ever_married': ['Yes' 'No'][0,1]\n",
        "- Unique 'work_type': ['Private' 'Self-employed' 'Govt_job' 'children' 'Never_worked']0,1,2,3,4]\n",
        "- Unique 'Residence_type': ['Urban' 'Rural'][0,1]\n",
        "- Unique 'smoking_status': ['formerly smoked' 'never smoked' 'smokes' 'Unknown'][0,1,2,3]"
      ]
    },
    {
      "cell_type": "markdown",
      "metadata": {
        "id": "mZzccrC-DFiB"
      },
      "source": [
        "The data here looks good so far. Do check if anything else need to be done."
      ]
    },
    {
      "cell_type": "markdown",
      "metadata": {
        "id": "clg4y44bY9E1"
      },
      "source": [
        "# Descriptive Analytics"
      ]
    },
    {
      "cell_type": "markdown",
      "metadata": {
        "id": "RovOCLP_EJk5"
      },
      "source": [
        "## Correlation of features"
      ]
    },
    {
      "cell_type": "code",
      "metadata": {
        "colab": {
          "base_uri": "https://localhost:8080/",
          "height": 479
        },
        "id": "ilWCZyughMpK",
        "outputId": "23a7ce8a-68b6-4512-bb28-2a21d042d90a"
      },
      "source": [
        "fig, ax = plt.subplots(figsize=(8,6))\n",
        "im = ax.matshow(df.corr())\n",
        "ax.set_xticks(np.arange(df.shape[1]))\n",
        "ax.set_yticks(np.arange(df.shape[1]))\n",
        "ax.set_xticklabels(df.columns,rotation=90)\n",
        "ax.set_yticklabels(df.columns)\n",
        "# Create colorbar\n",
        "cbar = ax.figure.colorbar(im, ax=ax)\n",
        "cbar.ax.set_ylabel(\"Correlation\", rotation=-90, va=\"bottom\", fontsize=12)\n",
        "fig.tight_layout()\n",
        "fig.text(0.20,1,'Correlation of Features',{'fontname':'Serif', 'weight':'bold','color': 'black', 'size':35})\n",
        "plt.show()"
      ],
      "execution_count": null,
      "outputs": [
        {
          "output_type": "display_data",
          "data": {
            "image/png": "[encoded data removed]",
            "text/plain": [
              "<Figure size 576x432 with 2 Axes>"
            ]
          },
          "metadata": {
            "needs_background": "light"
          }
        }
      ]
    },
    {
      "cell_type": "markdown",
      "metadata": {
        "id": "YxwCp3s_hkFK"
      },
      "source": [
        "Useful to measure the inter-feature correlation.\n",
        "- 'ever_married' and 'age' seem to have positive correlation\n",
        "- 'work_type' and 'age'\n",
        "- 'work_type' and 'marriage'\n",
        "\n",
        "Observation:\n",
        "\n",
        "Variables that are showing some effective correlation are:\n",
        "\n",
        "age, hypertension, heart_disease, ever_married, avg_glucose_level."
      ]
    },
    {
      "cell_type": "markdown",
      "metadata": {
        "id": "7YtOA7dFZYcv"
      },
      "source": [
        "## Histogram of features"
      ]
    },
    {
      "cell_type": "code",
      "metadata": {
        "colab": {
          "base_uri": "https://localhost:8080/",
          "height": 585
        },
        "id": "iY4GQ8E-jfvV",
        "outputId": "3c222738-4a22-4312-c303-21261caa83f4"
      },
      "source": [
        "fig = df.hist(figsize=(10,8))\n",
        "plt.tight_layout()\n",
        "plt.show()"
      ],
      "execution_count": null,
      "outputs": [
        {
          "output_type": "display_data",
          "data": {
            "image/png": "[encoded data removed]",
            "text/plain": [
              "<Figure size 720x576 with 12 Axes>"
            ]
          },
          "metadata": {
            "needs_background": "light"
          }
        }
      ]
    },
    {
      "cell_type": "markdown",
      "metadata": {
        "id": "eQII0lDgrzVQ"
      },
      "source": [
        "## Pie Chart of Stroke Data"
      ]
    },
    {
      "cell_type": "code",
      "metadata": {
        "colab": {
          "base_uri": "https://localhost:8080/",
          "height": 427
        },
        "id": "KZUjxHjUa1Ik",
        "outputId": "431eb97c-84a0-4058-f1f7-59d3e102bf0c"
      },
      "source": [
        "# We want to have general understanding of Dataset, by find\n",
        "\n",
        "labels = ['No Stroke','Stroke']\n",
        "sizes = df['stroke'].value_counts(sort = True)\n",
        "\n",
        "colors = [\"#f6f7f9\",\"#fe346e\"]\n",
        "explode = (0.05,0) \n",
        " \n",
        "plt.figure(figsize=(7,7))\n",
        "plt.pie(sizes, explode=explode, labels=labels, colors=colors, autopct='%1.1f%%', shadow=True, startangle=90,)\n",
        "\n",
        "plt.title('Number of stroke in the dataset')\n",
        "plt.show()"
      ],
      "execution_count": null,
      "outputs": [
        {
          "output_type": "display_data",
          "data": {
            "image/png": "[encoded data removed]",
            "text/plain": [
              "<Figure size 504x504 with 1 Axes>"
            ]
          },
          "metadata": {}
        }
      ]
    },
    {
      "cell_type": "markdown",
      "metadata": {
        "id": "8ac6SFf_rcIB"
      },
      "source": [
        "The class is highly imbalanced, we have to solve this issue so that our model will not be biased towards the majority class."
      ]
    },
    {
      "cell_type": "markdown",
      "metadata": {
        "id": "peKPeRPdqI6x"
      },
      "source": [
        "# Data Preprocessing"
      ]
    },
    {
      "cell_type": "markdown",
      "metadata": {
        "id": "6eLkSKH0sC-L"
      },
      "source": [
        "## Handling Imbalanced Data"
      ]
    },
    {
      "cell_type": "markdown",
      "metadata": {
        "id": "Ez8xL2N6tpcb"
      },
      "source": [
        "* There are several techniques that can be used to handle highly imbalanced class. This article nicely summarises those different techniques. In this dataset, we are going to use one of oversampling technique called Synthetic Minority Oversampling Technique (SMOTE), by synthesising new samples from the minority class to have the same number of samples as the majority class (illustrated in figure below). \n",
        "* Oversampling technique is chosen because we do not want to loose significant amount of information (95.1%) as if we use undersampling technique.\n",
        "\n",
        "[Imbalanced data technique](https://www.kdnuggets.com/2020/01/5-most-useful-techniques-handle-imbalanced-datasets.html)\n",
        "\n",
        "![Screenshot 2021-11-11 153824.jpg](data:image/jpeg;base64,/9j/4AAQSkZJRgABAQEAkACQAAD/2wBDAAMCAgMCAgMDAwMEAwMEBQgFBQQEBQoHBwYIDAoMDAsKCwsNDhIQDQ4RDgsLEBYQERMUFRUVDA8XGBYUGBIUFRT/2wBDAQMEBAUEBQkFBQkUDQsNFBQUFBQUFBQUFBQUFBQUFBQUFBQUFBQUFBQUFBQUFBQUFBQUFBQUFBQUFBQUFBQUFBT/wAARCAFOBAYDASIAAhEBAxEB/8QAHwAAAQUBAQEBAQEAAAAAAAAAAAECAwQFBgcICQoL/8QAtRAAAgEDAwIEAwUFBAQAAAF9AQIDAAQRBRIhMUEGE1FhByJxFDKBkaEII0KxwRVS0fAkM2JyggkKFhcYGRolJicoKSo0NTY3ODk6Q0RFRkdISUpTVFVWV1hZWmNkZWZnaGlqc3R1dnd4eXqDhIWGh4iJipKTlJWWl5iZmqKjpKWmp6ipqrKztLW2t7i5usLDxMXGx8jJytLT1NXW19jZ2uHi4+Tl5ufo6erx8vP09fb3+Pn6/8QAHwEAAwEBAQEBAQEBAQAAAAAAAAECAwQFBgcICQoL/8QAtREAAgECBAQDBAcFBAQAAQJ3AAECAxEEBSExBhJBUQdhcRMiMoEIFEKRobHBCSMzUvAVYnLRChYkNOEl8RcYGRomJygpKjU2Nzg5OkNERUZHSElKU1RVVldYWVpjZGVmZ2hpanN0dXZ3eHl6goOEhYaHiImKkpOUlZaXmJmaoqOkpaanqKmqsrO0tba3uLm6wsPExcbHyMnK0tPU1dbX2Nna4uPk5ebn6Onq8vP09fb3+Pn6/9oADAMBAAIRAxEAPwD9U6KKKACiiigAooooAKKKKACiiigAooooAKKKKACiiigAooooAKKKKACiiigAooooAKKKKACiiigAooooAKKKKACiiigAooooAKKKKACiiigAooooAKKKKACiiigAooooAKKKKACiiigAooooAKKKKACiiigAooooAKKKKACiiigAooooAKKKKACiiigAooooAKKKKACiiigAooooAKKKKACiiigAooooAKKKKACiiigAooooAKKKKACiiigAooooAKKKKACiiigAooooAKKKKACiiigAooooAKKKKACiiigAooooAKKKKACiiigAooooAKKKKACiiigAooooAKKKKACiiigAooooAKKKKACiiigAooooAKKKKACiiigAooooAKKKKACiiigAooooAKKKKACimvIsa7nYKPVjilBDDIORQAtFFFABRRRQAUUUUAFFFFABRRTJJUjxvdUz03HFAD6KZ5qBlBdQW6DPWn0AFFFFABRRRQAUUUUAFFFFABRRRQAUUUUAFFFFABRRRQAUUUUAFFFFABRRRQAUUUUAFFFFABRRRQAUUUUAFFFFABRRRQAUUUUAFFFFABRRRQAUUUUAFFFFABRRRQAUUUUAFFFFABRRRQAUUUUAFFJuGcZ5paACiiigAooooAKKKKACiiigAooooAKKKY8qR43uq/7xxQA+imeam/ZvXd1255p9ABRRRQAUUUUAFFFFABRRRQAUUUUAFFFFABRRRQAUUUUAFFFFABRRRQAUUUUAFFFFABRRRQAUUUUAFFFFABRRRQAUUUUAFFFFABRRRQAUUUUAFcx8TtQudJ+HPia9s5mt7u306eWKaM4ZGEZII9wa6euX+KFnLqXw38T2sCF5ptOnjRVHJJjIAoA+ef8AgnP8S/FPxS+D+rar4s1y712/TVJYUnvH3MqAkBR7cVzv7HPxi8YeOv2hvjxoviHX7zVNI0HWXg0+1nfKW0YeUbVHphR+Vcv/AMEu/iN4Z0T4SeLdH1LW7LTtR03WZ/tFveTLEyjJOcNjPXtWf/wTznTxH8ev2lNesG+0aVNrzeTdJ9yQM85BU9xigD2XUP8AgpH8ErPQ59Ui1jUb2O3uXtZobXTpJJoimNzMgGQvP3jwcGvVdD/aQ+H/AIg+ETfEu112EeEUiMr3knylADggqTwc8Yr4f/4JyeCdD1b9nj40ane6XaXd6+oapbmaeFXYIIAQASOOSa8F238X/BP68gs/MGlw+MmS9RM7VtvMlyD7ZxQB79+2x+3x4Q+JX7NOq/8ACs/Emq6Vr0ep2phmktntXmi3NuMZYfMMYzj1FfXmuftE+D/gT8F/Cmv+OdXa1F3ZQLGiKZZ7iQoDhUHLHntXxl/wUIT4af8ADCfhf/hHBo/9o+dYmx+xhPO8n+POOem3Oaz/ANqz+2pPjt+zfFB/ZR03/hH42gHiAv8AYPtW2XG/bznG3HvigD7n+CP7WXw9+PzX8HhjULhdQsU8yfT9Qt2t7hU/vCNsMR747iuO1P8A4KFfBvTZrWA6xfT3dxqbaSltDYyNL54Kg5UDOPnGD0PNeDeDfh/4ik/a+03xNrHizwJp2u22ntb3mheGBceZcwsqEMfk2dFHfvUX/BNbwHoereNvi3rGoaZa392urlImuoll8ra2QU3A7Tz1HPAoA+gvHv7f3wn+H/iGfRrm71bUry2RXuTpemy3MduGUMN7ICFIBGQelehaV+0p8PdZ+EMvxMttfhbwhEjO94xAIKjJTbn73+z1r4B1/wCFvi7wP8SPiJ4h+CXjnw54r0i4unl1nw3qcSi4R9o3KWlQYGBj5W9K29J/a28MQ/sO61q+u/DCwhGnasmly6DbM32KW4beA+4PkjKHOD3oA+lfA/8AwUU+DnjzxXYaBaajqdjd6hIIrOXUtOkt4p2JwAruADk9K7f4iftc/Db4W+NL7wr4i1Wez1u0tPtrQC2ZhIh24CH+JvmHyjnrX50/tV2njBde/Z+1PxJP4PsLa78TWb2ei+GVPmWqGSIgyMVyRjj7xGa9z8e6FYa//wAFQ/DceoW0V5FFpKyrHMoZS2yMcg8HrQB7Zo//AAUW+DOt+GdU1e31a/D6dIIptNksZFvNxz92EjcenYV33wz/AGq/h58Wvhxq3jbw9qc1xo2kh/tqyQMk8BUbiGjPzZxXyV8BfBOhXH/BSX4tLJpVm8NvEWjgaFTGpZpcnbjHYdq479le3jsPCv7VdpboIbaO5uisSDCj9ynQUAfTmo/8FL/gZp1lpt22uahLBe9Hi06RvJHYyYHyZzxnrzXCf8FBPizNP8M/hX4i8Fa/JHp+r63Cq3VjL8s8LyRAgkdQQSK8m/Y7j+Gd1/wTn8RHWhpDaiEvRetd7Dcj5zswT83TOMdq8h1M6j/wxF8GPt/meT/wmC/Y/Mz/AKjzLfbj2zmgD7h+KWvabZ/tIfAe1u/H+o6FqN1puYfDtvbPJBqfyNlpHBwpHPX0rvvF/wC298LPBOs+JdI1DUr46r4fkWG7s4LF5JCzbgBGBy/3T09q+aP2j/8Ak/P9lD/sEv8A+gSVY/Z78N6brn/BRL4wTahZw3pgDBEuEDqMs/ODxnjrQB9afAv9pzwD+0R4fvdX8Iaq00FixW6ju4zBJDgZJZW5A9zXnzf8FEPguPG1/wCGhrl089jI0M96lm5tEcZyvnfd7Hv2r5b+AOnzaT8Yv2v9O0GIWyxaVN5FvANqqTCM7QOhpv7Ht98M7T/gnp4hXxK2k/8ACQq1/wD2klyFN5v89/L4Pzk49KAP0E+DXxo8L/HrwVH4r8IXU15o0kzwLLPC0TFlAJ+U8/xCu6r44/4JP4/4ZF0/b93+1bnH/fMdfY9ABRRRQAUUUUAFFFFABRRRQAUUUUAFFFFABRRRQAUUUUAFFFFABRRRQAUUUUAFFFFABRRRQAUUUUAFFFFABRRRQAUUUUAFFFFABRRRQAUUUUAFFFFABRRRQAUUUUAFFFFABXgn7aH7Rjfs2/B+fWrKFbnXtQlFjpcLdGnbHX6DJ/Cve6+F/wDgrR4V1HV/hB4M1+zgkuLTw14gi1K9WNScRY29PqRQByHhn9nL9rDx14Nt/HVx8ebnSNZvLdb2Dw/HC3lIGXcIy3mYGcj6YrtP2bv2/oI/hT4lm+L5msvEHg+6Sz1SaytnlLBmCJIUGSMsT37V9A/Df9obwBrnwX0jxQvifS7fTxpySSrJcKrREINyFM7sg8cCvhv9jf4Yp+0NrX7S3iM2Rbw54wiay05pFIQzqGKuv0LKfwoA/QPxj8evBngX4Wx/ELVdTKeGZYI7iOeFDI7q4BUBByW+Ycdetct8Qv2wvhr8MvAvh7xTrmp3MNpr8Kz6dZpas13OrAEfuR8wPIzxxmvzL8H+Mtc+Nlj8L/2aLg3DXmg+I5xqtywIJhikm2h/9nGwflXs37TGn67Y/wDBQ7wjp2kQ6DDYW+gxpo8XiXeLBZgBuA2g/NnbjtQB9u/B79qb4f8Axx0LV9T8MalNJ/ZMbS31ndQNDcwKoySY2+bGPauFtf8Agod8GtQ1TRNOs9Xv7u91e7ls7eCKwkLh43KNuAHyjIPXqOa8D+GPgPWLL9obx14kv/FfgtNTk0O5ttU8P+FxcckQuyu25Ande/arv/BLfwHoF98NPHms3+nWtxeya5cgXU8KyPCFklGUJBK8elAHt3jb/goZ8IfA/iTUNGubzVr+TT38u7u9N0yW4toSOuZUBXjvzXqk37QHgW3+Eo+JT65D/wAIgYPtAvgQQV3bcAZ5OeMetfm/cfDnxv8AC3/hONY+EXi/wx8RPAMtzcT32hahGi3CnGZFdpEVumBw30r1Jv2rvCN7+xTpeuap8OLUGS/GlwaApZbD7TvPJIbOzgnr1oA93+Hf/BRL4O/ErxlpfhnT9R1Oz1HVW22Dalp0lvFcZIxtdwB3FdN42/bS+Fvw/wDFGv8AhzV9Wuo9a0WNZJ7SO0dmkDHA8rH3/wAK+BfjxY+Jrfxp8Db7xHL4S077RqUL6fpPhlTm1iyvDsRuPVe56V698N/D+na9/wAFNfFDajZw3og0hWRLhA65KOM4PFAHuVn/AMFGvgtqHgqfxJbaxfTRQzm3ksEsXN4rDOcw43AcHnFd/wCG/wBq34deLPgvefFPTtVln8JWcbyXEwgbzY9i5YGPqCB2r45/Y68EaFcftEftCPLpVpKsDXCRRyQqyICMnCkYBzXn/wAE4ltf2Efj9axDZbxT3wSMdF+VugoA+wtQ/wCCk3wO0650mJ9evGTUMbZ0sXMcOTgCVuiH2OOCDXCf8FGviZqWk/Dv4eax4T1ya0t9T1i2xc2UmBNC6sw5HUEYNeXeB4vhbc/8EvUkuRozap/Zb/ank2fa/tHntsyfvZxs6dq81+Kzas37DfwK/tnzftP9tweX5uc+Vh/L/DbigD7M1jXtNj/bi8J2Enj7UbbVpfDYkHhJbZ2tp12yfvjJnaG68f7NdF4h/b6+EXhsa6txqmoS3Oi3Zs7q1g0+R5fMA3HaoGWGO44rwTxR/wApZfAH/Ykj/wBAnrO/Ye8K6Vrn7Qn7QNxqNhb3zpcyRKLiMSBQdnQHofegD7M+Dn7RngX46eBpfFvhfWFl0eHIuHuh5LQY67w33R9fSvLNP/4KOfBLUdc1XTo9cvFXTRJ5t41k4t2ZFLMqSfdY4HAB5yK+O/hLZ31j8Df2zdP0BHhNvcXEdvBbDBRcz8IB07dK67wLqHwpg/4JiQpfNo510aVIt2gVTefbN7bcjG/P3MkcYoA/Qf4U/FPw/wDGbwPYeLPDE8tzot7u8mSaIxMdrFTlTyORXXV8wf8ABNj/AJM/8F/W4/8ARrV9P0AFFFFABRRRQAUUUUAFFFFABRRRQAUUUUAFFFFABRRRQAUUUUAFFFFABRRRQAUUUUAFFFFABRRRQAUUUUAFFFFABRRRQAUUUUAFFFFAHyn8SP8Agmj8FPiX4su/EN3pV/pt/eMXuV028a3jkJ5OVXjJr2v4NfAjwZ8BPB48NeDdLXTtOJzIzHdLKfV3xljyevrXoNFAHlnwn/Zs8E/Bfwfr3hnwxa3VvpWtzTT3iz3JkdnlXa5DHpwKpeFP2Ufh14P+GeteAbTSpbnwzrEjy3drezGYszMWJBI45NewUUAfJln/AMEw/gbb6HeaTLpWqXVrOwKGbUXZ4FGfljYj5Qc8464HpXrPxY/Zd8AfGjwVpXhjxNpklxY6UqCxnil2XEBUAKVkxkHivWqKAPC/gr+xr8OfgVrF7rOh2l5ea5dwm3k1LVLlrmfyz/CrtyBwO/YV1Xwg/Z98H/A6bWpfC1vdQPrE5ubv7RcGXc57jPSvSqKAPm74jfsC/Cz4ieLr7xJJBquh6lf8Xn9i372kdwOM7lTAJOBya6Vv2Ofha3wWk+Fg0Hb4SkfzWiWTExkAIEnmYzv5Pzdea9sooA+XLD/gnF8HraDTRc2+tajcadcx3VpdXepvJLCyMGUKx5CgqOB716nJ+zl4Mk+Lln8SXgvH8U2lstpHO1yxj8sBQMp0J+Uc16hRQB5n4Y/Z58HeEfixr3xG063uk8T60u28lkuC0bDLHhOg+8a898Ufs2+E/hF8MfireeELK8GpeJbWea6SW4aXzJWTA2g9M4HFfR1NZVkUqyhlPUEZFAH5u/sff8E/vAvxP/Z38NX3j7QdU0rXY7m4W7top2tvPUSfL5qD73A4J9TX2N44/ZV+Hnj7wb4X8Lajpc0Gh+Gpkn021sZjAsbKVIzgcjKivW44khXbGiov91RgU+gDy7xV+zf4J8ZfETwX431O0uZNf8IwmDSpkuCqIpBGGX+LhjUvhH9nnwd4J+KGvfEDS7e6j8R63/x+SyXBaNuSeE6Dqa9MooA8i8P/ALPPhb4W+IPH3jbwtp1xP4o8S2rm7iurgvFcSKvyKFI+UEgCvzfWPwLp+teK9S8S/APxDo3xRknkjsbGyiNxp80hJBlIKqBk8jg9a/X2qz6daSSeY9rC0n95owT+eKAPnj/gn38J9c+Df7M+haH4js30/VppZL2W0kBDw71T5WHYjbX0hSUtABRRRQAUUUUAFFFFABRRRQAUUUUAFFFFABRRRQAUUUUAFFFFABRRRQAUUUUAFFFFABRRRQAUUUUAFFFFABRRRQAUUUUAFFFFABRRRQAUUUUAFFFFABRRRQAUUUUAFFFFABWf4g8P6f4p0a70nVbSK+0+7jMU1vMoZXU9iDWhRQB8e6l/wSr+BGo6097/AGXqlvA8nmvYwag6QFvZBwByeK+n/h/8PfD/AML/AAvaeHvDOmw6VpVqu2OCFAo+px1PvXR0UAeSeE/2Wvh74K+L+sfEvStKki8U6pF5VxM0u6IDKnKpjCt8o5HvS/Hf9l/wH+0TbWK+LLCZrywbfaX9lKYbiFuPuuOR0H5V61RQB4l8G/2P/h18D7bWx4fsbqW91qFre+1G+uDNcyoRgjzDyBiuo+DPwE8I/AbQL/RvCdtcQWF9cPdTpdTmYs7Fi3J7ZY8V6LRQB8w+NP8Agnb8JPGXibU9a8jWNGk1Ri17a6TqL21vNnOQY145ya9A1b9lL4bax8HovhnLoKR+FoVxFFEQskbZzvD4yGz3969eooA+X9M/4J0/CGxsbCGe21i/ubCeOe1vrnUne4gKZ2qjnlV5+6OOB6V6j4f/AGc/Bnhn4tXvxHsre7Hii8gFtLNJcs0ZQAgDZ07mvT6KAPLvAP7N/gr4beJ/FWv6JbXcWo+JSzag01yXViwwdoP3a8Y+OP7Nfh34Rfsp/FDQ/Aen30k+tWtxKbeSZp3lmdG4XPqT0r64pskayqVdVdfRhkUAfA37OX/BPX4aePvgb8Ota8X6DqFjraWpe+09J2gjmkEz4MsY4Y4C9ewFfUvxP/Zl8B/FzwxoHh/XbCddK0OSKSxt7KcwCMxrtQcdgO1eqRxrGoVFCKOiqMCnUAeZXn7O/gy++M2mfFKW0uT4u06w/s2C4FwRGIcMMFOhPzHmm/DX9nPwZ8J/EnifXfD9tdQ6h4jcyag01yZFdjjJUH7vQV6fRQB4jY/AHQvgl4X+JGq+ANEk1PX/ABGHvZ7DULgyRXVwNxC4IO0Euexr8300/wADQ6J4pWL4D+JdH+LWqedZQacsJuLGMyKU3rkDafmJ4X0r9jqrf2baGTzDawmTrv8ALGfzxQB47+xr8L9U+D/7OvhLwxrMfk6nbwGWaI9Y2kO/afcZwfpXtdFFABRRRQAUUUUAFFFFABRRRQAUUUUAFFFFABRRRQAUUUUAFFFFABRRRQAUUUUAFFFFABRRRQAUUUUAFFFFABRRRQAUUUUAFFFFABRRRQAUUUUAFFFFABRRRQAUUUUAFFFFABRRRQAUUUUAFFFFABRRRQAUUUUAFFFFABRRRQAUUUUAFFFFABRRRQAUUUUAFFFFABRRRQAUUUUAFFFFABRRRQAUUUUAFFFFABRRRQAUUUUAFFFFABRRRQAUUUUAFFFFABRRRQAUUUUAFFFFABRRRQAUUUUAFFFFABRRRQAUUUUAFFFFABRRRQAUUUUAFFFFABRRRQAUUUUAFFFFABRRRQAUUUUAFFFFABRRRQAUUUUAFFFFABRRRQAUUUUAFFFFABRRRQAUUUUAFFFFABRRRQAUUUUAFFFFABRRRQAUUUUAFFFFAHJeMvip4Y+H80MOvaolhJMMorIxyPwFc3/w018N/wDoZIf+/T//ABNfPH7e/wDyMGg/9cj/AFr5Pr7PA5JQxWHjWlJpv0PksZm9bD15UoxVkfpv/wANNfDf/oZIf+/T/wDxNH/DTXw3/wChkh/79P8A/E1+ZFFd/wDq7hv53+H+Rx/27iP5V+P+Z+m//DTXw3/6GSH/AL9P/wDE0f8ADTXw3/6GSH/v0/8A8TX5kUUf6u4b+d/h/kH9u4j+Vfj/AJn6b/8ADTXw3/6GSH/v0/8A8TR/w018N/8AoZIf+/T/APxNfmRRR/q7hv53+H+Qf27iP5V+P+Z+oWlftC+Ada1CCxs9fimup3CRxiNxuYnAHSvRq/Kr4N/8lQ8N/wDX9F/6GK/VWvms2wFPATjGm27rqfQZZjZ42EpTSVuwUUUV4R7IUUUUAFFFFABRRRQAUUUUAFFFFABRRRQAUUUUAFFFFABRRRQAUUUUAFFFFABRRRQAUUUUAFFFFABRRRQAUUUUAFFFFABRRRQAUUUUAFFFFABRRRQAUUUUAFFFFABRRRQAUUUUAFFFFABRRRQAUUUUAFFFFABRRRQAUUUUAFFFFABRRRQAUUUUAFFFFABRRRQAUUUUAFFFFABRRRQAUUUUAFFFFABRRRQAUUUUAFFFFABRRRQAUUUUAFFFFABRRRQAUUUUAFFFFABRRRQAUUUUAFFFFABRRRQAUUUUAFFFFABRRRQAUUUUAFFFFAHxP+3v/wAjBoP/AFyP9a+T6++v2otHn1LVNLaLwPp3ioKhzJe6gbcx+wAkTNeF/wDCJ3n/AERrQP8AweN/8kV+jZXi408JCLX4x/VnwWYYaU8VOSf4P/I+eaK+hv8AhE7z/ojWgf8Ag8b/AOSKP+ETvP8AojWgf+Dxv/kivV+vQ7f+TR/+SPN+pz7/AIS/yPnmivob/hE7z/ojWgf+Dxv/AJIo/wCETvP+iNaB/wCDxv8A5Io+vQ7f+TR/+SD6nPv+Ev8AI+eaK+hv+ETvP+iNaB/4PG/+SKP+ETvP+iNaB/4PG/8Akij69Dt/5NH/AOSD6nPv+Ev8jyz4N/8AJUPDf/X9F/6GK/VWvg7w9pl/4e1q01KP4PaPE1rIsxkttZLyKFOSVUznJ46Yr7X8I+KrLxloNtqljIGjlX5k7xuOGUj1ByPwr4vPq6rVYNLZd0/ybPrcloulTnfq/P8AVI2qKKK+YPogooooAKKKKACiiigAooooAKKKKACiiigAooooAKKKKACiiigAooooAKKKKACiiigAooooAKKKKACiiigAooooAKKKKACiiigAooooAKKKKACiiigAooooAKKKKACvnXxp+2hoXgvxNfaLPoV1PLaPsaRZgAfw219FV+XHx8/5K14i/wCvg/yr6HJsHRxlWUayukjw82xVXC04ypOzbPqH/hvjw7/0Lt5/3/H/AMTR/wAN8eHf+hdvP+/4/wDia+HaK+t/sPA/yv72fMf2xjP5vwR9xf8ADfHh3/oXbz/v+P8A4mj/AIb48O/9C7ef9/x/8TXw7RR/YeB/lf3sP7Yxn834I+4v+G+PDv8A0Lt5/wB/x/8AE0f8N8eHf+hdvP8Av+P/AImvh2ij+w8D/K/vYf2xjP5vwR9xf8N8eHf+hdvP+/4/+Jr034K/tC6b8abq+hsdNmsDaruYyyBs9PYetfmhX1t+wN/yF/EH/XMf0rzcxynCYfCzq046rzZ34HM8TXxEac5aPyR9pUUUV8GfaBRRRQAUUUUAFFFFABRRRQAlCsHUFTkHuK+bPHVnd/HT9oi/8AXt/dWfg7w3YQ3Go2tnM0L3s06h4gZEIZQArj5SOtdJ4Q+CI+CHja51/Qtfms/Af2KR9S0nUbqa5MbIrMJY3csw7ZG7ovAoA9worwSz/awgkntb6+8E67pfg+6uTbReKLhofsh5IV9ocyBSQACV7irXin9pw6V4+1zwhoPgTXvFuraNDHPdrprQKqo+7bzI68nafyoA9xorwe8+Mfh3xxqnwi1W1n1K3GtX95Hb28LKFWSO3culwCeg2nGM847UzUP2srZb7V5tJ8F65r3hrSbhrW88QWbQC3jkRikg2s4c7WBBwp6cZoA97orw3xN+1NY2XiKTRvC3hjVPHF3Dp0WqTf2VLAgSCQuEOJXQnJjbpnpXqngXxdB478K2GuW9tcWcd0pP2e6TbJGwYqysPUEGgDeorxLxV+0x/ZWu6xZ+H/BGueMbDRjs1HU9LaEQwSDO5MSOrFgQQdoPSvJPjB8Trz4rfFr4UaRo+la9qHhDVvOuTNpVxHCtxhD82d6tiMruI7hTjPSgD7Iorxf9qLx5rnwh+A2pap4Zsry71C1SCCO4tzGWtl3ovmP5h5BHy9zlh9a8tuvjJ4j0f9oASReENf1S/uNDt3TwxbzQiVCQ+9yWkEfHGfmz6ZoA+uqK8Tsf2qvDs3wzvvFl3pl/p91Z3QsJtDm2G7F0SAsPykruO5TnOMHk1d+H37Qi+LPGUPhXXvCereCtcurVry0ttVeF/tESlQxUxOwypdQQSOvFAHr9FFFABRRRQBxfxM+Jtp8M9Pt7u7tZLpZpPLCxttxwT6H0rzn/AIa20X/oDXP/AH9H/wATR+1p/wAixpf/AF8j/wBBavlmvxDinirNMqzOWGws0oJLonuj9a4e4dy/MMBHEYiLcm31aPqb/hrbRf8AoDXP/f0f/E0f8NbaL/0Brn/v6P8A4mvlmivkv9e88/5+L/wFH0v+qGU/yP8A8CZ9Tf8ADW2i/wDQGuf+/o/+Jo/4a20X/oDXP/f0f/E18s0Uf6955/z8X/gKD/VDKf5H/wCBM+pv+GttF/6A1z/39H/xNH/DW2i/9Aa5/wC/o/8Aia+WaKP9e88/5+L/AMBQf6oZT/I//AmfVEf7WmjSOq/2Pc/Mcf60f/E17bpOorq2m214ilEmQOFPUZr87bf/AF8f+8P51+gXgv8A5FPSv+uC1+kcF8QY/OqlaOMkmopWskt/Q+E4qybB5VTpSwsWnJu+rZt14X8Wv2rtH+EvjKfw7eaPcXk8UUcpljlCghxkDG017pX52/tqf8l41D/rztv/AECv2/KMLSxmIdOsrqzf5H5JmmIqYWgp0nZ3/wAz2z/hvjw7/wBC7ef9/wAf/E0f8N8eHf8AoXbz/v8Aj/4mvh2ivs/7DwP8r+9nyf8AbGM/m/BH3F/w3x4d/wChdvP+/wCP/iaP+G+PDv8A0Lt5/wB/x/8AE18O0Uf2Hgf5X97D+2MZ/N+CPuL/AIb48O/9C7ef9/x/8TR/w3x4d/6F28/7/j/4mvh2ij+w8D/K/vYf2xjP5vwR9xf8N8eHf+hdvP8Av+P/AImu2+EH7U+kfF/xeNAstIuLKb7O9x5ssoYYXGRjaPWvznr6A/Yf/wCS3r/2Dbj+aVxY3J8HRw1SpCOqXdnXhM0xVWvCnOWjfZH6EUUUV+fH3AUUUUAFFFFABRRRQAUUUUAFFFFABRRRQB8T/t7/APIwaD/1yP8AWvk+vrD9vf8A5GDQf+uR/rXyfX6rk/8AuVM/Ns0/3yoFFFFeweWFFFFABRRRQB2fwb5+J3hsf9PsX/oYr7y1iGT4K+MG1m2Q/wDCIatKPt8a/ds5j0lA6BSevTlq+Dfg3/yVDw3/ANf0X/oYr9SdY0m21zTbiwvIlmtp0KOjDtXwXEn8Wn6M+0yH+HU9UWYpUmjWSNg6MMhh0NPryX4farc/DvxIfAmryM9mQX0a9lP+sj/55E/3lG365r1qvjz6kKKKKACiiigAooooAKKKKACiiigAooooAKKKKACiiigAooooAKKKKACiiigAooooAKKKKACiiigAooooAKKKKACiiigAooooAKKKKACiiigAooooAKKKKACiiigAr8uPj5/yVrxF/wBfB/lX6j1+XHx8/wCSteIv+vg/yr67hz+PP0/U+Xz7+FD1PPqKKK+/PigooooAKKKKACvrb9gb/kL+IP8ArmP6V8k19bfsDf8AIX8Qf9cx/SvGzj/can9dT1cr/wB8gfaVFFFflZ+kBRRRQAUUUUAFFFFABRRRQB87fEDS/Efwn+PT/EXSNAv/ABN4d1qyS01m00mEzXcUkQVYXSMfeG3zM8jqKrX+vfEH4/atrOnaf4f1Lwh4IfRL6zZtftTb3F7cTwSRphecKjFWzk55r6RoAA4AwKAPkPxJN4r8dfAuz+EMfgXXLHW2W20641G4sylhHHBIjecJe4YRDsOWq5ovxLvPh9+0l8VEXwnrXiK2ktbEpJolqbmUOPO+VxkYz259a+sMDOcc1ynh34b6Z4a8ZeIfEts8z3+tiFbgSEFAI923aMcffNAHzH4T+CXivTX+Dc93pVykq61qd/qiRoSNPSa1lRN3pnK/ia4/QfhPqXgfRvFXh3WPDXxC1DWZdVvLmxOhXky6XdRTTu6FmXhDtYbuDzmvvikwOuOaAPizxH8I7XQNWsLPUfAXi3TPsGiWtrp+veCLqSe5Z1aQ+RNIoQlVyCMnnceBX0T+znb+LrX4RaLF44aZ/EKmbzTc583y/Ofyt+ed3l7M++a9KIB6jNLQB8x+E9W8RfAabx1oU/grXPEUmp6vd6vpt5pFmZoJftEjP5cj/wAJXIHfvWf8Jfg94l+H+vfBGxvdOmlj0Swvkv7qFCYYHkSUqpPblwPrX1XgelLQB5X+1H4b1Hxd8BPF+k6TZTalqFxBGYrW3XdJIVmjchR3OFNcZ8PLTWfE37QB8Yy+GtY0XSbrQoIlOq2phdJAHyjDJwwyOK+h6KAPhzxd8DfGGs+HfHV3FompCaDxgmqW9rAWhmvLfyIUdoSOSRh8Y7riuz+F3gaPWPjNoOsWXhTxxDp+n2cjyap4xvpVaGYshEccbbg4PzZ5GCor6wpAAOgxQAtFFFABUF5eQ6faTXNw4ighQu7t0AAyTUskixoXdgqqMlmOAK8+bzPihquMMnhmzk5yCDdyDkH3QHH4g0AePftD6vqfiXRbTU5ENpoxuAlnC6YeYbT+8PoOOOuQQa8Dr6u/ah0a7v8AwvpcOn2M9z5c4/d20TPtAVuwFfNP/CG6/wD9APUv/AST/Cv5p44oVamdTlCDatHo+x+88JVqcMqgpSSd318zHorY/wCEN1//AKAepf8AgJJ/hR/whuv/APQD1L/wEk/wr4H6rX/59v7mfZfWKP8AOvvRj0Vsf8Ibr/8A0A9S/wDAST/Cj/hDdf8A+gHqX/gJJ/hR9Vr/APPt/cw+sUf5196Meitj/hDdf/6Aepf+Akn+FH/CG6//ANAPUv8AwEk/wo+q1/8An2/uYfWKP86+9GVb/wCvj/3h/Ov0C8F/8inpX/XBa+FYPB2viaMnQ9SA3D/l0k9fpX3b4PjeHwvpiSIyOsCgqwwR+FfsXhzSqU62I54taLdebPzDjipCpSockk9X+SNivzt/bU/5LxqH/Xnbf+gV+iVfnb+2p/yXjUP+vO2/9Ar+mOHv98f+F/mj8Czz/dV6r9Twmiiiv0c+DCiiigAooooAK+gP2H/+S3r/ANg24/mlfP8AX0B+w/8A8lvX/sG3H80rzcy/3Or6M78B/vVP1R+hFFFFfkh+nBRRRQAUUUUAFFFFABRRRQAUUUUAFFFFAHxP+3v/AMjBoP8A1yP9a+T6+1f2zdI8M6lrWjNrviG40aRYzsWHTzcbhz3DDFfNn/CK/Dr/AKHy+/8ABG3/AMcr9OymtGODppp/c/8AI/PMypSli5tNfev8zz2ivQv+EV+HX/Q+X3/gjb/45R/wivw6/wCh8vv/AARt/wDHK9b6xDs//AZf5Hmexl3X3r/M89or0L/hFfh1/wBD5ff+CNv/AI5R/wAIr8Ov+h8vv/BG3/xyj6xDs/8AwGX+Qexl3X3r/M89or0L/hFfh1/0Pl9/4I2/+OUf8Ir8Ov8AofL7/wAEbf8Axyj6xDs//AZf5B7GXdfev8yh8G/+SoeG/wDr+i/9DFfqrX5v/DXRfh7pfjrRLuPxzdSPFdRsqTaQ0SkhhwWMnA96/R2GZLiFJY2DxuoZWU5BBGQRXw/EFRVKtO19uqa/M+wyODhTnfv3T/I5f4jeBYvHWgNarL9k1GE+bZ3i/eglH3WB9M4474rO+FvjqTxJZ3GlarH9l8Q6W3kXcDfxYxh19QQR+Oa7yvM/ij4VvrO+tvGfh1dus6eu24hXpdW4JLIfUjJYe4FfJn0x6ZRWL4P8WWPjTQLbVbB90My/MveNx95D6EHIP0raoAKKKKACiiigAooooAKKKKACiiigAooooAKKKKACiiigAooooAKKKKACiiigAooooAKKKKACiiigAooooAKKKKACiiigAooooAKKKKACiiigAooooAKKKKACvy4+Pn/JWvEX/Xwf5V+o9flx8fP+SteIv+vg/wAq+u4c/jz9P1Pl8+/hQ9Tz6iiivvz4oKKKKACiiigAr62/YG/5C/iD/rmP6V8k19bfsDf8hfxB/wBcx/SvGzj/AHGp/XU9XK/98gfaVFFFflZ+kBRRRQAUUUUAFFFFABRRRQB87ap+2hoWn2viDUIfCXiK+0Tw/fz2Gq6rBFF5Fo0TlGdsyA7cqcYBrp/Bn7SVj4t8b6P4em8L65oi61DLNpeo6hHEsF6I0Lvs2uW4UZ5A6143N8PfEn/DJfxz0YaDff2xqmsa1LZ2X2dvOuUkumaNkXGWDKcjHUV6h4o8MarcfE74DXcOm3D2ulpqQvZliJW232Squ8/w5bgZ70AYXhv9o7wx8Pfh5ot+513Xo9c8SX2j2gkRGnNwss5K4342DymC89MdK63Qv2ntDuG8UReJdG1XwRdeHrQahdW+tpGrtbkMfMXy2YEYU14T4R+GHim30H4ORXHh++jfTfiRqmo3ivAwMFs5vtkrccKfMTBP94V0n7RPwl8TfELx/wCO4tI0yaRb3wx9ntZ3QiCafYwEZfpySKAPTvDP7T1hq+q6Pb6t4U17wvYay5j07U9VjiWC4IBIAKuxBIHGQOorI1f9pzS/E13q/h/T/DniOa3t5prG/wBXs44vLsZFYgFiZAfmCkjAPHXFcf4m1jWPjhovgTwnp3hDXtHu9Pu7ebUbrVbB7eC3WAq3ySMMMWMeO3DV0Pwt8H6zpfg34sRXOkXdtcX+pXUlskkJVp1Mkm0qO4II6etAHJeFvjvrOmeK/hHpOiaT4k8ReHNQ0aacyPHCZ7n5eHcmTqmMtz0IxmvaIf2i/Dc3whf4hCC8GmpObY2ZVftHmC4+z7ducZ3+/SvEvh1oeu+AtU+AN9qXhvWZIbfSZ9NvFtbJ5Ws5ZECqZgB8i5PJPTBquvwzvG/aUfwNG0x8NDUx4se2H+qFt5PkmMnpn7QQ+PxoA+tdQ8SWeh+G5tb1Z/7KsbeD7RcNc8GFQMndjPSvIrP9pe01zyIbnwp4g0LTNWimWw1m9ijFvMwQ4wUcsMnGMgda7P4/eBr74mfBfxl4V0x1S/1bTpbWBpDhQzDjJry/TPih4l1zw/4f8L6P4I1ez1eGFodQl1TT3itoERcN5chGGLAHHqSKAKvwd+N7+FPgvotxqdrqvijW9S1rULK0s7ICSeUrczbRl2AACp3Pauw0X9qPQrqz8Ztrej6p4Yv/AAnZrf6lYaksYlELByrrsdhg+W3U9q8K0yz8eeEfhz4L0maw8UaR4fl1vUZNVfw9byDUY1a5maMjaMqhBU5x3HrVfwf4D1Y+O/jXqB8G+JfEWg614cs7W2g8VF/P1FkFx5iMzJ1IdeMHrQB7/wCG/wBpez1bVIrbVPCeveHLa5tZLy1vtQjiMM8aIznBjdsHapPOKh8LftQWfibUtJX/AIQ/xBY6Lq10LSy1ueOI2srNkqflkLAMASMr064rxXwTpHiDSfGfh+y8CWHjgeGXt7ldf0HxYki2KL9mcJFAWUAZk2L06HNVvCOl61pHiHw9/wAIBpHjzwlqr6kqapoGoRy/2HHH828qdqrtzjae4NAH2/1oJCgk8Ckj3eWu/wC9jnHrXE+JtavPEWqN4c0OTaynGoXmMrAhGdo/2jkcehzQBX1i6m+IWrS6JYyNHocBxf3kbFTKe8SEc+uTxjjFdzY2UOnWkVtbxrFBEu1EUYAFV9D0Oz8O6XBYWMQitoV2qvf6n3q/QB4d+1Nql7pfhvTXs7ue0drgAtBIyEjDehr5m/4S/Xv+g3qP/gXJ/jXu37Ufiyx1axtdOs2a4e2uP300YzGjYPylvX29q+c6/mnjivVp51OMJtK0evkfvPCVKnPKoOUU3d9PM1v+Ev17/oN6j/4Fyf40f8Jfr3/Qb1H/AMC5P8ayaK+B+tV/+fj+9n2X1ej/ACL7ka3/AAl+vf8AQb1H/wAC5P8AGj/hL9e/6Deo/wDgXJ/jWTRR9ar/APPx/ew+r0f5F9yNb/hL9e/6Deo/+Bcn+NH/AAl+vf8AQb1H/wAC5P8AGsmij61X/wCfj+9h9Xo/yL7kbUHi7XTNGDrWo/eH/L3J6/Wvu3wfI83hfTHkZndoFJZjkmvz7t/9fH/vD+dfoF4L/wCRT0r/AK4LX7F4c1alStiOeTei3fmz8w44pwhSockUtX+ht1+dv7an/JeNQ/687b/0Cv0Sr87f21P+S8ah/wBedt/6BX9McPf74/8AC/zR+BZ5/uq9V+p4TRRRX6OfBhRRRQAUUUUAFfQH7D//ACW9f+wbcfzSvn+voD9h/wD5Lev/AGDbj+aV5uZf7nV9Gd+A/wB6p+qP0Iooor8kP04KKKKACiiigAooooAKKKKACiiigAooooA+Sv20PiFr/g3WtGj0e+W0SSMlwbeKTPX++pr5q/4Xx44/6DKf+ANv/wDG69y/b3/5GDQf+uR/rXyfX6dlNClLB03KCb9EfneZVqkcXNKTS9Tvv+F8eOP+gyn/AIA2/wD8bo/4Xx44/wCgyn/gDb//ABuuBor1/q1D+Rfcjzfb1f5397O+/wCF8eOP+gyn/gDb/wDxuj/hfHjj/oMp/wCANv8A/G64Gij6tQ/kX3IPb1f5397O+/4Xx44/6DKf+ANv/wDG6P8AhfHjj/oMp/4A2/8A8brgaKPq1D+Rfcg9vV/nf3s9l+Gfxg8W6/480TTr/U47izubqOKWI2cA3KWAIyEB6HtX3DY3Fx8NNSj0+8la48P3cpFtdP1tmOTsY9l64P0Ga/Oz4N/8lQ8N/wDX9F/6GK/UvUtNttXsZrS7iWa3lXayMMg18NxDThTq01BJadD7DI5ynTnzO+pZVgygqQQehFDAMCCMg8EGuC0S+ufAWpR6HqTPLpEz7NPv5GLEE8CKQnv0wec85xXe18mfTHj+tQy/BjxedatEP/CI6rKBfwqCRaSn/lqB/dPzZ9yK9dt7iO6hSaJ1kjcblZTkEVBq2l22t6dcWN5Es1tOhR0YZBBry/wDql18N/EreB9Xdn058vo19Kc+YneJie64H/fVAHrdFFFABRRRQAUUUUAFFFFABRRRQAUUUUAFFFFABRRRQAUUUUAFFFFABRRRQAUUUUAFFFFABRRRQAUUUUAFFFFABRRRQAUUUUAFFFFABRRRQAUUUUAFFFFABX5cfHz/AJK14i/6+D/Kv1Hr8uPj5/yVrxF/18H+VfXcOfx5+n6ny+ffwoep59RRRX358UFFFFABRRRQAV9bfsDf8hfxB/1zH9K+Sa+tv2Bv+Qv4g/65j+leNnH+41P66nq5X/vkD7Sooor8rP0gKKKKACiiigAooooAKKKKACiiigAooooAQKBnAxmloooAQjPWuB+G/wAHrD4d6trerDUb3WtW1WUvLe6gVMiR5BES7QAFGB27V39FABSbQDnHNLRQAhAbgjIpaKKAEwBnAxnrRtGc45pa5jxl4qk0dY9P06MXWuXYIt7fsB3dvRRkc+4oAr+LvEty90mgaIVfV7lSHl6rap3c+/XHuK2PDPhu28MaaltAuZD800x5aRz1Yn61X8I+FY/DdrK8kn2rUrpvMurtlw0jHt7Adh061uu6xqWYhVAySaAFJwMngVwer65e+NryXRtBdoLFG2XmqL0x3jj9SRwTyOfWmahqV78Q76fS9Kme10KMmO81GM4eRuhjiI6d8sCCOMV2mk6Ta6Hp8NnZxLDBEMKqjH40AeBftNaHZ+H/AATpFpZRLFGtwMnux2tyT3NfNFfXP7S+oabp/h/T21LSv7VjM4Cx/aWh2nDc5Uc186f8JL4U/wChN/8AKpL/AIV/OHGuHp1M5nKVaMXaOjU77eUWvxP3ThStOGVwUaUpavVcvfzkn+ByNFdd/wAJL4U/6E3/AMqkv+FH/CS+FP8AoTf/ACqS/wCFfCfVKP8A0Ew+6p/8gfYfWav/AD4l98P/AJM5Giuu/wCEl8Kf9Cb/AOVSX/Cj/hJfCn/Qm/8AlUl/wo+qUf8AoJh91T/5APrNX/nxL74f/JnI0V13/CS+FP8AoTf/ACqS/wCFH/CS+FP+hN/8qkv+FH1Sj/0Ew+6p/wDIB9Zq/wDPiX3w/wDkzlLf/Xx/7w/nX6BeC/8AkU9K/wCuC18Vw+JPCvnR48G4O4f8xSX1+lfbPhOSOTw3pzRReTGYVKx7i20eme9frvh5RhSrYjkqqei25u7/AJoo/M+Nqs6lKhzU3HV78vl2bNavzt/bU/5LxqH/AF523/oFfolX52/tqf8AJeNQ/wCvO2/9Ar+k+Hv98f8Ahf5o/Bs8/wB1Xqv1PCaKKK/Rz4MKKKKACiiigAr6A/Yf/wCS3r/2Dbj+aV8/19AfsP8A/Jb1/wCwbcfzSvNzL/c6vozvwH+9U/VH6EUUUV+SH6cFFFFABRRRQAUUUUAFFFFABRRRQAUUUUAfE/7e/wDyMGg/9cj/AFr5Pr6w/b3/AORg0H/rkf618n1+q5P/ALlTPzbNP98qBRRRXsHlhRRRQAUUUUAdn8G/+SoeG/8Ar+i/9DFfqrX5VfBv/kqHhv8A6/ov/QxX6q18FxJ/Fp+jPtMh/h1PVGfrmh2fiLTZbG+iEsEgwR3HuPeuV8O65d+F9UHh7XZdyMf+JffP0lT+6x/vDn8AK7qsvxH4dtfE2mSWd0uM/NHIv3o2HIYH1BxXx59Salcr8RvA0HjvQGtGbyL6FhPZ3S/ehmXlWH4gflVbwt4iutO1JvDuvSr/AGhGAba6xhbuP1/3hxkccnjiuzoA4L4V+OZ/EVrdaPqyfZ/EWknybuJuN442yL6ggrz6mu9rzT4peEb2C6tvGHh75Na00ZlgXgXkP8SN9M7h/uiuv8G+LrLxt4fttVsW/dyr88bfeibujD1FAG5RRRQAUUUUAFFFfK3izxl4m+I3xs8R+EU+JMvwtstHRBaxwwQNLfklv3mZ0ZdvA4BzweKAPqmivI/hb4m8T+E/CfiB/iTqEE1lo0wFv4kJULfQEA+YQnAIJC4AHIrW8H/tCeAfHmvQ6No2vC41KeNpYYJLWeEyoMZKmRFB6jv3oA9GoryRv2rvhUsluP8AhLoNk7FEm+zT+XuDFSC/l7QcgjBNbnhH48eBfHWr32l6LrqXV/ZwtcTQtbzRERrjc43oNwGRyM9aAO/oryvR/wBqD4Y+ILjT4tP8Uw3Ivyq20otpxE5Y4UbygUEn1IrM8G/EvUJ/jJ8RdO1bVEXw9o0UcsCuFCxKUjYncBk/eP50Aez0V514T/aE8AeNtaj0nSPECXF9KrNFHJbTRCQDGdrOgB6joearx/tJ/DibXBpK+JYzdtOLVT9mn8ppSQAgk2bM5IHXvQB6bRVe9vrfTbOa7upkgtoULvK5wqqO+a4Hwn+0J4A8ca3FpOj+IEub6YEwo9tNEJcddrOgU9R0NAHo1FfL/wAHfjpqPxe/aE8babb+Jzb6D4c1JtPt9HWycC8TyEcyM7R5Uh3IxuH3enNfUFABRRRQAUUUUAFFFFABRRRQAUUUUAFFFFABRRRQAUUUUAFFFFABRRRQAUUUUAFFFFABX5cfHz/krXiL/r4P8q/Uevy4+Pn/ACVrxF/18H+VfXcOfx5+n6ny+ffwoep59RRRX358UFFFFABRRRQAV9bfsDf8hfxB/wBcx/Svkmvrb9gb/kL+IP8ArmP6V42cf7jU/rqerlf++QPtKiiivys/SAooooAKKKKACiiigAooooAKKKKACiiigAooooAKKKKACiiigAoorK8SeIrbwzpct5c5faMRwp9+VuyqPU0AVvF3iuHwvYqdpuL6dvLtrVOXkc9MD0HU+wNVPB3hWbTWm1TVnW61y6OZZR0jXtGvsBge+KreEfDt1dXz+IdbPmajcLiC3YDbaR9lHv1JPXnGa626uorO3eeeRYokGWdjgAUAOmmjt4XlldY4kBZnY4CgdSTXAT3d38TL5rWzaWz8NwttuLggq13/ALKf7PvyOKP9M+KM4PzWfheKTI6rJe45B9k/I9c13traxWdvHBBGsUUY2qqjAAoAj07TbXSbOK0s4Et7aJQqRxjAUDtVmk6da858Y/FSSLUhoHhS1Gua/J8rbD+5tQf45G46dcDJ9qAOI/a1uIh4f0uHzF84z7hHn5sYbnFfLte3fHb4eT+G9Bs9W1jUpdX1+6uAJbhmIjRSCdiLwMDjnGeK8Rr+Y+O7f23P0j+R+/cIf8iqHq/zCiiivz4+1CiiigAooooAfb/6+P8A3h/Ov0C8F/8AIp6V/wBcFr8/bf8A18f+8P51+gXgv/kU9K/64LX7N4bfxsT6R/Nn5Zx3/Coer/JG3X52/tqf8l41D/rztv8A0Cv0Sr87f21P+S8ah/1523/oFf07w9/vj/wv80fz9nn+6r1X6nhNFFFfo58GFFFFABRRRQAV9AfsP/8AJb1/7Btx/NK+f6+gP2H/APkt6/8AYNuP5pXm5l/udX0Z34D/AHqn6o/QiiiivyQ/TgooooAKKKKACiiigAooooAKKKKACiiigD4n/b3/AORg0H/rkf618n19Yft7/wDIwaD/ANcj/Wvk+v1XJ/8AcqZ+bZp/vlQKKKK9g8sKKKKACiiigDs/g3/yVDw3/wBf0X/oYr9Va/Kr4N/8lQ8N/wDX9F/6GK/VWvguJP4tP0Z9pkP8Op6oKKKK+PPqTF8VeF7bxTppglJinQ74LiPh4nHRlPY1meEfFFzLeS6FrSCHWrZd29RhLiPnDr78HIrra5/xh4UTxJZo0UhtNTtzvtbpOqN6H1U4GaAN8gMCCMg149r0UnwX8Xvr9v8AL4Q1ST/iZR/w2spP+uHoDli30Fd14P8AFjaq02majEbTWbMbZoX/AIxx86nuDx06ZxW7q2lWuuadcWN7CtxazoUkjcZDA9qAJ7edLqCOaJg8cihlYdCDUleSeBtUu/hr4nHgrWZjJps+59HvZDwV5JhY9NwwT+Ir1ugAooooAK+R/iz41+EuvfEDXdA+Omi6T4ZnsZj/AGJr2pFU+02v8LJKy5VshvlGccc819cVQ1LQNM1oAX+n215jp58Svj8xQB8NeFfFFz4X+D/xbn0DzvGnw0t721TQpdeJuovLJi8xwWyHiSQuR2G0CtSy8ZN4g+OHwyD+PNO+IHlTlDdaPp6W8FjuZNsZKu3L4OOn3TX2tHpdlDZm0S0gS1IwYVjAQj6YxUdroWm2OPs9hbQEHIMcSgg+vSgD4Wm0OyT9gPQALSMG68RWDzjYP3hOrqpJ9eBivYPHVrHZ/tUeFo4IxFEPh9qibUGBgTQAD8q+j/7Ptfs4t/s0PkKciLyxtBByDjGOvNRanpcWoWtwhjjE0kDwLMVG5QwxjPpQB8E+BfiD4K1f9irwz4C0e5tz40u7eKG30hcfaWuzws4XrgNg7vatXxl4Z8Q6tZ/GTSdKEh12Ow0zftUuw8s2jSnHf5VfI719WfBn4RWXwq+Hfh3w7Ilrf3ek2q2wvhCAz7e+SM13i2kCySOIYw8gw7BBlvqe9AHxFoevaN8QvE3w005fiha+Jrmxv4Ly30fRdEjSa0EakFJWWXMca7gGGDziubfxhpfhGxtNP8H+L7HWtOXW7eJ/hv4h09HvYZPPQ5VmYlWUkOMLxgV98WugaZY3BnttPtYJj1kjhVW/MCk/4R7Sxdm6/s61+05z5vkruz65x1oA83/aM0nVvFH7PPiS00u0kGqXFnC4tY87lxLG8i/gob8q8e8ZfEbwX8WIPhLoXw9u7a+1qw8Q6detZ2eDLYWcTgziQD7oAK5HfFfXDAMCCMg8EGqNpoOm6fcNPbWFtbzN1kjiVW/MCgDwz9mqEx/Fj9oFiuC3i9TnHX/QLXmvoKo47eKF5HjiSNpG3OyqAWOMZPqakoAKKKKACiiigAooooAKKKKACiiigAooooAKKKKACiiigAooooAKKKKACiiigAooooAK/Lj4+f8AJWvEX/Xwf5V+o9flx8fP+SteIv8Ar4P8q+u4c/jz9P1Pl8+/hQ9Tz6iiivvz4oKKKKACiiigAr62/YG/5C/iD/rmP6V8k19bfsDf8hfxB/1zH9K8bOP9xqf11PVyv/fIH2lRRRX5WfpAUUUUAFFFFABRRRQAUUUUAFFFFABRRRQAUUUUAFFFFABRRUV1dRWdvJPPIsUUalmdjgACgCDWNWttD024vryVYbaFdzux49B+uK5Hw7pN14u1SPxFrMLRQIc6fp8q8xDtI4/vnjjtjrUGnW03xI1aPVLtJIdAtXItbV+PtDg48wj0649QQa7TVtXtNA06W9vJVgtohknv9AO59hQBJqOpW2k2ct3dzLBbxDc8jnAArhoLO6+J119pvVktvDCH9zatwbz/AG3/ANj0HIIINPsdLvfiDfxalrEDWmiwnfa6ex5mPZ5Pb0HHQV3qqsahVAVRwABgCgBIYUt4ljjUIijAUDgCodQ1C20mymu7uZbe2hXe8jnAUetYnjbx/pPgPT/tOoSlpX+WG1hBeaZuwVRknnviuF0/wZrXxUv4dW8Yq1joqHfaaFG33vRpiOp74GO1ADbjxNr/AMYLg2nhhpNJ8LZ2za4ciScekI9P9oH04r0Hwd4H0nwNpv2TS7ZYt3zSzNzJM3dnbufrWza2kNjbpBbxLDCgwqIMACpqAPGP2l9C/tzw/p8f9oWGn7Zwd19P5SnhuAcda+dP+Fdn/oZvDn/gwH/xNe8ftaf8ixpf/XyP/QWr5Zr+b+NqtCOczVSlzO0dbtdD904Up1pZXBwqWV30T6nXf8K7P/QzeHP/AAYD/wCJo/4V2f8AoZvDn/gwH/xNcjRXwnt8L/z4/wDJmfYexxH/AD9/8lR13/Cuz/0M3hz/AMGA/wDiaP8AhXZ/6Gbw5/4MB/8AE1yNFHt8L/z4/wDJmHscR/z9/wDJUdd/wrs/9DN4c/8ABgP/AImj/hXZ/wChm8Of+DAf/E1yNFHt8L/z4/8AJmHscR/z9/8AJUdjD8OyJoz/AMJL4dPzD/mID1/3a+2fCcP2fw3p0W9JdsKjfGcqfcGvz4t/9fH/ALw/nX6BeC/+RT0r/rgtfr3h5UozrYj2VPl0XVvqz8z42hUjSoe0nzavpbsbdfnb+2p/yXjUP+vO2/8AQK/RKvzt/bU/5LxqH/Xnbf8AoFf0nw9/vj/wv80fg2ef7qvVfqeE0UUV+jnwYUUUUAFFFFABX0B+w/8A8lvX/sG3H80r5/r6A/Yf/wCS3r/2Dbj+aV5uZf7nV9Gd+A/3qn6o/QiiiivyQ/TgooooAKKKKACiiigAooooAKKKKACiiigD4n/b3/5GDQf+uR/rXyfX3r+1R4Ytde1bS3uPA+u+KyiECTSbgxrH7HEbV4P/AMK303/ojPjX/wADm/8AjFfo+V4uFPCQi1+Mf1Z8DmOGlPFTkn+D/wAjwKivff8AhW+m/wDRGfGv/gc3/wAYo/4Vvpv/AERnxr/4HN/8Yr1fr0O34x/+SPN+qT7/AIS/yPAqK99/4Vvpv/RGfGv/AIHN/wDGKP8AhW+m/wDRGfGv/gc3/wAYo+vQ7fjH/wCSD6pPv+Ev8jwKivff+Fb6b/0Rnxr/AOBzf/GKP+Fb6b/0Rnxr/wCBzf8Axij69Dt+Mf8A5IPqk+/4S/yPNfg3/wAlQ8N/9f0X/oYr9Va+C/CfhGy8P+I9P1GH4PeMoJLaZZRJJeM6rgg52+SM/SvsvwX8SNE8dQv/AGfc7buLieymGyeE+jJ1FfF59WjWqwcVsvL9Gz63JaTpU536vz/VI6miiivlz6MKKKKAOZ8YeEzrggvrKU2msWZ329wvfr8jeqnJ4P17U/wf4r/4SC3kgu0W01e2Oy5tc/db1X1U4OK6OuU8X+FZ7u4h1rRtkOvWowjNwsyd42PocDmgB/xC8D23jzw+9lK3k3UTCa1uV4aKVTlSD6ZAz6isj4V+OLnXLa50TW0+zeI9LbybiNv+WqjhZV9mGD+NdH4T8UweJ7FnUeTeQt5dzbN96Jx1BH5H8a5L4peD70XVr4v8PDZ4g0wfNGOl1B/FG36H/gNAHpNRXV1FY2s1zO4jghRpJHboqgZJ/KsbwT4wsvHXh221exJEUow0bcNG46ow7EZ6VJ40/wCRN17/AK8J/wD0W1AHEr+058MH1i30xfF9mbu4KiMbJNrEjIG7bjJHvWv4H+N3gj4kXeoWvh3xBb6jcWCCW4jVXQohJAb5lHHB/KvlafQdP/4ZD8I2zWsZgk8RRyshXgsTISfzNd74+vItD+Purah/Zy6kLfwQ8jWQXP2lUinby8d89PxoA9Vt/wBpr4ZXOuQaRH4stDfTzm2jQxyBWlGcqGK4zwe/anaP8Ql0vxT46fX/ABNpx0fR0hkFuoIeyQ78mQ7Rndt4wT9018ZePfHt1r/wb08DxZ4bvLKS8t5IPDGg6cEm0vM6Z81xIcYJKklRycV2vxStHm8f/Ee6ltpLrR7DXdDvdWjjXObFDcmbI7jHWgD6r8F/HDwP8Qrq5ttA8QW9/cW8fnSRhHRgnPzAMoyOD0rkfF37Sfgq+0XxBY+G/G+mW2vWEBkaeeORobfbIqMXOwjqcd+TXnvjLxf4c+Jvxn+GNx4Dv7XWP7Jt7+XVrnTnEiQWrWciRJIV/wCmnY9Ca4Kw0e1s/wBgH4iy29uqzzajqRd1HzN/xMj1oA9z0r9qHQ2+NXibwNf3trDa6HpUF898qyEvIxk85SNuAECKcjrur1Kb4ieG7fwtD4kk1e3XQ5iix3uTsYs4RQOM8sQOleAeE9U0jTv2w/FOnaxd28La14R0mG0tblgPtJRrkyKoP3sBlzj1FcB4D0nV9Y+K2n/Bm4R20bwXrEuq3TSAkXVnIrPGAf8AZmlX/vmgD7T1rW7Hw7pdzqWpXUdlY26GSWeU4VFHUmvKtY/aU8Ha14N8YT+EfEVtqGuaVo13qMMHlupJjhd1YB1GRlP0qp+2Fp9xqHwVvfLtpLyyhuY5r+3iUsZLYBt4x36iuE+KXxQ+G3jbwzqFj4bTT/E3iGDwlqxS/wBPZZf7Nj+wygh2XO3fhlwcZPFAHqmnfHnw54c+HvhHVvGWt2+m6hrOnQXQjKMxkZ4wzYVFPGSa3LH43eBtQ8G3HiuDxFavoFvI0U15hwEcdVKkbs+2K+YbrxzPoupfC6wtdR8O+Cb5PBkEi+KfENmJtyYjzbRZdOSTu4P8J4rmdB1HQda8FfEa58Sa3cLbx+Ibe6TxBp9uUjWbfIUvduTiHOW3ZxjvQB9heFfjl4F8aW+oTaR4itrpdPhNxdZV0MUY/iIZRx9KZ4M+PHgT4gawNK0HxFb3+oNGZlgCOhZAQCw3KMjkfnXyxpHio+INY8SaR4i1nSviVp39gD/iqPC1nsurOESMypKVdycN83UdasfCnxldW3xS8AaUnirw78UdPkjWKze2tANR0eHA+aSTexIGADwOcUAfbtFFFABRRRQAUUUUAFFFFABRRRQAUUUUAFFFFABRRRQAUUUUAFFFFABRRRQAUUUUAFflx8fP+SteIv8Ar4P8q/Uevy4+Pn/JWvEX/Xwf5V9dw5/Hn6fqfL59/Ch6nn1FFFffnxQUUUUAFFFFABX1t+wN/wAhfxB/1zH9K+Sa+tv2Bv8AkL+IP+uY/pXjZx/uNT+up6uV/wC+QPtKiiivys/SAooooAKKKKACiiigAooooAKKKKACiiigAooooAKKKSgBGYRqWYhVHJJrz6Z5fifqjW8ZeLwxauC8i8fbJAc7R/sDA+vIPFS6xqFx491WTQ9MkaPSLd9uoX0T4LesKH165PbHSug1PVdK8A6HCGUQW0eIoLeIZZ2J4VR3JJ/WgC3q2rWHhfSWuLh0traFQFVRj2CgCuW0nQ77xrewa1ryPb2cbb7PSXA+Qdmk9W6ccgY4p+h+GrvxJqSa74jiAaNt1jp7crbjs5/2yPpjJFdjqGoW2lWct1eTx21tEpaSWVgqqB1JNAE/CLgYVQPwFedeM/io1rqQ8P8Aha2Gt+IpByi/6m3H96Ruw57ZrFuvFXiD4uXLWPhRpNI8OhttxrciENMvcQ9OO24E967/AMF+BdJ8B6YbPSrcR+Y2+aZuZJn7s57kkn86AOe8F/CtdN1E6/4iujrniSblppRmKD/ZjTov1ABr0KisLxZ420bwTY/atXvorRTwiMw3yH0Udz7UAbtcb40+KmieDQIJJWv9Tk4h0+0G+WRvQdh+JFcm2t+Nvik4XRoZfCWgseb66Qi6lX/ZTgp9ea7DwX8MND8D+ZPZ2/najNzPf3B3zSn3bvQB89/Hq+8Ya5otjqWvW0Gkaa8wFvpq/NKOD80hxwcdgSOa8Rr6m/a0/wCRY0v/AK+R/wCgtXyzX8x8d/8AI7n6R/I/fuEP+RVD1f5hRRRX58fahRRRQAUUUUAPt/8AXx/7w/nX6BeC/wDkU9K/64LX5+2/+vj/AN4fzr9AvBf/ACKelf8AXBa/ZvDb+NifSP5s/LOO/wCFQ9X+SNuvzt/bU/5LxqH/AF523/oFfolX52/tqf8AJeNQ/wCvO2/9Ar+neHv98f8Ahf5o/n7PP91Xqv1PCaKKK/Rz4MKKKKACiiigAr6A/Yf/AOS3r/2Dbj+aV8/19AfsP/8AJb1/7Btx/NK83Mv9zq+jO/Af71T9UfoRRRRX5IfpwUUUUAFFFFABRRRQAUUUUAFFFFABRRRQB8Zft16tfafr2hi1vLi2DRHIhlZM9fQ18rf8JPrH/QWvv/Al/wDGvp79vf8A5GDQf+uR/rXyfX6nlEU8FTuj83zOT+tz1NL/AISfWP8AoLX3/gS/+NH/AAk+sf8AQWvv/Al/8azaK9jlj2PM5n3NL/hJ9Y/6C19/4Ev/AI0f8JPrH/QWvv8AwJf/ABrNoo5Y9g5n3NL/AISfWP8AoLX3/gS/+NH/AAk+sf8AQWvv/Al/8azaKOWPYOZ9z0P4P+ItVn+Jnh2OTU7yRGvYgVa4cgjeOozX6G+NvhPpfixheWzyaLrUZ3RajZfLIp9x90/iDX5xfBv/AJKh4b/6/ov/AEMV+qtfB8RpKrTt2Z9nkLbpzv3R5Hb/ABB8RfDaWKx8bWjX2nZ2Jr1khYH3kQcg+4AFen6TrFlrlnHdWF1Fd27jIeJgwqzcW8V3C8M8azROMMjqCpHoRXmGq/CO68N3smr+BL5tJvPvPpshJtJvbZ0T6gV8gfUHqdFebeF/jBG9/Hoviyybw5rx4Ec3+pnPrG/cfUCvR1ZXUMpDA9CKAHUUUUAcb4s8M3NveL4g0IeXqkP+ugHC3cfdW98ZweOcZ4rb8M+JLTxVpoubfKsDsmgkGHiccFWH1z7HtWvXEeJ9Du9B1KTxJoas8+B9ssV+7cIOMgf3hxz6ZoA5XxHbzfB/xk3iW0Vj4X1WVU1K3QfLbSE/64DsDk7v90V63bzwahaJLGyz28yZB6qykVlWl5pPj7w6+0JeafdxlJI3APBHKkfjXn3gfU7v4Y+KG8F6zMZNLuGL6LeSHkr1MLE9wdxHXjFAHqP9k2P2ZLf7Hb/Z1bcsXlLsB9QMYzT30+1kmMzW0LTFPLMjRgtt/u5x09qsUUAYb+DdGht7n7Ho+mwzyqcN9lTBbqCcDpnBrhPhL8I9U8J6x4q1vxRf2Wr6p4gMazx2sZ8gJHv2jDjJ++c5r1eigDN03w1pOitIbDTLOyMgw5ggVCw9DgVP/ZNiLN7MWVuLRyS0HlL5bEnJJXGDzzVuigDJ1bw/bXiyXMFrax6qsTJb3jwqXiJHGGxnFcD8H/hHqfgvxB4m8S+JNTt9Y8R61MC09uhVIYVVQI1yAcZUMc55Jr1SigBk0MdxE0cqLLGwwyOAQR6EVm2XhXRdNM5tNIsbYzqVl8q3Rd6nqDgcj2rVooAzL7wzpGprCt3pdncrCNsQlgVtg9BkcCnjw9pS2slsNMsxbyKFeH7OmxgOgIxgitCigDM0/wAM6RpMcqWWl2dosq7ZBDAq7x6HA5FN07wroukXBuLHSbK0nPBkgt0RvzArVooAKKKKACiiigAooooAKKKKACiiigAooooAKKKKACiiigAooooAKKKKACiiigAooooAK/Lj4+f8la8Rf9fB/lX6j1+XHx8/5K14i/6+D/KvruHP48/T9T5fPv4UPU8+ooor78+KCiiigAooooAK+tv2Bv8AkL+IP+uY/pXyTX1t+wN/yF/EH/XMf0rxs4/3Gp/XU9XK/wDfIH2lRRRX5WfpAUUUUAFFFFABRRRQAUUUUAFFFFABRRRQAUUUUAFcR4o1y713Uv8AhG9DYiVv+P69TGLZPT/ePAxzw1WPGPia4W4TQtEKS61cj5ieltGesje/XA747VXa40z4Y6PHaQq13qt42VjHzTXUxHUnr6/QD2oAvXl5pfw18OwwQxGRlAjht4+Zbh8fzPqaq+HfC95qGorr3iErLfFf3FmvMVsPYd2575p/hfwjP9s/t3XmFzrUg+WPOY7Vf7iD2/vYBOKyvGvxSktNRPh/wtarrfiV+DED+6tgf45GGcAc9j0oA6Hxr4+0rwLp/n3826d/lhtYhullbsFUc/jXC6f4N134rXsOr+MA2m6Ip3W/h5G+93DTEdT7A468VueC/hWmmagde8Q3P9ueI5BkzzDMdv8A7MSnhcdMjGfxr0CSRIULuwRR1ZjgUAR2lnBYW8cFtCkEMY2rHGuABUOqatZaLZvdX91FaW6DJkmcKP1rz7X/AIyLdXsmk+DrFvEmrqdjmM4t4D/00ft+RqDTfhFeeJ7yLVvHmotq10MMulxErZxexXpJ9StAEV18Ttc8dXUmneBdNJtx8smuX6MkCf7inDE++COla3hH4N2Oj3n9qa5dzeJdcY7jeX2CE9lQALj8M131raw2NukFvEkMKDCxxqFUD2AqWgBFUKoCgADoBS0VR1TW7DQ7V7i/u4rWFBlnkbGKAPJv2l/E2peGvD+ny6dcC3kecKxMaPkYb+8DXzp/wtjxV/0E1/8AAWH/AOIr0v8AaJ+J+h+NtJsrXRZJb6OGfLXcafucgEYDZ6/h2rwav5w42xuLoZxOFKrKKtHRSaW3kz904UwuHrZXGVSnFu73SZ13/C2PFX/QTX/wFh/+Io/4Wx4q/wCgmv8A4Cw//EVyNFfB/wBp4/8A5/z/APAn/mfYfUMJ/wA+Y/8AgK/yOu/4Wx4q/wCgmv8A4Cw//EUf8LY8Vf8AQTX/AMBYf/iK5Gij+08f/wA/5/8AgT/zD6hhP+fMf/AV/kdd/wALY8Vf9BNf/AWH/wCIo/4Wx4q/6Ca/+AsP/wARXI0Uf2nj/wDn/P8A8Cf+YfUMJ/z5j/4Cv8jsYfix4paaMHUlxuH/AC6w+v8AuV9seE7iS68N6bNK26R4VLNgDJ/Cvz5t/wDXx/7w/nX6BeC/+RT0r/rgtfr3h5isRiK2IVao5WS3bfV9z8z42w9GhSoOlBRu3skuxt1+dv7an/JeNQ/687b/ANAr9Eq/O39tT/kvGof9edt/6BX9J8Pf74/8L/NH4Nnn+6r1X6nhNFFFfo58GFFFFABRRRQAV9AfsP8A/Jb1/wCwbcfzSvn+voD9h/8A5Lev/YNuP5pXm5l/udX0Z34D/eqfqj9CKKKK/JD9OCiiigAooooAKKKKACiiigAooooAKKKKAPif9vf/AJGDQf8Arkf618n19Yft7/8AIwaD/wBcj/Wvk+v1XJ/9ypn5tmn++VAooor2DywooooAKKKKAOz+Df8AyVDw3/1/Rf8AoYr9Va/Kr4N/8lQ8N/8AX9F/6GK/VWvguJP4tP0Z9pkP8Op6oKKKK+PPqTH8TeEdJ8YadJY6vZR3lu/VXHI9wa84bQvGPwnkaXRZpPFHhpOTptw/+kwr32P0IA/hC54r1+igDlfBPxK0Xx1C32GZobyPiWxuVMc8Z90ODj3xXVVxHjX4T6R4udbyIyaTrEZ3Q6hZnY6t6sBw3/Aga5mHx94k+Gc8Vl4ztG1LSc7R4gtEyqjt5qDkH/dXHWgD12iqOk61Y69Zx3Wn3UV3A4yrxtn/APVV6gDg9f0u68F6rP4i0iIzWcnzajYIOWA58xB/e65HOeMVb8V+G9M+KnhFfLkBZgJ7O7jI3QyjkEH6jBH1FdgyhgQRkHqDXAalZXHw51STVdOgafRLls3tohyYW6eagPQdMge5xmgA+Fnja71aK50DXv3XiXSyI51bjz16LKo7hgM+2a9ArzH4jeG5NXjsfG3hVll1uwTzI/LOBdwnBMbfXC9emK67wP4xs/HHh221O0bHmDEkLcNE46qw7GgDoKKKKACiiigAooooAKKKKACiiigAooooAKKKKACiiigAooooAKKKKACiiigAooooAKKKKACiiigAooooAKKKKACiiigAooooAK/Lj4+f8la8Rf8AXwf5V+o9flx8fP8AkrXiL/r4P8q+u4c/jz9P1Pl8+/hQ9Tz6iiivvz4oKKKKACiiigAr62/YG/5C/iD/AK5j+lfJNfW37A3/ACF/EH/XMf0rxs4/3Gp/XU9XK/8AfIH2lRRRX5WfpAUUUUAFFFFABRRRQAUUUUAFFFFABRRRQAVzXjDxWdDjhsrKP7XrN4dltbKef95vRR6njkVa8V+KIPDGn+Yw827lPl29uvLSOeg+nrXER3Fx4dnaeZV1bxrqmNsI5W1QjgH+6qjA9TgHmgC/HLH4AtEQg6x4r1Jstt+87Hv/ALKDPf35rS0Hw+vh2O68QeIruOXU3Qma4kIWOBM5CJnoOnfk5rIuLvR/hXYy6xr96dQ165GCwG6WVuyRqOnJx0HXmsiw8I698WLqHVPFhk0vQ0bfbaHE2C/o0xH8gcdKAC98Xa98Wrp9P8ItJpOgq2y41yRSryeogBx7/NyOld74M8B6T4F0/wCzabBtZjulnfmSVu7Me5qDxB4x8N/DjSlW5nhs441xFaQLl29AEUZriRN44+LKkRrJ4L8OufvsFa8nT6fMqg/gaAOm8ZfFzRvCt0NPhEmsay/CafYKZZAf9vaDsHuRXNxeB/FnxLk8/wAY3p0jRX5XQrBxuI9JZOQ34Ad67fwd8O9E8D2+zTrQee3Ml1MTJK57ks2T+Ga6agDM0Hw3pnhexSz0uzis7dBgLGMVp1z3iLx/4f8ACsLSalqkEBH/ACzUl3PttUE/pXD/APC1vEvi6Yw+EPC0xtzwNV1U+Xbn3AB3/wDjtAHq8kixRs7sERRksxwAK4LxF8bfDOhzG2t55Navs7Ra6VGblg3o2zO38ax1+D2r+KJRN4y8TXOoR5z/AGfZN5MC+wZQrn8TXe6D4N0XwxCqabptvbbf+WioC5+rHk/nQBwL6p8SfHG1tOsrXwhpz4/e3p+0TsvfAUqVP1FXtL+BejNcR3viK4uvFGog7jLqMm9Vb/YAAwPzr0qigD5+/aqsrex8J6TFbwpDGtwAFRcADa1fMFfXP7S40U+H9P8A7Za/WHzxt+whC2cN13HpXzpt8B/3/Ef/AHxb/wCNfzhxrhfa5xOXPFaR3dnsfunCmI9nlcI8knq9l5nI0V123wH/AH/Ef/fFv/jRt8B/3/Ef/fFv/jXwf1F/8/Yf+BH2H1v/AKdy+45Giuu2+A/7/iP/AL4t/wDGjb4D/v8AiP8A74t/8aPqL/5+w/8AAg+t/wDTuX3HI0V123wH/f8AEf8A3xb/AONG3wH/AH/Ef/fFv/jR9Rf/AD9h/wCBB9b/AOncvuOUt/8AXx/7w/nX6BeC/wDkU9K/64LXxXCvgPzo8P4izuGMpB6/Wvtnwn5X/CN6d5G/yfJXZ5mN2PfFfr3h5h/Y1sQ+dO6Wzv1Z+Z8bVva0qHutavdW7GtX52/tqf8AJeNQ/wCvO2/9Ar9Eq/O39tT/AJLxqH/Xnbf+gV/SfD3++P8Awv8ANH4Nnn+6r1X6nhNFFFfo58GFFFFABRRRQAV9AfsP/wDJb1/7Btx/NK+f6+gP2H/+S3r/ANg24/mlebmX+51fRnfgP96p+qP0Iooor8kP04KKKKACiiigAooooAKKKKACiiigAooooA+Sv20Ph14n8a61o0ug6FfatHFGQ7WsJcKeeuK+av8AhQPxH/6EvWf/AAFavp/9sTVvDOnazo667HrryNGdn9k3aQrjnruU5r5z/wCEp+Hf/Pv40/8ABpD/APEV+i5ZUrxwkFBaen/2yPgswhReKm5PX1/4Bmf8KB+I/wD0Jes/+ArUf8KB+I//AEJes/8AgK1af/CU/Dv/AJ9/Gn/g0h/+Io/4Sn4d/wDPv40/8GkP/wARXq+1xPb/AMl/+2PO9nQ7/j/9qZn/AAoH4j/9CXrP/gK1H/CgfiP/ANCXrP8A4CtWn/wlPw7/AOffxp/4NIf/AIij/hKfh3/z7+NP/BpD/wDEUe1xPb/yX/7YPZ0O/wCP/wBqZn/CgfiP/wBCXrP/AICtR/woH4j/APQl6z/4CtWn/wAJT8O/+ffxp/4NIf8A4ij/AISn4d/8+/jT/wAGkP8A8RR7XE9v/Jf/ALYPZ0O/4/8A2psfCv4I+PdJ+IWg3d54S1a2tYbuN5JZLZgqqGBJJr9H6/OXwLqXgDXvF2lWFvH4wimuLhESSXUomVSWABICV9jf8K18ZeHjnw/41nuY15S31pBLGPb5Apx+NfF57KpKrD2i6drfqz6zJY04058j6+v6I9Uoryw+PPHfhlCdd8IrqcK/eu9KnUL9fLJLGr+i/Hbwrqknk3E9zpFwOGTU7aS3UH03OAD+FfMn0R6JRVWx1Wy1SMSWV5b3cf8AeglVx+YNWqACo5oY7iF4pUWSNxhlYZBFSUUAeW6t8Ibjw/eSar4Ev/7EvSdz2DDNpN7FMgKT/e5qbw78Y44dQi0XxhZnw1rbHZGJm/cXB9Y3IG7PpivTKyfEXhbSvFdhJZ6rZRXcDjBDjkfQjkUAauc9KSSNZo2jdQ6MCrKehB6ivIv+Ec8X/CctLoMz+JvDqfM2l3LgXEKjr5bcDGOxya7PwT8TNF8cwkWkxt75OJbG6BjmQ/7rYJHvjFAGRMkvwv1EzIWfwnOSZlPP2JyevsnX0xxXPeIFPwp8UL4t0zM3hfVXA1O3j+7C7cCcexyM+y17BcW8d1C8UqLJG4wysMg15zPajwLI+k6kv2zwff5hQyAsbUtxsb/YORg9snJoA9Es7uK+tYbmBxJDKgdHXoVIyDU1eQeCdUm+F/idfCOqXBm0a+Yy6Nescrg8mEt0z97HsBXr9ABRRRQAUUUUAFFFFABRRRQAUUUUAFFFFABRRRQAUUUUAFFFFABRRRQAUUUUAFFFFABRRRQAUUUUAFFFFABRRRQAUUUUAFflx8fP+SteIv8Ar4P8q/Uevy4+Pn/JWvEX/Xwf5V9dw5/Hn6fqfL59/Ch6nn1FFFffnxQUUUUAFFFFABX1t+wN/wAhfxB/1zH9K+Sa+tv2Bv8AkL+IP+uY/pXjZx/uNT+up6uV/wC+QPtKiiivys/SAooooAKKKKACiiigAooooAKKKKACszxF4hs/C+lS396+2JOAqjLO3ZVHcn0qxqmp2+j2E15dSCKCFdzM1eLan4mufFOtLe+ZHbmNS1st18kVlF/z2mzjDYwQpwRg8UAaq3+pXGuC6eAXvim4XdaWe7MWmwnjexx1+9zgZztqCbxNF4RvJ9E8OxHxN45usPdzE5WInvI3O1RngelYuk3F/wCKIbqy8LzvpmkFs6n4pvhskuT38vOMDGBnGMVd0PxNYaCsnh74baO2t6jk/aNVlz5Afu7SHAc5PRTQBv6T4M07wX5ni/xzqsV7rKrue8ujthth/djUk7fwqvceP/E/xGYQeCtPax0pzhtcv0wrL6xL0f65FXNF+EBvLxda8b6m2v6inzrC522lv/uL1/76J6Vo+IPjF4V8JgWdvMdRuV+VLTSYjcEH0Plg7fxoAf4R+D+keHb4apfNJrmvdTqV987r6hM52j2BrsdT1ay0Wze6vrmO0toxlpJWwoH1rzP+2/iN44X/AIlenW3hTT36XGoHzZivqoVhtP1FW9L+BmmyXKXviXULzxTfA7t19J8iH/ZChePrmgBlz8dLDVmeDwhp114ruAcebZpm2H+9IM459qrJ4b+Ivjb5tb1eHwtZN1sdLPmS/wDf75SPyr0+x02002FYrS2it41GAsagVZoA4jw38G/C3hu4F2mni+1HvfX376cn/fPNdsBtGB0pazr/AMRaVpYJvdTs7QDr59wiY/M0AaNFcJqnxq8KaXkC8mvz/wBQ+2kuf/RYNUI/i5qOr/8AIC8HanqQPRp2Fr+P7wCgD0qivNmuvibrH/HvaaRoSt2vA07D8Uem/wDCtvFOrfNqvji/t8/ej0sLGh9vnVjQBx/7Wh/4pnTP+vkf+gtXy1Xvv7RHw9sPCOg2FzBcXN3dSThXmuX3E8H047V4FX8xcdf8jufpH8j9/wCEP+RTD1f5hRRRX5+faBRRRQAUUUUAPt/9fH/vD+dfoF4L/wCRT0r/AK4LX5+2/wDr4/8AeH86/QLwX/yKelf9cFr9m8Nv42J9I/mz8s47/hUPV/kjbr87f21P+S8ah/1523/oFfolX52/tqf8l41D/rztv/QK/p3h7/fH/hf5o/n7PP8AdV6r9Twmiiiv0c+DCiiigAooooAK+gP2H/8Akt6/9g24/mlfP9fQH7D/APyW9f8AsG3H80rzcy/3Or6M78B/vVP1R+hFFFFfkh+nBXJat8WPCOh6hNY3+u21rdwttkifdlT6dK62vhn44f8AJUNe/wCvhv5mvi+Ks8r5DhYV6EVJylbW/Zvo0fVcO5TSzjETo1pNJK+lu/mfVv8Awu7wL/0Mtn/49/hR/wALu8C/9DLZ/wDj3+FfDFFfl/8AxEfMf+fMP/Jv8z9B/wBRsF/z9n+H+R9z/wDC7vAv/Qy2f/j3+FH/AAu7wL/0Mtn/AOPf4V8MUUf8RHzH/nzD/wAm/wAw/wBRsF/z9n+H+R9z/wDC7vAv/Qy2f/j3+FH/AAu7wL/0Mtn/AOPf4V8MUUf8RHzH/nzD/wAm/wAw/wBRsF/z9n+H+R9z/wDC7vAv/Qy2f/j3+Fa3h34ieG/Fl09tpGrQX86DcyRZyB68ivgKvb/2Uf8AkdL7/rh/jXtZLxzjcyzCjhKlKCjN2bV77ep5WacI4TAYKriYVJNxV9bf5H1jRRRX7UflJ8T/ALe//IwaD/1yP9a+T6+sP29/+Rg0H/rkf618n1+q5P8A7lTPzbNP98qBRRRXsHlhRRRQAUUUUAdn8G/+SoeG/wDr+i/9DFfqrX5VfBv/AJKh4b/6/ov/AEMV+qtfBcSfxafoz7TIf4dT1QVn6p4e0vW0KahptpfKRj/SIFk/mK0KK+PPqTzPUvgF4enuPtOmT6hol2DlWsryRYx/2zDBT+VQf8I38SPDIP8AZniCz8QwJysOpxCE49NyKSa9TooA8rX4ua9oJ2+JfBmoW6d7zTwskA/EsG/Sui8O/F7wl4nZY7PWIfPPBhlDIyn0OQBXY4z1Ga5zxN8OfDPjJSutaLZ6jxjM8YYigDoIbiK4XdFIkq+qMCKkrzGT4IxaSu7wz4g1bQWH3beO4Jth7eWAOPxqBF+KvhdjvbTPF1uvI2j7G+PQklsmgD1WuK8bfCnR/GLLdKH0vV4zui1CxJjkDf7W0jePY5FYsHxwi04iPxH4e1bRJO8n2dpYB6/vMAV1nh34ieGvFm0aVrVneyH/AJZxTKzj2IBoA4WPx14n+GMqWvjG0bVNGB2prtmv3R281eMcegPSvRrW/wBI8aaOxgmh1GxuEwdvIIPt2rUliSaNkkUOjDBVhwa8x1n4PzaHeS6t4Evv+Ef1GQ75rQjdaXHsyAjk+uaAMzxR4XW2sf8AhGNYZ202V9+k6rkl7aXO4KW6juB7ce1P8M/HTSfC+ny6V491SDRtc09/JkeYHbcDosq4HRsE1Pb/ABKstUjbwz4/07+wr+f92rXB/wBHuD2MchAGcjOOcY9q8Z/aUsdD8M2livi/QbzxFGjFbDU7S7EEjR8fJIxRskDHPfmuvCUViK8aTvZ9t/xOXFVXQoyqK2nc9y/4aY+GH/Q5af8A+P8A/wATR/w0x8MP+hy0/wD8f/8Aia+Dv+Ek+Fv/AEJeuf8Ag8X/AOM0f8JJ8Lf+hL1z/wAHi/8Axmvrf7Co9p/+S/5nzP8AbNXvD/yY+8f+GmPhh/0OWn/+P/8AxNH/AA0x8MP+hy0//wAf/wDia+Dv+Ek+Fv8A0Jeuf+Dxf/jNH/CSfC3/AKEvXP8AweL/APGaP7Co9p/+S/5h/bNXvD/yY+8f+GmPhh/0OWn/APj/AP8AE0f8NMfDD/octP8A/H//AImvg7/hJPhb/wBCXrn/AIPF/wDjNH/CSfC3/oS9c/8AB4v/AMZo/sKj2n/5L/mH9s1e8P8AyY+8f+GmPhh/0OWn/wDj/wD8TT4f2kvhlcSrHH4wsGdjgKN/J/75r4L/AOEk+Fv/AEJeuf8Ag8X/AOM1b0nxF8MG1S1EfgzW0fzF2sdbUgHPp5NJ5HRS2n/5L/mCzir3h/5MfpjDKk8SSRtujdQysO4PQ0+qmksjaVZGNSsZhTapOSBtGBmrdfEvRn161Vzn/Efj7w94Rmji1jVYbCSQZVZc8j8BWN/wu7wL/wBDLZ/+Pf4V4t+1p/yHdL/65mvAa/GM843xuV5hVwdKlFxi93e+3qfqmU8J4XMMFTxNSpJOXa1t/Q+5/wDhd3gX/oZbP/x7/Cj/AIXd4F/6GWz/APHv8K+GKK8H/iI+Y/8APmH/AJN/mex/qNgv+fs/w/yPuf8A4Xd4F/6GWz/8e/wo/wCF3eBf+hls/wDx7/Cvhiij/iI+Y/8APmH/AJN/mH+o2C/5+z/D/I+5/wDhd3gX/oZbP/x7/Cj/AIXd4F/6GWz/APHv8K+GKKP+Ij5j/wA+Yf8Ak3+Yf6jYL/n7P8P8j7w0/wCL3g7VryK0tNftZ7mVgqRruyxPbpXYV8E/Cz/koGh/9fSf+hCvvav0zhXPq+fYepWrwUXF20v282z4HiLJ6OT1oU6Mm1JX1t+gUUUV9wfJBRRRQAUUUUAFFFFABRRRQAUUUUAFFFFABX5cfHz/AJK14i/6+D/Kv1Hr8uPj5/yVrxF/18H+VfXcOfx5+n6ny+ffwoep59RRRX358UFFFFABRRRQAV9bfsDf8hfxB/1zH9K+Sa+tv2Bv+Qv4g/65j+leNnH+41P66nq5X/vkD7Sooor8rP0g5TWvip4T8O6hJY6lrltaXceC0Um7Iz+FUf8Ahd3gX/oZbP8A8e/wr5f/AGgv+Soan/up/KvOK/DMx4+x+DxlXDQpQahJrW/R+p+u4Hg3B4rC068qkk5JPp1Xofc//C7vAv8A0Mtn/wCPf4Uf8Lu8C/8AQy2f/j3+FfDFFed/xEfMf+fMP/Jv8zu/1GwX/P2f4f5H3P8A8Lu8C/8AQy2f/j3+FH/C7vAv/Qy2f/j3+FfDFFH/ABEfMf8AnzD/AMm/zD/UbBf8/Z/h/kfc/wDwu7wL/wBDLZ/+Pf4Uf8Lu8C/9DLZ/+Pf4V8MUUf8AER8x/wCfMP8Ayb/MP9RsF/z9n+H+R99eH/iV4Y8V6h9h0jWLe+u9hk8qPOdoxk8j3FdFcXEdpA80zrHFGCzMxwAB3r5D/ZZO34nMT0+wTfzSs79qX9p/7RqT+EvDNxm3ifbe3Mf8bf3FPp6+ua/WOGc4rZ3gPrdaKi+ZrS9tLd7n5vn2WU8pxn1alJtWT18/Q7n4kfFyHxVqTRwS7dHtZNibT/rJOmSv8R64B479RWFDdjVpYLS9s7m8LMGg8N2p3XE7dnupM/8Aju5hya8t+HFhqOtLDeCK8uQinH2FDhBnkCYZEPPXIOea9g0Nk0SE2reKNG8E2sp3SWOmTrLfynuTKrDJ/wCA19YfOHT6ho0U1pDc/EPXbbRNJhwYPD+luyRoB0DlAGP0ORW3pfj/AFK+s1sPh54N8qxUbUvrxBBan3G3LH8VrE0F/BGj34vNK8L654l1c/8AMUurJ5Sx/wCuuK7b/hKvH2rLjT/CVvp8R6T3V8u4f9s9oP60AU2+Emt+MGWXxl4nuriLOf7O01jbxKPTzE2s34122g+DfD/g23VdPsLWzKjBmKL5je7OeT+Jrk18L/EfVmzfeK7GwgP/ACws7ErIP+2nmf0qwvwZtb0A6v4g13VyfvRXF6TD+CY4H40AdTqnjTQtFTfeapbQr/v7v5Zrlrj46eGWkaPTJLjWpF4KWcRzn0+bFaOk/BvwVocvnWfhywin7zeUN5+prr4beK3jWOKNURRgKo4FAHnH/CxvFmrcaV4HvbXd92TVisafU7GY4py2fxN1j/j5vdI0Ef8ATjm4P/kRBXpNFAHmknwgvdX513xfqmpFvveR/og+n7sitHS/gr4U0sqfsMl9j/oI3D3Ofr5hOa7qigDPsPD+l6Vj7FptnZ/9cIET+QrQoooAKKKKAPGP2l/DOp+JvD+nxaZaNdyJOGZVZRgYb1Ir50/4VL4t/wCgNL/38j/+Kr3j9rQn/hGNM/6+R/6C1fLO4+tfzfxtPCxzmaqwk3aO0klt25H+Z+6cKRxDyuHs5xSu94t9f8S/I67/AIVL4t/6A0v/AH8j/wDiqP8AhUvi3/oDS/8AfyP/AOKrkdx9aNx9a+E9pgf+fU//AANf/Kz7Dkxn/PyP/gD/APkzrv8AhUvi3/oDS/8AfyP/AOKo/wCFS+Lf+gNL/wB/I/8A4quR3H1o3H1o9pgf+fU//A1/8rDkxn/PyP8A4A//AJM67/hUvi3/AKA0v/fyP/4qj/hUvi3/AKA0v/fyP/4quR3H1o3H1o9pgf8An1P/AMDX/wArDkxn/PyP/gD/APkzsYfhN4tWaMnRpcbh/wAtI/X/AHq+2fCdvJaeG9OhlXZKkKqy+hr8+bdj9oj5/iH86/QHwX/yKelf9cFr9e8PJYeVbEexg1ot5J9X2jE/M+No1lSoe1knq9k127yZt1+dv7an/JeNQ/687b/0Cv0Sr87f21P+S8ah/wBedt/6BX9J8Pf74/8AC/zR+DZ5/uq9V+p4TRRRX6OfBhRRRQAUUUUAFfQH7D//ACW9f+wbcfzSvn+voD9h/wD5Lev/AGDbj+aV5uZf7nV9Gd+A/wB6p+qP0Iooor8kP04K+Gfjh/yVDXv+vhv5mvuavhn44f8AJUNe/wCvhv5mvyjxG/5F1L/H+jP0fgf/AH6p/h/VHC0UUV/PJ+2BRRRQAUUUUAFe3/so/wDI6X3/AFw/xrxCvb/2Uf8AkdL7/rh/jX1fCn/I7w3+L9GfOcRf8inEen6o+saKKK/rI/m8+b/2pV8ctqul/wDCJ3FpDDsPm/aHtVJPPTzufyrwny/jR/z/AOl/9/tNrrv29/8AkYNB/wCuR/rXyfX6PleH58JCVo/ON/1Pgcwr8uKmry+UrfofQXl/Gj/n/wBL/wC/2m0eX8aP+f8A0v8A7/abXz7RXq/VPKP/AIB/wTzvrPnL/wAC/wCAfQXl/Gj/AJ/9L/7/AGm0eX8aP+f/AEv/AL/abXz7RR9U8o/+Af8ABD6z5y/8C/4B9BeX8aP+f/S/+/2m0eX8aP8An/0v/v8AabXz7RR9U8o/+Af8EPrPnL/wL/gH034Nj+M3/CUabvvtHZfPTIllsCvUdRH83/fPNfVDah8T7Hmax8O3wHJFn5yk+w3t1r87/g3/AMlQ8N/9f0X/AKGK/VWvi8+peyqQWm3RW/Vn1mS1PaU5779Xc80bx146s/8AXeA5r3HX7HcxLn6b3pP+Fvapb/8AH/4G1exI+/ukik2/98sc/hXplFfLn0Z5qvx60C3/AOQha6nYdjusZpMH0+RTV+1+NnhC7xs1CZMjP720mj/9CUV3dULrQtOvc/aLG3nycnzIlb+YoAzLX4h+Grv7muWKcZ/ezqn8yK0YfEek3H+q1Szl/wBy4Q/1rKufhl4RvP8AX+GdJlPXL2UZ59elZdx8FfCU3+r0wWntat5X/oNAHbRTxzcxyLIP9lgakrzWX4B+H2IMWpeILYjkeRrE6D8QG5oX4O3Nn/x4+LtXg7jzpWm5/wCBNQB6LPbQ3SbJokmT+7IoYfrXJ698I/CfiPLXWjxJL1EluzwkH1+Qisv/AIQfxvZKTZ+Piy9fKm0qJs/8CLZFRPY/E6z/ANVqOl6jjp50Yhz+SnFAFL/hT+v6BN5nhrxtqFrCOmn3gSSA+mTsL/rUsnij4keGRjUPDdn4jhXrJo8nltj1PmuP0p/9u/Fezb974Z0C6iH/AC0j1OQOf+A+Vj9akT4g+MbX/j+8Ezvjr9hcy8+2QKAMy8+K3gzxdbtpfijTbjTZpBtMN9audv0kUYH4GvKfil4c8T6Do9unw98YWuqaQ8m5LO8uLVjb+ytL2+pJ4r2S/wDiZbX9v5GteAfEJi7/AGjTo3iJ9sv/AErwL4+QfCzUtOtWlg1Twsxkyy2GmxkE+hTeoBr0MvV8VDTr2v8AgcGOdsNP/O34nDeX8aP+f/S/+/2m0eX8aP8An/0v/v8AabXEf2H8Jv8AoavE3/gmi/8Aj1H9h/Cb/oavE3/gmi/+PV+g8sf5F/4Lf+Z8PzS/mf8A4Gv8jt/L+NH/AD/6X/3+02jy/jR/z/6X/wB/tNriP7D+E3/Q1eJv/BNF/wDHqP7D+E3/AENXib/wTRf/AB6jlj/Iv/Bb/wAw5pfzP/wNf5Hb+X8aP+f/AEv/AL/abR5fxo/5/wDS/wDv9ptcR/Yfwm/6GrxN/wCCaL/49R/Yfwm/6GrxN/4Jov8A49Ryx/kX/gt/5hzS/mf/AIGv8jt/L+NH/P8A6X/3+02rOmx/GX+0Lfzb7TDHvG7E2m9M+1ef/wBh/Cb/AKGrxN/4Jov/AI9VvSdE+FK6pamPxT4kZ/MXaG0eIAnP/XalKMbP3V/4Lf8AmNSlf4n/AOBr/I/SnTfM/s2180gy+Um/GMZwM9Ks1U0kIulWQjJaPyU2swwSNoxmrdfmD3P0WOyPl39rT/kO6X/1zNeA179+1p/yHdL/AOuZrwGv5S4v/wCR3iPVfkj+jOGf+RTQ9P1YUUUV8cfUBRRRQAUUUUAdV8LP+SgaH/19J/6EK+9q+CfhZ/yUDQ/+vpP/AEIV97V/QHhx/uVf/EvyPxjjr/eqP+F/mFFFFfrp+ZhRRRQAUUUUAFFFFABRRRQAUUUUAFFFFABX5cfHz/krXiL/AK+D/Kv1Hr8uPj5/yVrxF/18H+VfXcOfx5+n6ny+ffwoep59RRRX358UFFFFABRRRQAV9bfsDf8AIX8Qf9cx/Svkmvrb9gb/AJC/iD/rmP6V42cf7jU/rqerlf8AvkD7Sooor8rP0g+Jv2gv+Soan/up/KvOK9H/AGgv+Soan/up/KvOK/j7Pf8AkaYn/HL8z+nMo/5F9D/DH8gooorwz1wooooAKKKKAOs+GnhfxH4y1270jw1qtvo17c2MqvdThjiPK5A29+laVv8AsC+Lbe+W7PirSJJVbeTJFKcn34rov2V/+SoN/wBeE380r7Ar+lOAP+RN/wBvy/Q/BuM/+Rp/26v1Pm7RP2c/E2konnQ+Er+ROkkjX0f4kI6g/lXZad4F8b6SuLbTfAae7W905/NmJr1+iv0k+FPOYbX4pW67Yv8AhC419EhugP8A0Kn7fiv/AM9PBv8A37u//iq9DooA882/Ff8A56eDf+/d3/8AFUbfiv8A89PBv/fu7/8Aiq9DooA882/Ff/np4N/793f/AMVRt+K//PTwb/37u/8A4qvQ6KAPPNvxX/56eDf+/d3/APFUbfiv/wA9PBv/AH7u/wD4qvQ6KAPPNvxX/wCeng3/AL93f/xVG34r/wDPTwb/AN+7v/4qvQ6KAPPNvxX/AOeng3/v3d//ABVG34r/APPTwb/37u//AIqvQ6KAPPNvxX/56eDf+/d3/wDFUbfiv/z08G/9+7v/AOKr0OigD5e/aLXxkNBsP+EkfQmt/PGz+ylmD7sHrvJGOteAV9Tftaf8ixpf/XyP/QWr5Zr+YuOv+R3P0j+R+/8ACH/Iph6v8wooor8/PtAooooAKKKKAH2/+vj/AN4fzr9AvBf/ACKelf8AXBa/P23/ANfH/vD+dfoF4L/5FPSv+uC1+zeG38bE+kfzZ+Wcd/wqHq/yRt1+dv7an/JeNQ/687b/ANAr9Eq/O39tT/kvGof9edt/6BX9O8Pf74/8L/NH8/Z5/uq9V+p4TRRRX6OfBhRRRQAUUUUAFfQH7D//ACW9f+wbcfzSvn+voD9h/wD5Lev/AGDbj+aV5uZf7nV9Gd+A/wB6p+qP0Iooor8kP04K5XVPhZ4S1u+lvb7QbO6upjuklkQlmPqea6qiueth6OIjy1oKS80n+ZtSr1aD5qUnF+Tt+RxX/Cl/A/8A0LNj/wB8H/Gj/hS/gf8A6Fmx/wC+D/jXifx1/av8TeH/AIqW3wy+FXhSHxp4w8j7Tf8A2iQpb2KZIG8hgc8A8Z+8Kb8Gf2svE+ofFr/hWHxZ8JQ+DfFlxbm50+W0kL2t4g2ghSWJ3fMvYd64/wCy8v8A+geH/gMf8jq/tHG/8/pf+BP/ADPbv+FL+B/+hZsf++D/AI0f8KX8D/8AQs2P/fB/xq74i8faXpmjX81jqOnXmoxQSvb2n2uMGWRFJ2fe9cfnWN8KfiVdeLvhrYeJfFNlbeFrqZpRLbyXUbRx7ZGUHeGK8gA9e9H9l5f/ANA8P/AY/wCQf2jjf+f0v/An/mXP+FL+B/8AoWbH/vg/40f8KX8D/wDQs2P/AHwf8a6LT/E2j6u0a2Oq2V48il0WC4RyyjqQAeRyK4D4MfFrU/HfhfUNU8V6Xa+FZINQe0hja7jdZFGNrbg7DJJ6Zz7Uf2Xl/wD0Dw/8Bj/kH9o43/n9L/wJ/wCZu/8ACl/A/wD0LNj/AN8H/GtTw/8AD/w74VunuNI0i2sJ2G1pIVwSPSrtj4o0bVLySzs9Wsbu7j+/BDcI7r9QDmornxp4fs9Q+wXGuadBe52/Z5LuNZM+m0nOa0p5fg6UlOnRimuqik/yInjsVUi4TqyafRt/5mzRXi8nx/nX9pKD4XrpsTQyab/aX2/cc7dxXaBn1FewX1/babbPcXlxFa26felmcIo+pPFegcRz/i74Y+FfHk0UviDQ7TVpIRhGuFJKj25rn/8AhnH4Z/8AQmaX/wB+z/jXK6h+0pBH+0d4U+G2nQ2ep6frthPdrqdtMJPLaJHcrwcfwj869Yk8beHodQ+wya7pqXucfZ2u4xJn025zmuiOIrQXLGbS9WYSoUpPmlBN+iOR/wCGcfhn/wBCZpf/AH7P+NH/AAzj8M/+hM0v/v2f8aztW/aQ8M6R8edM+FUxYa1fWUl6LkyxiFAm35Dls7ju4GOxr0C98aeH9NvhZ3euadbXZOBBNdRq/wCROar61iP+fkvvZP1ah/IvuRyH/DOPwz/6EzS/+/Z/xo/4Zx+Gf/QmaX/37P8AjXZ6r4q0XQ1jbUdWsbBZBlDc3CR7h6jJ5qddc05tP+3rqFqbHGftQmXyseu7OKPrWI/5+S+9h9WofyL7kcL/AMM4/DP/AKEzS/8Av2f8aP8AhnH4Z/8AQmaX/wB+z/jXWf8ACbaHNpF7qVrqtne2tnG0sr29wjhQoyckHj8a434B/H7w/wDtCeFbrXdBVreG3vp7FoJ5EMuYnK78KThWxkUfWsR/z8l97D6tQ/kX3Iv6b8A/h7o99Be2XhLTra6hYPHKiHcrA5BHNd/RRWM6s6jvOTfqawpwp6Qil6BRRRWZoFFFFABRRRQAUUUUAFFFFABRRRQAjKG6jP1rn/FXw/8ADnji3jg17R7XU4YzuVJ0yAfXiuhoqoylB80XZkyipK0ldHm//DOPwz/6EzS/+/Z/xo/4Zx+Gf/QmaX/37P8AjXpFFdH1rEf8/JfezD6tQ/kX3I83/wCGcfhn/wBCZpf/AH7P+NH/AAzj8M/+hM0v/v2f8a9Ioo+tYj/n5L72H1ah/IvuR5v/AMM4/DP/AKEzS/8Av2f8aP8AhnH4Z/8AQmaX/wB+z/jXpFFH1rEf8/Jfew+rUP5F9yPN/wDhnH4Z/wDQmaX/AN+z/jTov2dfhrBIskfg7TFdTkMIzwfzr0aij61iP+fj+9h9WofyL7kMiiSCJI41CogCqo7AdBT6KK5TpMHxD4F8P+LJo5dX0q31CSMYVplyRWR/wpfwP/0LNj/3wf8AGu1orgqZfg60nOpRjJvq4pv8jtp43FUoqFOrJJdE2jiv+FL+B/8AoWbH/vg/40f8KX8D/wDQs2P/AHwf8a7Wisv7Ly//AKB4f+Ax/wAi/wC0cb/z+l/4E/8AM4r/AIUv4H/6Fmx/74P+NH/Cl/A//Qs2P/fB/wAa7Wij+y8v/wCgeH/gMf8AIP7Rxv8Az+l/4E/8ziv+FL+B/wDoWbH/AL4P+NH/AApfwP8A9CzY/wDfB/xrtaKP7Ly//oHh/wCAx/yD+0cb/wA/pf8AgT/zOSsPhN4P0u8iurTw/ZwXETBkkRDlSO45rraKK7KOGoYZONCCin2SX5HNVr1a7Tqzcn5tv8woooroMAooooAKKKKACiiigAooooAKKKKACiiigArg9X+BHw/17UJr/UPCmn3d5Md0k0iEsx9TzXeUVpCpOm7wk16Gc6cKitNJ+p5v/wAM4/DP/oTNL/79n/Gj/hnH4Z/9CZpf/fs/414x8Vv2tfGk3xivvhn8IPBtt4v1vS4hJqt9fSlLa0JyAhKsDu+Vu3atn9n79qzWvG3xA1j4d/ErwxH4J8b6fD9pjhjk3W93D3aNixPHzZzjoa2+tYj/AJ+S+9mX1ah/IvuR6d/wzj8M/wDoTNL/AO/Z/wAaP+Gcfhn/ANCZpf8A37P+NaPjr4m2WgeFNVvdFu9N1jWLe3ea208XkYM7KQCudw9fWjwB8RDrnw10LxL4nitfDF1fWyzT2s9zHshc9V37ip/Amj61iP8An5L72H1ah/IvuRnf8M4/DP8A6EzS/wDv2f8AGj/hnH4Z/wDQmaX/AN+z/jXW3Hiuxm0u+uNLvLTU7mC1e5jgguEYvtBI6HgE4GenNch8Fvilf+Pvh7Y694p0+18L6jczvCLE3Ubjg/Lhg7Ak+gNH1rEf8/Jfew+rUP5F9yHf8M4/DP8A6EzS/wDv2f8AGuh8I/DPwt4Dkmk8P6Ja6S8wxI1upG7681qaZ4m0fWppYdP1Wyvpojh47e4SRl+oBqD/AITbw9/aH2D+3dN+252/Z/tcfmZ9Nuc5qZYitNcsptr1ZUaFKD5owSfojaorxTwv+0HP4i/aS8S/C46XHFFo9lFeG+DHdJvLgDGf9j0717DqOqWWj2zXF/dwWUC9ZbiRY1H4k1zm5g6x8MfCviC+e91HQ7S7unwGlkUljj8apf8ACl/A/wD0LNj/AN8H/GvP9O/aYi1X9qBfhXZ21reafLor6vFq1vNvB2mIFeDj/lp+letx+NvD02ofYE13TXvc7fs63cZkz6bc5zXnSy3A1JOc6EG315V/kd0cfi4JRjWkkv7z/wAzE/4Uv4H/AOhZsf8Avg/40f8ACl/A/wD0LNj/AN8H/Gud039o3wxqfx11H4XRvs1ixsBfvcPLGImyyr5a/Nkt8+cY6A13s3jTw/bah9gm1zTYr7O37O93GJM+m3Oc1H9l5f8A9A8P/AY/5Ff2jjf+f0v/AAJ/5mJ/wpfwP/0LNj/3wf8AGj/hS/gf/oWbH/vg/wCNb+reLdD0KSNNS1iwsHk5Rbm5SMt9ATVibXNNt9PF9LqFrFY4z9peZRHj13ZxR/ZeX/8AQPD/AMBj/kH9o43/AJ/S/wDAn/mcx/wpfwP/ANCzY/8AfB/xo/4Uv4H/AOhZsf8Avg/41oat8Q9B0vwnqXiFdTtb3TbCB55ZLadHGFBJGQcZ4rD+Bvxo0X48fD6w8WaIDDbXZkH2aWRGlj2SMnzBScZ25HsRR/ZeX/8AQPD/AMBj/kH9o43/AJ/S/wDAn/mb2g/Dnw14Xvvtuk6Na2F1sMfmwqQ204yP0FdHRRXbRoUsPHkowUV2SSX4HJVrVK0uerJyfdu4UUUVuZBRRRQAUUUUAFFFFABRRRQAUUUUAFFFFABRRRQBkeIfCej+LII4dX0+HUIo23KswyAfWsH/AIUv4H/6Fmx/74P+NdrRXDVwOEry56tGMn3cU3+KOynjMTRjyU6korsm0cV/wpfwP/0LNj/3wf8AGj/hS/gf/oWbH/vg/wCNdrRWP9l5f/0Dw/8AAY/5Gn9o43/n9L/wJ/5nFf8ACl/A/wD0LNj/AN8H/Gj/AIUv4H/6Fmx/74P+NdrRR/ZeX/8AQPD/AMBj/kH9o43/AJ/S/wDAn/mcV/wpfwP/ANCzY/8AfB/xo/4Uv4H/AOhZsf8Avg/412tFH9l5f/0Dw/8AAY/5B/aON/5/S/8AAn/mcWvwY8EKwI8NWII5+4f8a6+1tYrO3jggQRQxjaqL0A9Klorpo4TD4Zt0KcY37JL8jCria9eyrTcrd23+YVxnif4N+CvGmrPqeueG7HUtQdVRridCWKgYA69q7Oiu+FSdN80G0/I45wjUVpq68zzf/hnH4Z/9CZpf/fs/40f8M4/DP/oTNL/79n/GvSKK2+tYj/n5L72Y/VqH8i+5Hm//AAzj8M/+hM0v/v2f8aP+Gcfhn/0Jml/9+z/jXpFFH1rEf8/Jfew+rUP5F9yPN/8AhnH4Z/8AQmaX/wB+z/jR/wAM4/DP/oTNL/79n/GvSKKPrWI/5+S+9h9WofyL7keb/wDDOPwz/wChM0v/AL9n/Gtfwr8H/BngnVP7S0Lw7ZaXfbGj8+3QhtpxkdfYV2NFKWJryXLKba9WVHD0Yu8YJP0QUUUVzG4UUUUAfA3gXxPpnwJ/4KMfFe58c3keiWnjSwgk0W8u22JKE8sMoJ7Zjf8AGq/xk8U6X8cv29vhHF4IvotaTwjZ3V1q9zZMHSJGaIgEj/PFfY/xP+B/gb4zWcNt4y8OWmuxwnMRuAwZPoykGo/hj8B/AXwbs7i28HeGrPRI7n/XNDuZpPqzEnvQB8Lfss/A3wx4v+Gvxd8cazbPf6vpuqatBZea+Ug226HcqnoTu6+wrzS51ATfsw/s86R4ivZLLwFqXii+h1eTzCkcgE12VjkPQrkLwfSv1F8M/Cjwl4N0DVdE0XQ7bT9K1SWWa9tYt22d5FCyM2TnJAA/CvFf2iP2db+7+Eek+Evhh4d0F9KsrszTeH9TVzbyxsWZwjbwVYu2c7vWgDwj4T6X4I8M/wDBSTTNE+H11AdAt/Cl2xs7KQNbwuRFnaBwDx+leJWavN+w9qyLLJE0nxAhTzI2wy5uoBkHsa+rf2a/2W/FPhn4+D4j694e0nwTYWGlPpdjoemyGXd5gXc7Pvf+4vfvX0Kn7OPw1j8LyeHF8I2I0OS9GovZZfYbgMGEn3s5yqn8KAPjXxJ8PtC+Cf7YPwNm8MQPpQ17RZptYeBsNeMApLuR1Y8nJ714R8erjwt4y+GXjv4j+G/C1ra28WsyJF4t1bVzNq73akEKiGPKLkrjD9zX6uav8JfCGveJNC1/UNCtrrWNDiMGm3j7t9sh6qvOMcd64mb9j74O3GpapfS+BNPkn1QOLsFpNku/hiV34BPqBQB8/wDgKZ7j9trwZLIxeSTwHaszMckknJNdD/wUjvpF8C+CtL1G6ksPB+peIrW21i5jcoPLIk+Rm/ukZ49q+ktL+EPg7RfElp4gstAtrfWbS0FjBeKW3pAOkYyelaPjrwD4e+Jnhy40HxRpVvrOkXH+stbgHa3Xnggg8npQB8BaZ4X+H/w0/b7+Hdt4KmS30eDwzf3FxZ2LgxREW0pZ1UcBiB+grxr4r2/hnxD4C1/4g+GfCNjpUY1/ZbeJdR1XztVmuFudrBVMYKrgNgBjwBX6a+C/2afhn8PdR07UNA8JWVhf6esiW10pdnjEi7HGWY8FeOayW/Y/+Dsl1qtxJ4F0931Rt90C8u2RtwcnbvwDuAPAoA+QNW+H/hLVv29PAVz4iijK3fhyXVJrudwGa6AjZW3H0JOPrXlPxtk8GfEHwz8VPGfh/wAK20ltpeoCGXxXrusGTUEuVWPasEbR5VeU6P3Nfpd4k/Zx+HHi7VtB1PVfC1pd32hKqadOzOGgUYwoIYZHA656VkTfsh/CC41y/wBXk8Dae17fqVuW3SbZcrtJK7tuccdKAPh74ueDNU8e+IPhjqGn3Xhrx/qaeB7GW68F+IblRLGptoC08alW+YnnOP4q57xl8Rmvv2RvC+geG9DudB0uPxgula1pt3qbGDh4AYvtGwbYm3EfdwBng1+hviz9lv4W+N7HS7TWPCFncw6XAtrZ4eRGhiUABAysDgAAcntWvB8BPh9b/D9vBEfhWxHhVjubTcMUJ45zndngc5oA+HvhP8MbjS/in4h0iDT/AAn4S8Oah4af+0fC2i+IReSTEYdLgR+UmM7UBPfn1rvf+CXfhDwro/w31rU7KKC28RXGt6hDNHGwBMMcxCDb6AHj619O/Db9nj4d/CNr5/Cfhe00mW+Ty7iRGd2kX+6S7HjgdKn+H/wH8B/CzWtU1bwr4cttGv8AU5DLdywM/wC8YkknBYgZJPQUAd/RRRQAUUUUAFFFFABRRRQAUUUUAFFFFABRRRQAUUUUAFFFFABRRRQAUUUUAFFFFABRRRQAUUUUAFFFFABRRRQAUUUUAFFFFABRRRQAUUUUAFFFFABRRRQAUUUUAFFFFABRRRQAUUUUAfA/7PPjbRfgj+2l8ftE8bX8GhXvibUE1PSpbxwguIDJMQAT6Bhj61m+NPE2nfHL9uldc8FXSato/hHwheW2rXtqd0QkdJ9o3D/rotfY3xR/Z8+Hvxn8lvGPhez1qaH/AFU0u5XT6MpBq38P/gj4G+Fug3Wi+FvDdno+nXaslxDAGPmgjBDMSScj3oA/PX9nn4IeGNT/AGOfHnxGv7VrzxLHNq0FvcTNuECLdMMID0ztHT0rMaTT9c+Gv7JWgePLr7N8PL6wYzid9sFzcALtSTPDDO3g+tfpHovwd8GeHfA934N03w/a2nhi7aVp9Nj3eXIZGLSE855Yk9a8P/aY/Z31fWPAng/w78PfC+g6r4c0WXbJ4b1TcsfkgqVET71Kng9W9KAPCvgnb+FNJ/aw+OuleCb1Ljw7Z+A5lght5N8MJLREqmOAMk9K8p8O2r6h+xZ8FbZbia1abxlGnnW7lJFy3UMOhr6y/ZX/AGY/EPg34meMvGvi3RNL8OWmsaUNFt/D2nuZESDcjMWfe2clSOvevd7b9nf4cWfhrSvD8PhOxj0bSroX1lZgvsgnByHX5s5oA+PLfwd4e+Af7cmn2fhyCTRdCvvBM2o6nBZtsMrrHcM0nGPmwgIPqK+b/ib/AMI3qHw7s/iL4X8LWehW914lZbHxFd6ubjWLqb7Q4cMDGGVeHwNx4Ar9a9Q+FHhHVPGFv4qu9Ctp/ENvZtp8V++7etuQwMfXGCHbt3rhbX9jj4NWkmoNH4C04C+cyToWlKli28kDfgHcM8UAeNfC3/lIr8Sf+wFZ/wA56o/8FD5YNS8ZfBrw94ju3s/Auqa00eo/vNkc7CNysb9iMheDX1fpHwr8J6D4vu/FNholvbeILuFbefUFLeZJGudqnJxgbj+dL8Rfhd4V+LWgnRvF2i2+uabu3iC4zhWHQgggg/Q0AfAnhPS/Afwt/wCCg2sw+F5zF4ZsPA9zJJbWEmUt+bfcIwPuk+3pXjfjOz0VfCfgn4geFfCVh4Zh1DxRZ/Ydcl1X7Rq95m5jEnmZjVgMHkbj1Nfp/wCD/wBm/wCGvgHUoNR0LwlY2F/DayWS3Kl2fyXKl0JZjkEqvX0rBtv2Nvgzai4CeA9P2zzpcspeUqJEbcrAb8DDc8UAfJegfDvwLZ/t3eIrzXYUhSx8KrqsNyzhZTckxbnDdS21mArwX49XPhrxN8IfGHxL8K+F7XT4F1mYW3izUtXM2sS3QZjhVMYKLnoA5r9TfEH7Ofw58U+LtN8T6n4WtLrXdOiEFteMzh0jAwF4bBGPXNYMv7G/wauLrVZ5fAWnSHVA/wBrRml2Sb/vHbvwCfYUAfE3x48B6h4r+Lt5qum/8Iv8UjD4etzf+GdYu1W60xdmS0QKuVPOcgDrXOePPiT/AMJx8Efgvomg6LPb+ELjXptP1HSNY1VkglljaVPIe5KH93lTjK9gMV+hnjX9ln4WfEK4tJ9d8IWd5PaxLBFLvkjYRjopKsMj61saj8A/h9q3gOHwXdeFbGXwxCcx6dhgiHnkEHdnk8570AfCXgH4Y3Nnr3xf0S4t/C+heF30EXEvgvRNdF8bW4RZiJPL8tNqucAjH8Fe3f8ABM3wj4W8P/s+aTf6QkMOt6gbiTUY4mGSVuZEUle3yqo/Cvffh78AfAHws02/sfDHhm10u3v123e0u7TjnhmZie5qb4ZfA3wP8HDqP/CHeH7fQxqEhluFt2ch2JyThmOOfSgDu6KKKACiiigAooooAKKKKACiiigAooooAKKKKACiiigAooooAKKKKACiiigAooooAKKKKACiiigAooooAKKKKACiiigAooooAKKKKACiiigAooooAKKKKACiiigAooooAKKKKACiiigAooooAKKKKACiiigAooooAKKKKACiiigAooooAKKKKACiiigAooooAKKKKACiiigAooooAKKKKACiiigAooooAKKKKACiiigAooooAKKKKACiiigAooooAKKKKACiiigAooooAKKKKACiiigAooooAKKKKACiiigAooooAKKKKACiiigAooooAKKKKACiiigAooooAKKKKACiiigAooooAKKKKACiiigAooooAKKKKACiiigAooooAKKKKACiiigAooooAKKKKACiiigAooooAKKKKACiiigAooooAKKKKACiiigAooooAKKKKAP/2Q==)"
      ]
    },
    {
      "cell_type": "code",
      "metadata": {
        "colab": {
          "base_uri": "https://localhost:8080/"
        },
        "id": "FPnUeeRTuB-g",
        "outputId": "49b79e48-215b-4869-a3a2-d84da33a488e"
      },
      "source": [
        "from imblearn.over_sampling import SMOTE\n",
        "\n",
        "# create the  object with the desired sampling strategy.\n",
        "smote = SMOTE(sampling_strategy='minority')\n",
        "\n",
        "# fit the object to our training data\n",
        "X, y = smote.fit_sample(df.loc[:,df.columns!='stroke'], df['stroke'])\n",
        "print(\"Shape of X_Train: {}\".format(X.shape)) # every column except Stroke Column\n",
        "print(\"Shape of y_Train: {}\".format(y.shape)) # Only Stroke column"
      ],
      "execution_count": null,
      "outputs": [
        {
          "output_type": "stream",
          "name": "stdout",
          "text": [
            "Shape of X_Train: (9722, 10)\n",
            "Shape of y_Train: (9722,)\n"
          ]
        },
        {
          "output_type": "stream",
          "name": "stderr",
          "text": [
            "/usr/local/lib/python3.7/dist-packages/sklearn/utils/deprecation.py:87: FutureWarning: Function safe_indexing is deprecated; safe_indexing is deprecated in version 0.22 and will be removed in version 0.24.\n",
            "  warnings.warn(msg, category=FutureWarning)\n"
          ]
        }
      ]
    },
    {
      "cell_type": "code",
      "metadata": {
        "colab": {
          "base_uri": "https://localhost:8080/",
          "height": 299
        },
        "id": "kN4UPM8twzM8",
        "outputId": "26292ab9-fe2f-440e-8c69-828e4a4f63e8"
      },
      "source": [
        "_, class_counts = np.unique(y, return_counts=True)\n",
        "class_names = ['No stroke', 'Stroke']\n",
        "fig, ax = plt.subplots()\n",
        "ax.pie(class_counts, labels=class_names, autopct='%1.2f%%',\n",
        "        shadow=True, startangle=90, counterclock=False)\n",
        "ax.axis('equal')  # Equal aspect ratio ensures that pie is drawn as a circle.\n",
        "ax.set_title('Class distribution')\n",
        "plt.show()\n",
        "\n",
        "print(\"# samples associated with no stroke: {}\".format(class_counts[0]))\n",
        "print(\"# samples associated with stroke: {}\".format(class_counts[1]))"
      ],
      "execution_count": null,
      "outputs": [
        {
          "output_type": "display_data",
          "data": {
            "image/png": "[encoded data removed]",
            "text/plain": [
              "<Figure size 432x288 with 1 Axes>"
            ]
          },
          "metadata": {}
        },
        {
          "output_type": "stream",
          "name": "stdout",
          "text": [
            "# samples associated with no stroke: 4861\n",
            "# samples associated with stroke: 4861\n"
          ]
        }
      ]
    },
    {
      "cell_type": "markdown",
      "metadata": {
        "id": "2insuqmlyh_d"
      },
      "source": [
        "## Split Data into Train, Test and Validate"
      ]
    },
    {
      "cell_type": "code",
      "metadata": {
        "colab": {
          "base_uri": "https://localhost:8080/"
        },
        "id": "UcCvc9Wf3IPk",
        "outputId": "a01399a9-96fe-4406-f6ec-d7713861ea12"
      },
      "source": [
        "from sklearn.model_selection import train_test_split\n",
        "\n",
        "def split_train_valid_test(X,y,test_size=0.1,random_state=None):\n",
        "    X_train, X_test, y_train, y_test = train_test_split(X,y,test_size=test_size, random_state=random_state, stratify=y)\n",
        "    X_train, X_valid, y_train, y_valid = train_test_split(X_train,y_train,test_size=test_size/(1-test_size), random_state=random_state, stratify=y_train)\n",
        "    return X_train, X_valid, X_test, y_train, y_valid, y_test\n",
        "\n",
        "X_train, X_valid, X_test, y_train, y_valid, y_test = split_train_valid_test(X,y,test_size=0.1,random_state=42)\n",
        "_, train_counts = np.unique(y_train, return_counts=True)\n",
        "_, valid_counts = np.unique(y_valid, return_counts=True)\n",
        "_, test_counts = np.unique(y_test, return_counts=True)\n",
        "print(\"[train] # class 0: {} | # class 1: {}\".format(train_counts[0],train_counts[1]))\n",
        "print(\"[valid] # class 0: {} | # class 1: {}\".format(valid_counts[0],valid_counts[1]))\n",
        "print(\"[test]  # class 0: {} | # class 1: {}\".format(test_counts[0],test_counts[1]))"
      ],
      "execution_count": null,
      "outputs": [
        {
          "output_type": "stream",
          "name": "stdout",
          "text": [
            "[train] # class 0: 3888 | # class 1: 3888\n",
            "[valid] # class 0: 486 | # class 1: 487\n",
            "[test]  # class 0: 487 | # class 1: 486\n"
          ]
        }
      ]
    },
    {
      "cell_type": "markdown",
      "metadata": {
        "id": "i7wjLHs65Teq"
      },
      "source": [
        "## Normalization"
      ]
    },
    {
      "cell_type": "markdown",
      "metadata": {
        "id": "NlROG2QO5bnm"
      },
      "source": [
        "Normalization is a technique often applied as part of data preparation for machine learning. The goal of normalization is to change the values of numeric columns in the dataset to a common scale, without distorting differences in the ranges of values.\n",
        "\n",
        "[Why Normalization is necessary](https://medium.com/@urvashilluniya/why-data-normalization-is-necessary-for-machine-learning-models-681b65a05029)"
      ]
    },
    {
      "cell_type": "code",
      "metadata": {
        "id": "a7S_JN9dyhiB"
      },
      "source": [
        "scaler = StandardScaler()\n",
        "scaler = scaler.fit(X_train)\n",
        "\n",
        "X_train_std = scaler.transform(X_train)\n",
        "X_valid_std = scaler.transform(X_valid)\n",
        "X_test_std = scaler.transform(X_test)"
      ],
      "execution_count": null,
      "outputs": []
    },
    {
      "cell_type": "markdown",
      "metadata": {
        "id": "OHHMpF7j6Ixq"
      },
      "source": [
        "# ML Model Training and Evaluation\n"
      ]
    },
    {
      "cell_type": "markdown",
      "metadata": {
        "id": "A5aSvDSZ6OYJ"
      },
      "source": [
        "We will implement and benchmark the performance of the following 7 ML algorithms:\n",
        "\n",
        "1. Singular Vector Machine (SVM)\n",
        "2. Gaussian Naive Bayes (GNB)\n",
        "3. Logistic Regression (LR)\n",
        "4. Decision Tree (DT)\n",
        "5. Random Forest (RF)\n",
        "6. LightGBM (LGBM)\n",
        "7. XGboost (XGB)\n"
      ]
    },
    {
      "cell_type": "markdown",
      "metadata": {
        "id": "rI2Msdvh68uG"
      },
      "source": [
        "##Performance Metrics\n",
        "The peformance will be evaluated based on two different groups of metrics:\n",
        "\n",
        "1. Sensitivity, specificity, and area under the curve (AUC)\n",
        "2. Precision, recall, and F1 score"
      ]
    },
    {
      "cell_type": "code",
      "metadata": {
        "id": "AadXsXnP7ofU"
      },
      "source": [
        "def calc_sens_spec(y_true,y_pred):\n",
        "    conf_matrix = confusion_matrix(y_true,y_pred)\n",
        "    TP = conf_matrix[1][1]\n",
        "    TN = conf_matrix[0][0]\n",
        "    FP = conf_matrix[0][1]\n",
        "    FN = conf_matrix[1][0]\n",
        "\n",
        "    # calculate the sensitivity\n",
        "    sensitivity = TP / (TP + FN) \n",
        "\n",
        "    # calculate the specificity\n",
        "    specificity = TN / (TN + FP)\n",
        "    \n",
        "    return sensitivity,specificity"
      ],
      "execution_count": null,
      "outputs": []
    },
    {
      "cell_type": "markdown",
      "metadata": {
        "id": "-Eyg6pFF9DhS"
      },
      "source": [
        "## ML Models:"
      ]
    },
    {
      "cell_type": "markdown",
      "metadata": {
        "id": "qmpiPIU89aw9"
      },
      "source": [
        "### Singular Vector Machine (SVM)"
      ]
    },
    {
      "cell_type": "code",
      "metadata": {
        "colab": {
          "base_uri": "https://localhost:8080/"
        },
        "id": "4o6Feku-9dKs",
        "outputId": "b415a91a-dab8-42cb-e545-995944d13118"
      },
      "source": [
        "import time as timer\n",
        "from sklearn.svm import SVC\n",
        "\n",
        "start = timer.time()\n",
        "svm_model = SVC(kernel='rbf',probability=True)\n",
        "svm_model.fit(X_train_std, y_train)\n",
        "end = timer.time()\n",
        "\n",
        "print(\"Finished training within {:.2f} seconds\".format(end-start))\n",
        "\n",
        "# Predicting the test set results\n",
        "y_svm = svm_model.predict(X_test_std)\n",
        "y_svm_prob = svm_model.predict_proba(X_test_std)"
      ],
      "execution_count": null,
      "outputs": [
        {
          "output_type": "stream",
          "name": "stdout",
          "text": [
            "Finished training within 6.43 seconds\n"
          ]
        }
      ]
    },
    {
      "cell_type": "code",
      "metadata": {
        "colab": {
          "base_uri": "https://localhost:8080/",
          "height": 650
        },
        "id": "VPSc4WOZ9mM7",
        "outputId": "c1c9ca9e-1848-4d9e-dc40-05d4e0038ecb"
      },
      "source": [
        "from sklearn.metrics import classification_report,accuracy_score,confusion_matrix\n",
        "from sklearn.metrics import auc,roc_auc_score,roc_curve,precision_score,recall_score,f1_score\n",
        "\n",
        "\n",
        "print(\"Classification report for SVM: \\n{}\".format(classification_report(y_test,y_svm)))\n",
        "print(\"Confusion matrix for SVM: \\n{}\".format(confusion_matrix(y_test,y_svm)))\n",
        "print(\"Accuracy score for SVM: {:.2f}\".format(accuracy_score(y_test,y_svm)))\n",
        "\n",
        "# calculate precision, recall, and f1 scores\n",
        "prec_svm = precision_score(y_test,y_svm)\n",
        "rec_svm = recall_score(y_test,y_svm)\n",
        "f1_svm = f1_score(y_test,y_svm)\n",
        "print(\"Precision score for SVM: {:.2f}\".format(prec_svm))\n",
        "print(\"Recall score for SVM: {:.2f}\".format(rec_svm))\n",
        "print(\"F1 score for SVM: {:.2f}\".format(f1_svm))\n",
        "\n",
        "# calculate sensitivity, specificity, and auc\n",
        "sens_svm,spec_svm = calc_sens_spec(y_test,y_svm)\n",
        "fpr, tpr, _ = roc_curve(y_test,  y_svm_prob[:,1])\n",
        "auc_svm = roc_auc_score(y_test, y_svm_prob[:,1])\n",
        "print(\"Sensitivity score for SVM: {:.2f}\".format(sens_svm))\n",
        "print(\"Specitivity score for SVM: {:.2f}\".format(spec_svm))\n",
        "print(\"AUC score for SVM: {:.2f}\".format(auc_svm))\n",
        "\n",
        "# plotting Graph\n",
        "fig, ax = plt.subplots()\n",
        "ax.plot(fpr, tpr, color='blue', label='ROC curve (area = %0.2f)' % auc_svm)\n",
        "ax.plot([0, 1], [0, 1], color='green', linestyle='--')\n",
        "ax.set_xlim([-0.05, 1.0])\n",
        "ax.set_ylim([0.0, 1.05])\n",
        "ax.set_xlabel('False Positive Rate')\n",
        "ax.set_ylabel('True Positive Rate')\n",
        "ax.set_title('Receiver Operating Characteristic (SVM)')\n",
        "ax.legend(loc=\"lower right\")\n",
        "plt.show()"
      ],
      "execution_count": null,
      "outputs": [
        {
          "output_type": "stream",
          "name": "stdout",
          "text": [
            "Classification report for SVM: \n",
            "              precision    recall  f1-score   support\n",
            "\n",
            "           0       0.91      0.92      0.91       487\n",
            "           1       0.92      0.90      0.91       486\n",
            "\n",
            "    accuracy                           0.91       973\n",
            "   macro avg       0.91      0.91      0.91       973\n",
            "weighted avg       0.91      0.91      0.91       973\n",
            "\n",
            "Confusion matrix for SVM: \n",
            "[[449  38]\n",
            " [ 47 439]]\n",
            "Accuracy score for SVM: 0.91\n",
            "Precision score for SVM: 0.92\n",
            "Recall score for SVM: 0.90\n",
            "F1 score for SVM: 0.91\n",
            "Sensitivity score for SVM: 0.90\n",
            "Specitivity score for SVM: 0.92\n",
            "AUC score for SVM: 0.98\n"
          ]
        },
        {
          "output_type": "display_data",
          "data": {
            "image/png": "[encoded data removed]",
            "text/plain": [
              "<Figure size 432x288 with 1 Axes>"
            ]
          },
          "metadata": {
            "needs_background": "light"
          }
        }
      ]
    },
    {
      "cell_type": "markdown",
      "metadata": {
        "id": "1z2H-CIVB_si"
      },
      "source": [
        "###Gaussian Naive Bayes (GNB)"
      ]
    },
    {
      "cell_type": "code",
      "metadata": {
        "id": "Esba0905AqAY"
      },
      "source": [
        ""
      ],
      "execution_count": null,
      "outputs": []
    },
    {
      "cell_type": "markdown",
      "metadata": {
        "id": "jMemg7fCCFSD"
      },
      "source": [
        "###Logistic Regression (LR)"
      ]
    },
    {
      "cell_type": "code",
      "metadata": {
        "id": "CCIZvPFJAp-y"
      },
      "source": [
        ""
      ],
      "execution_count": null,
      "outputs": []
    },
    {
      "cell_type": "markdown",
      "metadata": {
        "id": "pR0jJ2WgC0b1"
      },
      "source": [
        "###Decision Tree (DT)"
      ]
    },
    {
      "cell_type": "code",
      "metadata": {
        "id": "l4M1WCemAp7Y"
      },
      "source": [
        ""
      ],
      "execution_count": null,
      "outputs": []
    },
    {
      "cell_type": "markdown",
      "metadata": {
        "id": "Lt9YnTWMC58j"
      },
      "source": [
        "###Random Forest (RF)"
      ]
    },
    {
      "cell_type": "code",
      "metadata": {
        "id": "NgIxCVAhAp5p"
      },
      "source": [
        ""
      ],
      "execution_count": null,
      "outputs": []
    },
    {
      "cell_type": "markdown",
      "metadata": {
        "id": "8GRN6R7CC-V6"
      },
      "source": [
        "###LightGBM (LGBM)"
      ]
    },
    {
      "cell_type": "code",
      "metadata": {
        "id": "PSnO6HTxAp2O"
      },
      "source": [
        ""
      ],
      "execution_count": null,
      "outputs": []
    },
    {
      "cell_type": "markdown",
      "metadata": {
        "id": "8OJZn-xqDBOS"
      },
      "source": [
        "###XGboost (XGB)"
      ]
    },
    {
      "cell_type": "code",
      "metadata": {
        "id": "qFsQ4b82Apzr"
      },
      "source": [
        ""
      ],
      "execution_count": null,
      "outputs": []
    },
    {
      "cell_type": "markdown",
      "metadata": {
        "id": "_m_Fq4wVDxBT"
      },
      "source": [
        "##Performance Benchmark Across Models"
      ]
    },
    {
      "cell_type": "code",
      "metadata": {
        "id": "aW1vae0zEIl6"
      },
      "source": [
        ""
      ],
      "execution_count": null,
      "outputs": []
    },
    {
      "cell_type": "markdown",
      "metadata": {
        "id": "bNwlotbJEJa7"
      },
      "source": [
        "\n",
        "##Selecting Most Important Features"
      ]
    }
  ]
}